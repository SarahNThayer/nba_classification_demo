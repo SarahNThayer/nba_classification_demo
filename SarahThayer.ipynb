{
 "cells": [
  {
   "cell_type": "markdown",
   "source": "# Predict Position of Player with Seasonal Stats\nAuthor: <b>Sarah Thayer</b>\n\nCourse Project, UC Irvine, Math 10, W22<br>",
   "metadata": {
    "cell_id": "b2256e20-d7f7-474b-baeb-e1958b1d4b38",
    "tags": [],
    "deepnote_cell_type": "markdown",
    "deepnote_cell_height": 156.796875
   }
  },
  {
   "cell_type": "markdown",
   "source": "## Introduction\n\nMy project is exploring two Kaggle Datasets of NBA stats to predict their listed position. \nTwo datasets are needed. One contains the players and their listed positions. The second contains season stats, height, and weight. We merge the two for a complete dataset.",
   "metadata": {
    "cell_id": "00003-a1a20160-f96e-4f97-95d5-eeb71e8b049f",
    "tags": [],
    "deepnote_cell_type": "markdown",
    "deepnote_cell_height": 130.796875
   }
  },
  {
   "cell_type": "markdown",
   "source": "## Main portion of the project\n\n(You can either have all one section or divide into multiple sections)",
   "metadata": {
    "cell_id": "00004-cda5d687-9081-4422-91ff-42fe175c4cb2",
    "tags": [],
    "deepnote_cell_type": "markdown",
    "deepnote_cell_height": 108.390625
   }
  },
  {
   "cell_type": "code",
   "metadata": {
    "cell_id": "00005-4c03d97a-8b75-4c55-aaf2-6138f91f8eab",
    "deepnote_to_be_reexecuted": false,
    "execution_millis": 373,
    "execution_start": 1647962232846,
    "source_hash": "7baafd37",
    "tags": [],
    "deepnote_cell_type": "code",
    "deepnote_cell_height": 117
   },
   "source": "import numpy as np\nimport pandas as pd\nimport altair as alt",
   "outputs": [],
   "execution_count": null
  },
  {
   "cell_type": "markdown",
   "source": "### Load First Dataset \n\nNBA Stats [found here](https://www.kaggle.com/mcamli/nba17-18?select=nba.csv). \nThe columns we are interested in extracting are `Player`, `Team`, `Pos`, `Age`.\n\nDisplay shape of the dataframe to confirm we have enough data points.",
   "metadata": {
    "cell_id": "00006-a9d8e676-1b16-47e5-b035-a4bba0b69e4a",
    "tags": [],
    "deepnote_cell_type": "markdown",
    "deepnote_cell_height": 136.796875
   }
  },
  {
   "cell_type": "code",
   "metadata": {
    "cell_id": "00007-a43403b4-05d4-4f1f-9e1d-8778383f9d85",
    "deepnote_to_be_reexecuted": false,
    "execution_millis": 78,
    "execution_start": 1647962233230,
    "source_hash": "ecd24b7f",
    "tags": [],
    "deepnote_cell_type": "code",
    "deepnote_cell_height": 447
   },
   "source": "df_position = pd.read_csv(\"nba.csv\", sep = ',' ,encoding = 'latin-1')\n\ndf_position = df_position.loc[:,df_position.columns.isin(['Player', 'Tm', 'Pos', 'Age']) ]\ndf_position.head()",
   "outputs": [
    {
     "output_type": "execute_result",
     "execution_count": 2,
     "data": {
      "application/vnd.deepnote.dataframe.v3+json": {
       "column_count": 4,
       "row_count": 5,
       "columns": [
        {
         "name": "Player",
         "dtype": "object",
         "stats": {
          "unique_count": 5,
          "nan_count": 0,
          "categories": [
           {
            "name": "Alex Abrines\\abrinal01",
            "count": 1
           },
           {
            "name": "Quincy Acy\\acyqu01",
            "count": 1
           },
           {
            "name": "3 others",
            "count": 3
           }
          ]
         }
        },
        {
         "name": "Pos",
         "dtype": "object",
         "stats": {
          "unique_count": 3,
          "nan_count": 0,
          "categories": [
           {
            "name": "SG",
            "count": 2
           },
           {
            "name": "C",
            "count": 2
           },
           {
            "name": "PF",
            "count": 1
           }
          ]
         }
        },
        {
         "name": "Age",
         "dtype": "int64",
         "stats": {
          "unique_count": 4,
          "nan_count": 0,
          "min": "20",
          "max": "32",
          "histogram": [
           {
            "bin_start": 20,
            "bin_end": 21.2,
            "count": 1
           },
           {
            "bin_start": 21.2,
            "bin_end": 22.4,
            "count": 0
           },
           {
            "bin_start": 22.4,
            "bin_end": 23.6,
            "count": 0
           },
           {
            "bin_start": 23.6,
            "bin_end": 24.8,
            "count": 2
           },
           {
            "bin_start": 24.8,
            "bin_end": 26,
            "count": 0
           },
           {
            "bin_start": 26,
            "bin_end": 27.2,
            "count": 1
           },
           {
            "bin_start": 27.2,
            "bin_end": 28.4,
            "count": 0
           },
           {
            "bin_start": 28.4,
            "bin_end": 29.6,
            "count": 0
           },
           {
            "bin_start": 29.6,
            "bin_end": 30.799999999999997,
            "count": 0
           },
           {
            "bin_start": 30.799999999999997,
            "bin_end": 32,
            "count": 1
           }
          ]
         }
        },
        {
         "name": "Tm",
         "dtype": "object",
         "stats": {
          "unique_count": 4,
          "nan_count": 0,
          "categories": [
           {
            "name": "OKC",
            "count": 2
           },
           {
            "name": "BRK",
            "count": 1
           },
           {
            "name": "2 others",
            "count": 2
           }
          ]
         }
        },
        {
         "name": "_deepnote_index_column",
         "dtype": "int64"
        }
       ],
       "rows": [
        {
         "Player": "Alex Abrines\\abrinal01",
         "Pos": "SG",
         "Age": 24,
         "Tm": "OKC",
         "_deepnote_index_column": 0
        },
        {
         "Player": "Quincy Acy\\acyqu01",
         "Pos": "PF",
         "Age": 27,
         "Tm": "BRK",
         "_deepnote_index_column": 1
        },
        {
         "Player": "Steven Adams\\adamsst01",
         "Pos": "C",
         "Age": 24,
         "Tm": "OKC",
         "_deepnote_index_column": 2
        },
        {
         "Player": "Bam Adebayo\\adebaba01",
         "Pos": "C",
         "Age": 20,
         "Tm": "MIA",
         "_deepnote_index_column": 3
        },
        {
         "Player": "Arron Afflalo\\afflaar01",
         "Pos": "SG",
         "Age": 32,
         "Tm": "ORL",
         "_deepnote_index_column": 4
        }
       ]
      },
      "text/plain": "                    Player Pos  Age   Tm\n0   Alex Abrines\\abrinal01  SG   24  OKC\n1       Quincy Acy\\acyqu01  PF   27  BRK\n2   Steven Adams\\adamsst01   C   24  OKC\n3    Bam Adebayo\\adebaba01   C   20  MIA\n4  Arron Afflalo\\afflaar01  SG   32  ORL",
      "text/html": "<div>\n<style scoped>\n    .dataframe tbody tr th:only-of-type {\n        vertical-align: middle;\n    }\n\n    .dataframe tbody tr th {\n        vertical-align: top;\n    }\n\n    .dataframe thead th {\n        text-align: right;\n    }\n</style>\n<table border=\"1\" class=\"dataframe\">\n  <thead>\n    <tr style=\"text-align: right;\">\n      <th></th>\n      <th>Player</th>\n      <th>Pos</th>\n      <th>Age</th>\n      <th>Tm</th>\n    </tr>\n  </thead>\n  <tbody>\n    <tr>\n      <th>0</th>\n      <td>Alex Abrines\\abrinal01</td>\n      <td>SG</td>\n      <td>24</td>\n      <td>OKC</td>\n    </tr>\n    <tr>\n      <th>1</th>\n      <td>Quincy Acy\\acyqu01</td>\n      <td>PF</td>\n      <td>27</td>\n      <td>BRK</td>\n    </tr>\n    <tr>\n      <th>2</th>\n      <td>Steven Adams\\adamsst01</td>\n      <td>C</td>\n      <td>24</td>\n      <td>OKC</td>\n    </tr>\n    <tr>\n      <th>3</th>\n      <td>Bam Adebayo\\adebaba01</td>\n      <td>C</td>\n      <td>20</td>\n      <td>MIA</td>\n    </tr>\n    <tr>\n      <th>4</th>\n      <td>Arron Afflalo\\afflaar01</td>\n      <td>SG</td>\n      <td>32</td>\n      <td>ORL</td>\n    </tr>\n  </tbody>\n</table>\n</div>"
     },
     "metadata": {}
    }
   ],
   "execution_count": null
  },
  {
   "cell_type": "code",
   "metadata": {
    "cell_id": "00008-1333a180-ad10-4817-aa31-54236ac01d64",
    "deepnote_to_be_reexecuted": false,
    "execution_millis": 4,
    "execution_start": 1647962233317,
    "source_hash": "e6cfef7e",
    "tags": [],
    "deepnote_cell_type": "code",
    "deepnote_cell_height": 118.1875,
    "deepnote_output_heights": [
     21.1875
    ]
   },
   "source": "df_position.shape",
   "outputs": [
    {
     "output_type": "execute_result",
     "execution_count": 3,
     "data": {
      "text/plain": "(664, 4)"
     },
     "metadata": {}
    }
   ],
   "execution_count": null
  },
  {
   "cell_type": "markdown",
   "source": "### Clean First Dataset\nRename column `TM` to `Team`.\n\nNBA Players have unique player id in `Player` column. Remove player ID to view names. ( i.e.\"Alex Abrines\\abrinal01\" remove the unique player id after the \"\\\\\")\n\nNBA players that have been traded mid-season appear twice. Drop `Player` duplicates from the dataframe and check shape. \n\n  ",
   "metadata": {
    "cell_id": "00009-0397849b-a027-4628-8f98-0889a4f2e7af",
    "tags": [],
    "deepnote_cell_type": "markdown",
    "deepnote_cell_height": 195.59375
   }
  },
  {
   "cell_type": "code",
   "metadata": {
    "cell_id": "00010-abad2e90-28a5-442d-a9a1-f2648907688d",
    "deepnote_to_be_reexecuted": false,
    "execution_millis": 32,
    "execution_start": 1647962233341,
    "source_hash": "df9dc630",
    "tags": [],
    "deepnote_cell_type": "code",
    "deepnote_cell_height": 519
   },
   "source": "df_position = df_position.rename(columns={'Tm' : 'Team'}) \n\ndf_position['Player'] = df_position['Player'].map(lambda x: x.split('\\\\')[0])\n\ndf_pos_unique = df_position[~df_position.duplicated(subset=['Player'])]\ndf_pos_unique.shape\n\ndf_pos_unique.head()",
   "outputs": [
    {
     "output_type": "execute_result",
     "execution_count": 4,
     "data": {
      "application/vnd.deepnote.dataframe.v3+json": {
       "column_count": 4,
       "row_count": 5,
       "columns": [
        {
         "name": "Player",
         "dtype": "object",
         "stats": {
          "unique_count": 5,
          "nan_count": 0,
          "categories": [
           {
            "name": "Alex Abrines",
            "count": 1
           },
           {
            "name": "Quincy Acy",
            "count": 1
           },
           {
            "name": "3 others",
            "count": 3
           }
          ]
         }
        },
        {
         "name": "Pos",
         "dtype": "object",
         "stats": {
          "unique_count": 3,
          "nan_count": 0,
          "categories": [
           {
            "name": "SG",
            "count": 2
           },
           {
            "name": "C",
            "count": 2
           },
           {
            "name": "PF",
            "count": 1
           }
          ]
         }
        },
        {
         "name": "Age",
         "dtype": "int64",
         "stats": {
          "unique_count": 4,
          "nan_count": 0,
          "min": "20",
          "max": "32",
          "histogram": [
           {
            "bin_start": 20,
            "bin_end": 21.2,
            "count": 1
           },
           {
            "bin_start": 21.2,
            "bin_end": 22.4,
            "count": 0
           },
           {
            "bin_start": 22.4,
            "bin_end": 23.6,
            "count": 0
           },
           {
            "bin_start": 23.6,
            "bin_end": 24.8,
            "count": 2
           },
           {
            "bin_start": 24.8,
            "bin_end": 26,
            "count": 0
           },
           {
            "bin_start": 26,
            "bin_end": 27.2,
            "count": 1
           },
           {
            "bin_start": 27.2,
            "bin_end": 28.4,
            "count": 0
           },
           {
            "bin_start": 28.4,
            "bin_end": 29.6,
            "count": 0
           },
           {
            "bin_start": 29.6,
            "bin_end": 30.799999999999997,
            "count": 0
           },
           {
            "bin_start": 30.799999999999997,
            "bin_end": 32,
            "count": 1
           }
          ]
         }
        },
        {
         "name": "Team",
         "dtype": "object",
         "stats": {
          "unique_count": 4,
          "nan_count": 0,
          "categories": [
           {
            "name": "OKC",
            "count": 2
           },
           {
            "name": "BRK",
            "count": 1
           },
           {
            "name": "2 others",
            "count": 2
           }
          ]
         }
        },
        {
         "name": "_deepnote_index_column",
         "dtype": "int64"
        }
       ],
       "rows": [
        {
         "Player": "Alex Abrines",
         "Pos": "SG",
         "Age": 24,
         "Team": "OKC",
         "_deepnote_index_column": 0
        },
        {
         "Player": "Quincy Acy",
         "Pos": "PF",
         "Age": 27,
         "Team": "BRK",
         "_deepnote_index_column": 1
        },
        {
         "Player": "Steven Adams",
         "Pos": "C",
         "Age": 24,
         "Team": "OKC",
         "_deepnote_index_column": 2
        },
        {
         "Player": "Bam Adebayo",
         "Pos": "C",
         "Age": 20,
         "Team": "MIA",
         "_deepnote_index_column": 3
        },
        {
         "Player": "Arron Afflalo",
         "Pos": "SG",
         "Age": 32,
         "Team": "ORL",
         "_deepnote_index_column": 4
        }
       ]
      },
      "text/plain": "          Player Pos  Age Team\n0   Alex Abrines  SG   24  OKC\n1     Quincy Acy  PF   27  BRK\n2   Steven Adams   C   24  OKC\n3    Bam Adebayo   C   20  MIA\n4  Arron Afflalo  SG   32  ORL",
      "text/html": "<div>\n<style scoped>\n    .dataframe tbody tr th:only-of-type {\n        vertical-align: middle;\n    }\n\n    .dataframe tbody tr th {\n        vertical-align: top;\n    }\n\n    .dataframe thead th {\n        text-align: right;\n    }\n</style>\n<table border=\"1\" class=\"dataframe\">\n  <thead>\n    <tr style=\"text-align: right;\">\n      <th></th>\n      <th>Player</th>\n      <th>Pos</th>\n      <th>Age</th>\n      <th>Team</th>\n    </tr>\n  </thead>\n  <tbody>\n    <tr>\n      <th>0</th>\n      <td>Alex Abrines</td>\n      <td>SG</td>\n      <td>24</td>\n      <td>OKC</td>\n    </tr>\n    <tr>\n      <th>1</th>\n      <td>Quincy Acy</td>\n      <td>PF</td>\n      <td>27</td>\n      <td>BRK</td>\n    </tr>\n    <tr>\n      <th>2</th>\n      <td>Steven Adams</td>\n      <td>C</td>\n      <td>24</td>\n      <td>OKC</td>\n    </tr>\n    <tr>\n      <th>3</th>\n      <td>Bam Adebayo</td>\n      <td>C</td>\n      <td>20</td>\n      <td>MIA</td>\n    </tr>\n    <tr>\n      <th>4</th>\n      <td>Arron Afflalo</td>\n      <td>SG</td>\n      <td>32</td>\n      <td>ORL</td>\n    </tr>\n  </tbody>\n</table>\n</div>"
     },
     "metadata": {}
    }
   ],
   "execution_count": null
  },
  {
   "cell_type": "markdown",
   "source": "### Load Second Dataset\n\nNBA stats [found here](https://www.kaggle.com/jacobbaruch/basketball-players-stats-per-season-49-leagues).\n\nLarge dataset of 20 years of stats form 49 differrent leagues. Parse dataframe for the the relevant data in the NBA league during the 2017 - 2018 regular season. Then our new dataframe contains height and weight.",
   "metadata": {
    "cell_id": "00011-5315ef4c-537e-4319-8060-70021e02ae8c",
    "tags": [],
    "deepnote_cell_type": "markdown",
    "deepnote_cell_height": 159.1875
   }
  },
  {
   "cell_type": "code",
   "metadata": {
    "cell_id": "00012-606b55c9-7d00-4c94-ba97-abb01d7d1250",
    "deepnote_to_be_reexecuted": false,
    "execution_millis": 388,
    "execution_start": 1647962233378,
    "source_hash": "d4c4389a",
    "tags": [],
    "deepnote_cell_type": "code",
    "deepnote_cell_height": 244.1875,
    "deepnote_output_heights": [
     21.1875
    ]
   },
   "source": "df = pd.read_csv(\"players_stats_by_season_full_details.csv\",  encoding='latin-1' ) \n\ndf= df[(df[\"League\"] == 'NBA') &  (df[\"Season\"] == '2017 - 2018') & (df[\"Stage\"] == 'Regular_Season')] \n\ndf_hw = df.loc[:,~df.columns.isin(['Rk', 'League', 'Season', 'Stage', 'birth_month', 'birth_date', 'height', 'weight',\n                                  'nationality', 'high_school', 'draft_round', 'draft_pick', 'draft_team'])]\n\ndf_hw.shape",
   "outputs": [
    {
     "output_type": "execute_result",
     "execution_count": 5,
     "data": {
      "text/plain": "(279, 22)"
     },
     "metadata": {}
    }
   ],
   "execution_count": null
  },
  {
   "cell_type": "markdown",
   "source": "### Clean Second Dataset\nDrop duplicates from dataframe with `Player` from the dataframe containing height and weight.",
   "metadata": {
    "cell_id": "00013-a89048b9-ba0b-45bb-82b5-b061a8b3a10a",
    "tags": [],
    "deepnote_cell_type": "markdown",
    "deepnote_cell_height": 100.390625
   }
  },
  {
   "cell_type": "code",
   "metadata": {
    "cell_id": "00014-4ede4b38-324e-4ebd-a9c7-0a96ef8d0b47",
    "deepnote_to_be_reexecuted": false,
    "execution_millis": 15,
    "execution_start": 1647962233775,
    "source_hash": "cdad2990",
    "tags": [],
    "deepnote_cell_type": "code",
    "deepnote_cell_height": 136.1875,
    "deepnote_output_heights": [
     21.1875
    ]
   },
   "source": "df_hw_unique = df_hw[~df_hw.duplicated(subset=['Player'])]\ndf_hw_unique.shape",
   "outputs": [
    {
     "output_type": "execute_result",
     "execution_count": 6,
     "data": {
      "text/plain": "(279, 22)"
     },
     "metadata": {}
    }
   ],
   "execution_count": null
  },
  {
   "cell_type": "markdown",
   "source": "### Prepare Merged Data\n- Merge First and Second Dataset \n- Encode the NBA listed positions \n\n\nConfirm it's the same player by matching name and team.",
   "metadata": {
    "cell_id": "00015-922b9c59-6058-48e9-88e3-6899bf26d739",
    "tags": [],
    "deepnote_cell_type": "markdown",
    "deepnote_cell_height": 162.1875
   }
  },
  {
   "cell_type": "code",
   "metadata": {
    "cell_id": "00016-2a68f3b4-040b-417c-9a6e-6cbede8842f2",
    "deepnote_to_be_reexecuted": false,
    "execution_millis": 33,
    "execution_start": 1647962233793,
    "source_hash": "740dde1b",
    "tags": [],
    "deepnote_cell_type": "code",
    "deepnote_cell_height": 81
   },
   "source": "df_merged = pd.merge(df_pos_unique,df_hw_unique, on = ['Player','Team'])",
   "outputs": [],
   "execution_count": null
  },
  {
   "cell_type": "markdown",
   "source": "### Encoding\nEncode the positions (`strings`) into numbers (`ints`).",
   "metadata": {
    "cell_id": "00017-1bba0ede-d49c-4805-8334-81fcc9c19e97",
    "tags": [],
    "deepnote_cell_type": "markdown",
    "deepnote_cell_height": 100.390625
   }
  },
  {
   "cell_type": "code",
   "metadata": {
    "cell_id": "00018-51e61869-b4fb-42bc-9ffe-dc5a85f7e726",
    "deepnote_to_be_reexecuted": false,
    "execution_millis": 147,
    "execution_start": 1647962233854,
    "source_hash": "ba6b93ed",
    "tags": [],
    "deepnote_cell_type": "code",
    "deepnote_cell_height": 634
   },
   "source": "enc = {'PG' : 1, 'SG' : 2,  'SF': 3, 'PF': 4, 'C':5}\ndf_merged[\"Pos_enc\"] = df_merged[\"Pos\"].map(enc)\ndf_merged",
   "outputs": [
    {
     "output_type": "execute_result",
     "execution_count": 8,
     "data": {
      "application/vnd.deepnote.dataframe.v3+json": {
       "column_count": 25,
       "row_count": 234,
       "columns": [
        {
         "name": "Player",
         "dtype": "object",
         "stats": {
          "unique_count": 234,
          "nan_count": 0,
          "categories": [
           {
            "name": "Alex Abrines",
            "count": 1
           },
           {
            "name": "Quincy Acy",
            "count": 1
           },
           {
            "name": "232 others",
            "count": 232
           }
          ]
         }
        },
        {
         "name": "Pos",
         "dtype": "object",
         "stats": {
          "unique_count": 5,
          "nan_count": 0,
          "categories": [
           {
            "name": "SG",
            "count": 56
           },
           {
            "name": "C",
            "count": 55
           },
           {
            "name": "3 others",
            "count": 123
           }
          ]
         }
        },
        {
         "name": "Age",
         "dtype": "int64",
         "stats": {
          "unique_count": 22,
          "nan_count": 0,
          "min": "19",
          "max": "41",
          "histogram": [
           {
            "bin_start": 19,
            "bin_end": 21.2,
            "count": 28
           },
           {
            "bin_start": 21.2,
            "bin_end": 23.4,
            "count": 35
           },
           {
            "bin_start": 23.4,
            "bin_end": 25.6,
            "count": 40
           },
           {
            "bin_start": 25.6,
            "bin_end": 27.8,
            "count": 36
           },
           {
            "bin_start": 27.8,
            "bin_end": 30,
            "count": 35
           },
           {
            "bin_start": 30,
            "bin_end": 32.2,
            "count": 40
           },
           {
            "bin_start": 32.2,
            "bin_end": 34.400000000000006,
            "count": 10
           },
           {
            "bin_start": 34.400000000000006,
            "bin_end": 36.6,
            "count": 4
           },
           {
            "bin_start": 36.6,
            "bin_end": 38.8,
            "count": 3
           },
           {
            "bin_start": 38.8,
            "bin_end": 41,
            "count": 3
           }
          ]
         }
        },
        {
         "name": "Team",
         "dtype": "object",
         "stats": {
          "unique_count": 28,
          "nan_count": 0,
          "categories": [
           {
            "name": "GSW",
            "count": 13
           },
           {
            "name": "SAS",
            "count": 12
           },
           {
            "name": "26 others",
            "count": 209
           }
          ]
         }
        },
        {
         "name": "GP",
         "dtype": "int64",
         "stats": {
          "unique_count": 34,
          "nan_count": 0,
          "min": "41",
          "max": "82",
          "histogram": [
           {
            "bin_start": 41,
            "bin_end": 45.1,
            "count": 1
           },
           {
            "bin_start": 45.1,
            "bin_end": 49.2,
            "count": 1
           },
           {
            "bin_start": 49.2,
            "bin_end": 53.3,
            "count": 4
           },
           {
            "bin_start": 53.3,
            "bin_end": 57.4,
            "count": 10
           },
           {
            "bin_start": 57.4,
            "bin_end": 61.5,
            "count": 17
           },
           {
            "bin_start": 61.5,
            "bin_end": 65.6,
            "count": 21
           },
           {
            "bin_start": 65.6,
            "bin_end": 69.69999999999999,
            "count": 28
           },
           {
            "bin_start": 69.69999999999999,
            "bin_end": 73.8,
            "count": 38
           },
           {
            "bin_start": 73.8,
            "bin_end": 77.9,
            "count": 51
           },
           {
            "bin_start": 77.9,
            "bin_end": 82,
            "count": 63
           }
          ]
         }
        },
        {
         "name": "MIN",
         "dtype": "float64",
         "stats": {
          "unique_count": 234,
          "nan_count": 0,
          "min": "521.5",
          "max": "3025.8",
          "histogram": [
           {
            "bin_start": 521.5,
            "bin_end": 771.9300000000001,
            "count": 9
           },
           {
            "bin_start": 771.9300000000001,
            "bin_end": 1022.36,
            "count": 17
           },
           {
            "bin_start": 1022.36,
            "bin_end": 1272.79,
            "count": 23
           },
           {
            "bin_start": 1272.79,
            "bin_end": 1523.22,
            "count": 34
           },
           {
            "bin_start": 1523.22,
            "bin_end": 1773.65,
            "count": 35
           },
           {
            "bin_start": 1773.65,
            "bin_end": 2024.08,
            "count": 28
           },
           {
            "bin_start": 2024.08,
            "bin_end": 2274.51,
            "count": 35
           },
           {
            "bin_start": 2274.51,
            "bin_end": 2524.94,
            "count": 26
           },
           {
            "bin_start": 2524.94,
            "bin_end": 2775.37,
            "count": 19
           },
           {
            "bin_start": 2775.37,
            "bin_end": 3025.8,
            "count": 8
           }
          ]
         }
        },
        {
         "name": "FGM",
         "dtype": "int64",
         "stats": {
          "unique_count": 184,
          "nan_count": 0,
          "min": "50",
          "max": "857",
          "histogram": [
           {
            "bin_start": 50,
            "bin_end": 130.7,
            "count": 31
           },
           {
            "bin_start": 130.7,
            "bin_end": 211.4,
            "count": 51
           },
           {
            "bin_start": 211.4,
            "bin_end": 292.1,
            "count": 46
           },
           {
            "bin_start": 292.1,
            "bin_end": 372.8,
            "count": 42
           },
           {
            "bin_start": 372.8,
            "bin_end": 453.5,
            "count": 31
           },
           {
            "bin_start": 453.5,
            "bin_end": 534.2,
            "count": 12
           },
           {
            "bin_start": 534.2,
            "bin_end": 614.9,
            "count": 8
           },
           {
            "bin_start": 614.9,
            "bin_end": 695.6,
            "count": 9
           },
           {
            "bin_start": 695.6,
            "bin_end": 776.3000000000001,
            "count": 2
           },
           {
            "bin_start": 776.3000000000001,
            "bin_end": 857,
            "count": 2
           }
          ]
         }
        },
        {
         "name": "FGA",
         "dtype": "int64",
         "stats": {
          "unique_count": 210,
          "nan_count": 0,
          "min": "120",
          "max": "1687",
          "histogram": [
           {
            "bin_start": 120,
            "bin_end": 276.7,
            "count": 30
           },
           {
            "bin_start": 276.7,
            "bin_end": 433.4,
            "count": 43
           },
           {
            "bin_start": 433.4,
            "bin_end": 590.0999999999999,
            "count": 44
           },
           {
            "bin_start": 590.0999999999999,
            "bin_end": 746.8,
            "count": 39
           },
           {
            "bin_start": 746.8,
            "bin_end": 903.5,
            "count": 39
           },
           {
            "bin_start": 903.5,
            "bin_end": 1060.1999999999998,
            "count": 14
           },
           {
            "bin_start": 1060.1999999999998,
            "bin_end": 1216.8999999999999,
            "count": 8
           },
           {
            "bin_start": 1216.8999999999999,
            "bin_end": 1373.6,
            "count": 9
           },
           {
            "bin_start": 1373.6,
            "bin_end": 1530.3,
            "count": 6
           },
           {
            "bin_start": 1530.3,
            "bin_end": 1687,
            "count": 2
           }
          ]
         }
        },
        {
         "name": "3PM",
         "dtype": "int64",
         "stats": {
          "unique_count": 136,
          "nan_count": 0,
          "min": "0",
          "max": "265",
          "histogram": [
           {
            "bin_start": 0,
            "bin_end": 26.5,
            "count": 60
           },
           {
            "bin_start": 26.5,
            "bin_end": 53,
            "count": 38
           },
           {
            "bin_start": 53,
            "bin_end": 79.5,
            "count": 33
           },
           {
            "bin_start": 79.5,
            "bin_end": 106,
            "count": 23
           },
           {
            "bin_start": 106,
            "bin_end": 132.5,
            "count": 30
           },
           {
            "bin_start": 132.5,
            "bin_end": 159,
            "count": 22
           },
           {
            "bin_start": 159,
            "bin_end": 185.5,
            "count": 13
           },
           {
            "bin_start": 185.5,
            "bin_end": 212,
            "count": 7
           },
           {
            "bin_start": 212,
            "bin_end": 238.5,
            "count": 6
           },
           {
            "bin_start": 238.5,
            "bin_end": 265,
            "count": 2
           }
          ]
         }
        },
        {
         "name": "3PA",
         "dtype": "int64",
         "stats": {
          "unique_count": 179,
          "nan_count": 0,
          "min": "0",
          "max": "722",
          "histogram": [
           {
            "bin_start": 0,
            "bin_end": 72.2,
            "count": 58
           },
           {
            "bin_start": 72.2,
            "bin_end": 144.4,
            "count": 36
           },
           {
            "bin_start": 144.4,
            "bin_end": 216.60000000000002,
            "count": 33
           },
           {
            "bin_start": 216.60000000000002,
            "bin_end": 288.8,
            "count": 33
           },
           {
            "bin_start": 288.8,
            "bin_end": 361,
            "count": 31
           },
           {
            "bin_start": 361,
            "bin_end": 433.20000000000005,
            "count": 21
           },
           {
            "bin_start": 433.20000000000005,
            "bin_end": 505.40000000000003,
            "count": 10
           },
           {
            "bin_start": 505.40000000000003,
            "bin_end": 577.6,
            "count": 6
           },
           {
            "bin_start": 577.6,
            "bin_end": 649.8000000000001,
            "count": 5
           },
           {
            "bin_start": 649.8000000000001,
            "bin_end": 722,
            "count": 1
           }
          ]
         }
        },
        {
         "name": "FTM",
         "dtype": "int64",
         "stats": {
          "unique_count": 153,
          "nan_count": 0,
          "min": "6",
          "max": "624",
          "histogram": [
           {
            "bin_start": 6,
            "bin_end": 67.8,
            "count": 81
           },
           {
            "bin_start": 67.8,
            "bin_end": 129.6,
            "count": 71
           },
           {
            "bin_start": 129.6,
            "bin_end": 191.39999999999998,
            "count": 40
           },
           {
            "bin_start": 191.39999999999998,
            "bin_end": 253.2,
            "count": 20
           },
           {
            "bin_start": 253.2,
            "bin_end": 315,
            "count": 7
           },
           {
            "bin_start": 315,
            "bin_end": 376.79999999999995,
            "count": 7
           },
           {
            "bin_start": 376.79999999999995,
            "bin_end": 438.59999999999997,
            "count": 3
           },
           {
            "bin_start": 438.59999999999997,
            "bin_end": 500.4,
            "count": 4
           },
           {
            "bin_start": 500.4,
            "bin_end": 562.1999999999999,
            "count": 0
           },
           {
            "bin_start": 562.1999999999999,
            "bin_end": 624,
            "count": 1
           }
          ]
         }
        },
        {
         "name": "FTA",
         "dtype": "int64",
         "stats": {
          "unique_count": 172,
          "nan_count": 0,
          "min": "10",
          "max": "727",
          "histogram": [
           {
            "bin_start": 10,
            "bin_end": 81.7,
            "count": 71
           },
           {
            "bin_start": 81.7,
            "bin_end": 153.4,
            "count": 68
           },
           {
            "bin_start": 153.4,
            "bin_end": 225.10000000000002,
            "count": 43
           },
           {
            "bin_start": 225.10000000000002,
            "bin_end": 296.8,
            "count": 23
           },
           {
            "bin_start": 296.8,
            "bin_end": 368.5,
            "count": 12
           },
           {
            "bin_start": 368.5,
            "bin_end": 440.20000000000005,
            "count": 8
           },
           {
            "bin_start": 440.20000000000005,
            "bin_end": 511.90000000000003,
            "count": 2
           },
           {
            "bin_start": 511.90000000000003,
            "bin_end": 583.6,
            "count": 4
           },
           {
            "bin_start": 583.6,
            "bin_end": 655.3000000000001,
            "count": 2
           },
           {
            "bin_start": 655.3000000000001,
            "bin_end": 727,
            "count": 1
           }
          ]
         }
        },
        {
         "name": "TOV",
         "dtype": "int64",
         "stats": {
          "unique_count": 135,
          "nan_count": 0,
          "min": "11",
          "max": "381",
          "histogram": [
           {
            "bin_start": 11,
            "bin_end": 48,
            "count": 42
           },
           {
            "bin_start": 48,
            "bin_end": 85,
            "count": 66
           },
           {
            "bin_start": 85,
            "bin_end": 122,
            "count": 57
           },
           {
            "bin_start": 122,
            "bin_end": 159,
            "count": 36
           },
           {
            "bin_start": 159,
            "bin_end": 196,
            "count": 14
           },
           {
            "bin_start": 196,
            "bin_end": 233,
            "count": 13
           },
           {
            "bin_start": 233,
            "bin_end": 270,
            "count": 2
           },
           {
            "bin_start": 270,
            "bin_end": 307,
            "count": 1
           },
           {
            "bin_start": 307,
            "bin_end": 344,
            "count": 1
           },
           {
            "bin_start": 344,
            "bin_end": 381,
            "count": 2
           }
          ]
         }
        },
        {
         "name": "PF",
         "dtype": "int64",
         "stats": {
          "unique_count": 130,
          "nan_count": 0,
          "min": "36",
          "max": "285",
          "histogram": [
           {
            "bin_start": 36,
            "bin_end": 60.9,
            "count": 7
           },
           {
            "bin_start": 60.9,
            "bin_end": 85.8,
            "count": 16
           },
           {
            "bin_start": 85.8,
            "bin_end": 110.69999999999999,
            "count": 33
           },
           {
            "bin_start": 110.69999999999999,
            "bin_end": 135.6,
            "count": 53
           },
           {
            "bin_start": 135.6,
            "bin_end": 160.5,
            "count": 46
           },
           {
            "bin_start": 160.5,
            "bin_end": 185.39999999999998,
            "count": 36
           },
           {
            "bin_start": 185.39999999999998,
            "bin_end": 210.29999999999998,
            "count": 22
           },
           {
            "bin_start": 210.29999999999998,
            "bin_end": 235.2,
            "count": 15
           },
           {
            "bin_start": 235.2,
            "bin_end": 260.1,
            "count": 3
           },
           {
            "bin_start": 260.1,
            "bin_end": 285,
            "count": 3
           }
          ]
         }
        },
        {
         "name": "ORB",
         "dtype": "int64",
         "stats": {
          "unique_count": 123,
          "nan_count": 0,
          "min": "6",
          "max": "399",
          "histogram": [
           {
            "bin_start": 6,
            "bin_end": 45.3,
            "count": 102
           },
           {
            "bin_start": 45.3,
            "bin_end": 84.6,
            "count": 62
           },
           {
            "bin_start": 84.6,
            "bin_end": 123.89999999999999,
            "count": 30
           },
           {
            "bin_start": 123.89999999999999,
            "bin_end": 163.2,
            "count": 18
           },
           {
            "bin_start": 163.2,
            "bin_end": 202.5,
            "count": 15
           },
           {
            "bin_start": 202.5,
            "bin_end": 241.79999999999998,
            "count": 2
           },
           {
            "bin_start": 241.79999999999998,
            "bin_end": 281.09999999999997,
            "count": 2
           },
           {
            "bin_start": 281.09999999999997,
            "bin_end": 320.4,
            "count": 0
           },
           {
            "bin_start": 320.4,
            "bin_end": 359.7,
            "count": 1
           },
           {
            "bin_start": 359.7,
            "bin_end": 399,
            "count": 2
           }
          ]
         }
        },
        {
         "name": "DRB",
         "dtype": "int64",
         "stats": {
          "unique_count": 188,
          "nan_count": 0,
          "min": "28",
          "max": "848",
          "histogram": [
           {
            "bin_start": 28,
            "bin_end": 110,
            "count": 22
           },
           {
            "bin_start": 110,
            "bin_end": 192,
            "count": 68
           },
           {
            "bin_start": 192,
            "bin_end": 274,
            "count": 58
           },
           {
            "bin_start": 274,
            "bin_end": 356,
            "count": 36
           },
           {
            "bin_start": 356,
            "bin_end": 438,
            "count": 29
           },
           {
            "bin_start": 438,
            "bin_end": 520,
            "count": 11
           },
           {
            "bin_start": 520,
            "bin_end": 602,
            "count": 3
           },
           {
            "bin_start": 602,
            "bin_end": 684,
            "count": 4
           },
           {
            "bin_start": 684,
            "bin_end": 766,
            "count": 0
           },
           {
            "bin_start": 766,
            "bin_end": 848,
            "count": 3
           }
          ]
         }
        },
        {
         "name": "REB",
         "dtype": "int64",
         "stats": {
          "unique_count": 197,
          "nan_count": 0,
          "min": "47",
          "max": "1247",
          "histogram": [
           {
            "bin_start": 47,
            "bin_end": 167,
            "count": 45
           },
           {
            "bin_start": 167,
            "bin_end": 287,
            "count": 74
           },
           {
            "bin_start": 287,
            "bin_end": 407,
            "count": 50
           },
           {
            "bin_start": 407,
            "bin_end": 527,
            "count": 35
           },
           {
            "bin_start": 527,
            "bin_end": 647,
            "count": 14
           },
           {
            "bin_start": 647,
            "bin_end": 767,
            "count": 8
           },
           {
            "bin_start": 767,
            "bin_end": 887,
            "count": 5
           },
           {
            "bin_start": 887,
            "bin_end": 1007,
            "count": 0
           },
           {
            "bin_start": 1007,
            "bin_end": 1127,
            "count": 1
           },
           {
            "bin_start": 1127,
            "bin_end": 1247,
            "count": 2
           }
          ]
         }
        },
        {
         "name": "AST",
         "dtype": "int64",
         "stats": {
          "unique_count": 175,
          "nan_count": 0,
          "min": "13",
          "max": "820",
          "histogram": [
           {
            "bin_start": 13,
            "bin_end": 93.7,
            "count": 78
           },
           {
            "bin_start": 93.7,
            "bin_end": 174.4,
            "count": 73
           },
           {
            "bin_start": 174.4,
            "bin_end": 255.10000000000002,
            "count": 34
           },
           {
            "bin_start": 255.10000000000002,
            "bin_end": 335.8,
            "count": 20
           },
           {
            "bin_start": 335.8,
            "bin_end": 416.5,
            "count": 12
           },
           {
            "bin_start": 416.5,
            "bin_end": 497.20000000000005,
            "count": 9
           },
           {
            "bin_start": 497.20000000000005,
            "bin_end": 577.9,
            "count": 4
           },
           {
            "bin_start": 577.9,
            "bin_end": 658.6,
            "count": 1
           },
           {
            "bin_start": 658.6,
            "bin_end": 739.3000000000001,
            "count": 1
           },
           {
            "bin_start": 739.3000000000001,
            "bin_end": 820,
            "count": 2
           }
          ]
         }
        },
        {
         "name": "STL",
         "dtype": "int64",
         "stats": {
          "unique_count": 91,
          "nan_count": 0,
          "min": "11",
          "max": "177",
          "histogram": [
           {
            "bin_start": 11,
            "bin_end": 27.6,
            "count": 28
           },
           {
            "bin_start": 27.6,
            "bin_end": 44.2,
            "count": 71
           },
           {
            "bin_start": 44.2,
            "bin_end": 60.800000000000004,
            "count": 46
           },
           {
            "bin_start": 60.800000000000004,
            "bin_end": 77.4,
            "count": 33
           },
           {
            "bin_start": 77.4,
            "bin_end": 94,
            "count": 26
           },
           {
            "bin_start": 94,
            "bin_end": 110.60000000000001,
            "count": 11
           },
           {
            "bin_start": 110.60000000000001,
            "bin_end": 127.20000000000002,
            "count": 13
           },
           {
            "bin_start": 127.20000000000002,
            "bin_end": 143.8,
            "count": 3
           },
           {
            "bin_start": 143.8,
            "bin_end": 160.4,
            "count": 1
           },
           {
            "bin_start": 160.4,
            "bin_end": 177,
            "count": 2
           }
          ]
         }
        },
        {
         "name": "BLK",
         "dtype": "int64",
         "stats": {
          "unique_count": 93,
          "nan_count": 0,
          "min": "0",
          "max": "193",
          "histogram": [
           {
            "bin_start": 0,
            "bin_end": 19.3,
            "count": 85
           },
           {
            "bin_start": 19.3,
            "bin_end": 38.6,
            "count": 63
           },
           {
            "bin_start": 38.6,
            "bin_end": 57.900000000000006,
            "count": 40
           },
           {
            "bin_start": 57.900000000000006,
            "bin_end": 77.2,
            "count": 18
           },
           {
            "bin_start": 77.2,
            "bin_end": 96.5,
            "count": 12
           },
           {
            "bin_start": 96.5,
            "bin_end": 115.80000000000001,
            "count": 10
           },
           {
            "bin_start": 115.80000000000001,
            "bin_end": 135.1,
            "count": 4
           },
           {
            "bin_start": 135.1,
            "bin_end": 154.4,
            "count": 1
           },
           {
            "bin_start": 154.4,
            "bin_end": 173.70000000000002,
            "count": 0
           },
           {
            "bin_start": 173.70000000000002,
            "bin_end": 193,
            "count": 1
           }
          ]
         }
        },
        {
         "name": "PTS",
         "dtype": "int64",
         "stats": {
          "unique_count": 213,
          "nan_count": 0,
          "min": "143",
          "max": "2251",
          "histogram": [
           {
            "bin_start": 143,
            "bin_end": 353.8,
            "count": 31
           },
           {
            "bin_start": 353.8,
            "bin_end": 564.6,
            "count": 52
           },
           {
            "bin_start": 564.6,
            "bin_end": 775.4000000000001,
            "count": 42
           },
           {
            "bin_start": 775.4000000000001,
            "bin_end": 986.2,
            "count": 46
           },
           {
            "bin_start": 986.2,
            "bin_end": 1197,
            "count": 26
           },
           {
            "bin_start": 1197,
            "bin_end": 1407.8000000000002,
            "count": 15
           },
           {
            "bin_start": 1407.8000000000002,
            "bin_end": 1618.6000000000001,
            "count": 7
           },
           {
            "bin_start": 1618.6000000000001,
            "bin_end": 1829.4,
            "count": 7
           },
           {
            "bin_start": 1829.4,
            "bin_end": 2040.2,
            "count": 5
           },
           {
            "bin_start": 2040.2,
            "bin_end": 2251,
            "count": 3
           }
          ]
         }
        },
        {
         "name": "birth_year",
         "dtype": "float64",
         "stats": {
          "unique_count": 21,
          "nan_count": 0,
          "min": "1977.0",
          "max": "1998.0",
          "histogram": [
           {
            "bin_start": 1977,
            "bin_end": 1979.1,
            "count": 3
           },
           {
            "bin_start": 1979.1,
            "bin_end": 1981.2,
            "count": 6
           },
           {
            "bin_start": 1981.2,
            "bin_end": 1983.3,
            "count": 2
           },
           {
            "bin_start": 1983.3,
            "bin_end": 1985.4,
            "count": 19
           },
           {
            "bin_start": 1985.4,
            "bin_end": 1987.5,
            "count": 29
           },
           {
            "bin_start": 1987.5,
            "bin_end": 1989.6,
            "count": 35
           },
           {
            "bin_start": 1989.6,
            "bin_end": 1991.7,
            "count": 36
           },
           {
            "bin_start": 1991.7,
            "bin_end": 1993.8,
            "count": 40
           },
           {
            "bin_start": 1993.8,
            "bin_end": 1995.9,
            "count": 35
           },
           {
            "bin_start": 1995.9,
            "bin_end": 1998,
            "count": 29
           }
          ]
         }
        },
        {
         "name": "height_cm",
         "dtype": "float64",
         "stats": {
          "unique_count": 16,
          "nan_count": 0,
          "min": "180.0",
          "max": "218.0",
          "histogram": [
           {
            "bin_start": 180,
            "bin_end": 183.8,
            "count": 9
           },
           {
            "bin_start": 183.8,
            "bin_end": 187.6,
            "count": 8
           },
           {
            "bin_start": 187.6,
            "bin_end": 191.4,
            "count": 22
           },
           {
            "bin_start": 191.4,
            "bin_end": 195.2,
            "count": 18
           },
           {
            "bin_start": 195.2,
            "bin_end": 199,
            "count": 37
           },
           {
            "bin_start": 199,
            "bin_end": 202.8,
            "count": 23
           },
           {
            "bin_start": 202.8,
            "bin_end": 206.6,
            "count": 53
           },
           {
            "bin_start": 206.6,
            "bin_end": 210.4,
            "count": 23
           },
           {
            "bin_start": 210.4,
            "bin_end": 214.2,
            "count": 36
           },
           {
            "bin_start": 214.2,
            "bin_end": 218,
            "count": 5
           }
          ]
         }
        },
        {
         "name": "weight_kg",
         "dtype": "float64",
         "stats": {
          "unique_count": 43,
          "nan_count": 0,
          "min": "77.0",
          "max": "132.0",
          "histogram": [
           {
            "bin_start": 77,
            "bin_end": 82.5,
            "count": 14
           },
           {
            "bin_start": 82.5,
            "bin_end": 88,
            "count": 20
           },
           {
            "bin_start": 88,
            "bin_end": 93.5,
            "count": 37
           },
           {
            "bin_start": 93.5,
            "bin_end": 99,
            "count": 31
           },
           {
            "bin_start": 99,
            "bin_end": 104.5,
            "count": 48
           },
           {
            "bin_start": 104.5,
            "bin_end": 110,
            "count": 38
           },
           {
            "bin_start": 110,
            "bin_end": 115.5,
            "count": 27
           },
           {
            "bin_start": 115.5,
            "bin_end": 121,
            "count": 13
           },
           {
            "bin_start": 121,
            "bin_end": 126.5,
            "count": 4
           },
           {
            "bin_start": 126.5,
            "bin_end": 132,
            "count": 2
           }
          ]
         }
        },
        {
         "name": "Pos_enc",
         "dtype": "int64",
         "stats": {
          "unique_count": 5,
          "nan_count": 0,
          "min": "1",
          "max": "5",
          "histogram": [
           {
            "bin_start": 1,
            "bin_end": 1.4,
            "count": 42
           },
           {
            "bin_start": 1.4,
            "bin_end": 1.8,
            "count": 0
           },
           {
            "bin_start": 1.8,
            "bin_end": 2.2,
            "count": 56
           },
           {
            "bin_start": 2.2,
            "bin_end": 2.6,
            "count": 0
           },
           {
            "bin_start": 2.6,
            "bin_end": 3,
            "count": 0
           },
           {
            "bin_start": 3,
            "bin_end": 3.4000000000000004,
            "count": 33
           },
           {
            "bin_start": 3.4000000000000004,
            "bin_end": 3.8000000000000003,
            "count": 0
           },
           {
            "bin_start": 3.8000000000000003,
            "bin_end": 4.2,
            "count": 48
           },
           {
            "bin_start": 4.2,
            "bin_end": 4.6,
            "count": 0
           },
           {
            "bin_start": 4.6,
            "bin_end": 5,
            "count": 55
           }
          ]
         }
        },
        {
         "name": "_deepnote_index_column",
         "dtype": "int64"
        }
       ],
       "rows": [
        {
         "Player": "Alex Abrines",
         "Pos": "SG",
         "Age": 24,
         "Team": "OKC",
         "GP": 75,
         "MIN": 1134.2,
         "FGM": 115,
         "FGA": 291,
         "3PM": 84,
         "3PA": 221,
         "FTM": 39,
         "FTA": 46,
         "TOV": 25,
         "PF": 124,
         "ORB": 26,
         "DRB": 88,
         "REB": 114,
         "AST": 28,
         "STL": 38,
         "BLK": 8,
         "PTS": 353,
         "birth_year": 1993,
         "height_cm": 198,
         "weight_kg": 86,
         "Pos_enc": 2,
         "_deepnote_index_column": 0
        },
        {
         "Player": "Quincy Acy",
         "Pos": "PF",
         "Age": 27,
         "Team": "BRK",
         "GP": 70,
         "MIN": 1359.2,
         "FGM": 130,
         "FGA": 365,
         "3PM": 102,
         "3PA": 292,
         "FTM": 49,
         "FTA": 60,
         "TOV": 60,
         "PF": 149,
         "ORB": 40,
         "DRB": 217,
         "REB": 257,
         "AST": 57,
         "STL": 33,
         "BLK": 29,
         "PTS": 411,
         "birth_year": 1990,
         "height_cm": 201,
         "weight_kg": 109,
         "Pos_enc": 4,
         "_deepnote_index_column": 1
        },
        {
         "Player": "Steven Adams",
         "Pos": "C",
         "Age": 24,
         "Team": "OKC",
         "GP": 76,
         "MIN": 2487,
         "FGM": 448,
         "FGA": 712,
         "3PM": 0,
         "3PA": 2,
         "FTM": 160,
         "FTA": 286,
         "TOV": 127,
         "PF": 214,
         "ORB": 384,
         "DRB": 301,
         "REB": 685,
         "AST": 88,
         "STL": 92,
         "BLK": 78,
         "PTS": 1056,
         "birth_year": 1993,
         "height_cm": 213,
         "weight_kg": 120,
         "Pos_enc": 5,
         "_deepnote_index_column": 2
        },
        {
         "Player": "Bam Adebayo",
         "Pos": "C",
         "Age": 20,
         "Team": "MIA",
         "GP": 69,
         "MIN": 1368.1,
         "FGM": 174,
         "FGA": 340,
         "3PM": 0,
         "3PA": 7,
         "FTM": 129,
         "FTA": 179,
         "TOV": 66,
         "PF": 138,
         "ORB": 118,
         "DRB": 263,
         "REB": 381,
         "AST": 101,
         "STL": 32,
         "BLK": 41,
         "PTS": 477,
         "birth_year": 1997,
         "height_cm": 208,
         "weight_kg": 116,
         "Pos_enc": 5,
         "_deepnote_index_column": 3
        },
        {
         "Player": "LaMarcus Aldridge",
         "Pos": "C",
         "Age": 32,
         "Team": "SAS",
         "GP": 75,
         "MIN": 2508.7,
         "FGM": 687,
         "FGA": 1347,
         "3PM": 27,
         "3PA": 92,
         "FTM": 334,
         "FTA": 399,
         "TOV": 112,
         "PF": 161,
         "ORB": 246,
         "DRB": 389,
         "REB": 635,
         "AST": 152,
         "STL": 43,
         "BLK": 90,
         "PTS": 1735,
         "birth_year": 1985,
         "height_cm": 211,
         "weight_kg": 120,
         "Pos_enc": 5,
         "_deepnote_index_column": 4
        },
        {
         "Player": "Jarrett Allen",
         "Pos": "C",
         "Age": 19,
         "Team": "BRK",
         "GP": 72,
         "MIN": 1441.2,
         "FGM": 234,
         "FGA": 397,
         "3PM": 5,
         "3PA": 15,
         "FTM": 114,
         "FTA": 147,
         "TOV": 82,
         "PF": 147,
         "ORB": 144,
         "DRB": 244,
         "REB": 388,
         "AST": 49,
         "STL": 28,
         "BLK": 88,
         "PTS": 587,
         "birth_year": 1998,
         "height_cm": 211,
         "weight_kg": 108,
         "Pos_enc": 5,
         "_deepnote_index_column": 5
        },
        {
         "Player": "Al-Farouq Aminu",
         "Pos": "PF",
         "Age": 27,
         "Team": "POR",
         "GP": 69,
         "MIN": 2072.3,
         "FGM": 230,
         "FGA": 582,
         "3PM": 125,
         "3PA": 339,
         "FTM": 59,
         "FTA": 80,
         "TOV": 79,
         "PF": 136,
         "ORB": 97,
         "DRB": 428,
         "REB": 525,
         "AST": 84,
         "STL": 79,
         "BLK": 40,
         "PTS": 644,
         "birth_year": 1990,
         "height_cm": 206,
         "weight_kg": 100,
         "Pos_enc": 4,
         "_deepnote_index_column": 6
        },
        {
         "Player": "Kyle Anderson",
         "Pos": "SF",
         "Age": 24,
         "Team": "SAS",
         "GP": 74,
         "MIN": 1978.3,
         "FGM": 231,
         "FGA": 438,
         "3PM": 19,
         "3PA": 57,
         "FTM": 104,
         "FTA": 146,
         "TOV": 94,
         "PF": 114,
         "ORB": 84,
         "DRB": 312,
         "REB": 396,
         "AST": 202,
         "STL": 115,
         "BLK": 60,
         "PTS": 585,
         "birth_year": 1993,
         "height_cm": 206,
         "weight_kg": 104,
         "Pos_enc": 3,
         "_deepnote_index_column": 7
        },
        {
         "Player": "Ryan Anderson",
         "Pos": "PF",
         "Age": 29,
         "Team": "HOU",
         "GP": 66,
         "MIN": 1725.4,
         "FGM": 207,
         "FGA": 480,
         "3PM": 131,
         "3PA": 339,
         "FTM": 72,
         "FTA": 93,
         "TOV": 42,
         "PF": 126,
         "ORB": 94,
         "DRB": 237,
         "REB": 331,
         "AST": 60,
         "STL": 24,
         "BLK": 21,
         "PTS": 617,
         "birth_year": 1988,
         "height_cm": 208,
         "weight_kg": 109,
         "Pos_enc": 4,
         "_deepnote_index_column": 8
        },
        {
         "Player": "Giannis Antetokounmpo",
         "Pos": "PF",
         "Age": 23,
         "Team": "MIL",
         "GP": 75,
         "MIN": 2756.2,
         "FGM": 742,
         "FGA": 1402,
         "3PM": 43,
         "3PA": 140,
         "FTM": 487,
         "FTA": 641,
         "TOV": 223,
         "PF": 231,
         "ORB": 156,
         "DRB": 597,
         "REB": 753,
         "AST": 361,
         "STL": 109,
         "BLK": 106,
         "PTS": 2014,
         "birth_year": 1994,
         "height_cm": 211,
         "weight_kg": 110,
         "Pos_enc": 4,
         "_deepnote_index_column": 9
        }
       ]
      },
      "text/plain": "                Player Pos  Age Team  GP     MIN  FGM   FGA  3PM  3PA  ...  \\\n0         Alex Abrines  SG   24  OKC  75  1134.2  115   291   84  221  ...   \n1           Quincy Acy  PF   27  BRK  70  1359.2  130   365  102  292  ...   \n2         Steven Adams   C   24  OKC  76  2487.0  448   712    0    2  ...   \n3          Bam Adebayo   C   20  MIA  69  1368.1  174   340    0    7  ...   \n4    LaMarcus Aldridge   C   32  SAS  75  2508.7  687  1347   27   92  ...   \n..                 ...  ..  ...  ...  ..     ...  ...   ...  ...  ...  ...   \n229       Lou Williams  SG   31  LAC  79  2589.2  582  1337  186  518  ...   \n230    Justise Winslow  PF   21  MIA  68  1680.2  207   488   49  129  ...   \n231       Delon Wright  PG   25  TOR  69  1432.7  201   432   56  153  ...   \n232         Nick Young  SG   32  GSW  80  1393.1  201   488  123  326  ...   \n233     Thaddeus Young  PF   29  IND  81  2607.2  421   864   58  181  ...   \n\n     DRB  REB  AST  STL  BLK   PTS  birth_year  height_cm  weight_kg  Pos_enc  \n0     88  114   28   38    8   353      1993.0      198.0       86.0        2  \n1    217  257   57   33   29   411      1990.0      201.0      109.0        4  \n2    301  685   88   92   78  1056      1993.0      213.0      120.0        5  \n3    263  381  101   32   41   477      1997.0      208.0      116.0        5  \n4    389  635  152   43   90  1735      1985.0      211.0      120.0        5  \n..   ...  ...  ...  ...  ...   ...         ...        ...        ...      ...  \n229  158  198  417   85   19  1782      1986.0      185.0       79.0        2  \n230  306  370  148   54   33   529      1996.0      201.0      102.0        4  \n231  153  198  200   72   33   555      1992.0      196.0       83.0        1  \n232  105  125   36   38    7   581      1985.0      201.0       95.0        2  \n233  328  512  152  135   36   955      1988.0      203.0      100.0        4  \n\n[234 rows x 25 columns]",
      "text/html": "<div>\n<style scoped>\n    .dataframe tbody tr th:only-of-type {\n        vertical-align: middle;\n    }\n\n    .dataframe tbody tr th {\n        vertical-align: top;\n    }\n\n    .dataframe thead th {\n        text-align: right;\n    }\n</style>\n<table border=\"1\" class=\"dataframe\">\n  <thead>\n    <tr style=\"text-align: right;\">\n      <th></th>\n      <th>Player</th>\n      <th>Pos</th>\n      <th>Age</th>\n      <th>Team</th>\n      <th>GP</th>\n      <th>MIN</th>\n      <th>FGM</th>\n      <th>FGA</th>\n      <th>3PM</th>\n      <th>3PA</th>\n      <th>...</th>\n      <th>DRB</th>\n      <th>REB</th>\n      <th>AST</th>\n      <th>STL</th>\n      <th>BLK</th>\n      <th>PTS</th>\n      <th>birth_year</th>\n      <th>height_cm</th>\n      <th>weight_kg</th>\n      <th>Pos_enc</th>\n    </tr>\n  </thead>\n  <tbody>\n    <tr>\n      <th>0</th>\n      <td>Alex Abrines</td>\n      <td>SG</td>\n      <td>24</td>\n      <td>OKC</td>\n      <td>75</td>\n      <td>1134.2</td>\n      <td>115</td>\n      <td>291</td>\n      <td>84</td>\n      <td>221</td>\n      <td>...</td>\n      <td>88</td>\n      <td>114</td>\n      <td>28</td>\n      <td>38</td>\n      <td>8</td>\n      <td>353</td>\n      <td>1993.0</td>\n      <td>198.0</td>\n      <td>86.0</td>\n      <td>2</td>\n    </tr>\n    <tr>\n      <th>1</th>\n      <td>Quincy Acy</td>\n      <td>PF</td>\n      <td>27</td>\n      <td>BRK</td>\n      <td>70</td>\n      <td>1359.2</td>\n      <td>130</td>\n      <td>365</td>\n      <td>102</td>\n      <td>292</td>\n      <td>...</td>\n      <td>217</td>\n      <td>257</td>\n      <td>57</td>\n      <td>33</td>\n      <td>29</td>\n      <td>411</td>\n      <td>1990.0</td>\n      <td>201.0</td>\n      <td>109.0</td>\n      <td>4</td>\n    </tr>\n    <tr>\n      <th>2</th>\n      <td>Steven Adams</td>\n      <td>C</td>\n      <td>24</td>\n      <td>OKC</td>\n      <td>76</td>\n      <td>2487.0</td>\n      <td>448</td>\n      <td>712</td>\n      <td>0</td>\n      <td>2</td>\n      <td>...</td>\n      <td>301</td>\n      <td>685</td>\n      <td>88</td>\n      <td>92</td>\n      <td>78</td>\n      <td>1056</td>\n      <td>1993.0</td>\n      <td>213.0</td>\n      <td>120.0</td>\n      <td>5</td>\n    </tr>\n    <tr>\n      <th>3</th>\n      <td>Bam Adebayo</td>\n      <td>C</td>\n      <td>20</td>\n      <td>MIA</td>\n      <td>69</td>\n      <td>1368.1</td>\n      <td>174</td>\n      <td>340</td>\n      <td>0</td>\n      <td>7</td>\n      <td>...</td>\n      <td>263</td>\n      <td>381</td>\n      <td>101</td>\n      <td>32</td>\n      <td>41</td>\n      <td>477</td>\n      <td>1997.0</td>\n      <td>208.0</td>\n      <td>116.0</td>\n      <td>5</td>\n    </tr>\n    <tr>\n      <th>4</th>\n      <td>LaMarcus Aldridge</td>\n      <td>C</td>\n      <td>32</td>\n      <td>SAS</td>\n      <td>75</td>\n      <td>2508.7</td>\n      <td>687</td>\n      <td>1347</td>\n      <td>27</td>\n      <td>92</td>\n      <td>...</td>\n      <td>389</td>\n      <td>635</td>\n      <td>152</td>\n      <td>43</td>\n      <td>90</td>\n      <td>1735</td>\n      <td>1985.0</td>\n      <td>211.0</td>\n      <td>120.0</td>\n      <td>5</td>\n    </tr>\n    <tr>\n      <th>...</th>\n      <td>...</td>\n      <td>...</td>\n      <td>...</td>\n      <td>...</td>\n      <td>...</td>\n      <td>...</td>\n      <td>...</td>\n      <td>...</td>\n      <td>...</td>\n      <td>...</td>\n      <td>...</td>\n      <td>...</td>\n      <td>...</td>\n      <td>...</td>\n      <td>...</td>\n      <td>...</td>\n      <td>...</td>\n      <td>...</td>\n      <td>...</td>\n      <td>...</td>\n      <td>...</td>\n    </tr>\n    <tr>\n      <th>229</th>\n      <td>Lou Williams</td>\n      <td>SG</td>\n      <td>31</td>\n      <td>LAC</td>\n      <td>79</td>\n      <td>2589.2</td>\n      <td>582</td>\n      <td>1337</td>\n      <td>186</td>\n      <td>518</td>\n      <td>...</td>\n      <td>158</td>\n      <td>198</td>\n      <td>417</td>\n      <td>85</td>\n      <td>19</td>\n      <td>1782</td>\n      <td>1986.0</td>\n      <td>185.0</td>\n      <td>79.0</td>\n      <td>2</td>\n    </tr>\n    <tr>\n      <th>230</th>\n      <td>Justise Winslow</td>\n      <td>PF</td>\n      <td>21</td>\n      <td>MIA</td>\n      <td>68</td>\n      <td>1680.2</td>\n      <td>207</td>\n      <td>488</td>\n      <td>49</td>\n      <td>129</td>\n      <td>...</td>\n      <td>306</td>\n      <td>370</td>\n      <td>148</td>\n      <td>54</td>\n      <td>33</td>\n      <td>529</td>\n      <td>1996.0</td>\n      <td>201.0</td>\n      <td>102.0</td>\n      <td>4</td>\n    </tr>\n    <tr>\n      <th>231</th>\n      <td>Delon Wright</td>\n      <td>PG</td>\n      <td>25</td>\n      <td>TOR</td>\n      <td>69</td>\n      <td>1432.7</td>\n      <td>201</td>\n      <td>432</td>\n      <td>56</td>\n      <td>153</td>\n      <td>...</td>\n      <td>153</td>\n      <td>198</td>\n      <td>200</td>\n      <td>72</td>\n      <td>33</td>\n      <td>555</td>\n      <td>1992.0</td>\n      <td>196.0</td>\n      <td>83.0</td>\n      <td>1</td>\n    </tr>\n    <tr>\n      <th>232</th>\n      <td>Nick Young</td>\n      <td>SG</td>\n      <td>32</td>\n      <td>GSW</td>\n      <td>80</td>\n      <td>1393.1</td>\n      <td>201</td>\n      <td>488</td>\n      <td>123</td>\n      <td>326</td>\n      <td>...</td>\n      <td>105</td>\n      <td>125</td>\n      <td>36</td>\n      <td>38</td>\n      <td>7</td>\n      <td>581</td>\n      <td>1985.0</td>\n      <td>201.0</td>\n      <td>95.0</td>\n      <td>2</td>\n    </tr>\n    <tr>\n      <th>233</th>\n      <td>Thaddeus Young</td>\n      <td>PF</td>\n      <td>29</td>\n      <td>IND</td>\n      <td>81</td>\n      <td>2607.2</td>\n      <td>421</td>\n      <td>864</td>\n      <td>58</td>\n      <td>181</td>\n      <td>...</td>\n      <td>328</td>\n      <td>512</td>\n      <td>152</td>\n      <td>135</td>\n      <td>36</td>\n      <td>955</td>\n      <td>1988.0</td>\n      <td>203.0</td>\n      <td>100.0</td>\n      <td>4</td>\n    </tr>\n  </tbody>\n</table>\n<p>234 rows × 25 columns</p>\n</div>"
     },
     "metadata": {}
    }
   ],
   "execution_count": null
  },
  {
   "cell_type": "markdown",
   "source": "### Find Best Model\n\nFeature Selection: Data has player name, team, position, height, weight, and 20+ seasonal stats. Not all  features are relevant to predicting NBA Position. Test with different varations of features. Iterate through `combinations()` of k columns in `cols`. Combinations and estimating the counts of the training trials can be found here: [\"...the number of k-element subsets (or k-combinations) of an n-element set\"](https://en.wikipedia.org/wiki/Binomial_coefficient).\n\nKNN Optimization: On each combination of possible training features, iterate through range of ints for possible `n_neighbors`.\n\nLog Results: Create results dictionary to store `features`, `n_neighbors`, `log_loss`, and `classifier` for each training iteration. Iterate through results dictionary to find smallest `log_loss` along with features used, `n_neighbors` used, and the classifier object.\n\n```\nresults  = {\n    trial_num: {\n        'features': [],\n        'n_neighbors':,\n        'log_loss':\n        'classifier':\n    }\n}\n```\n\n",
   "metadata": {
    "cell_id": "00019-b946c5d4-e87d-4029-a0d9-ba61f0761012",
    "deepnote_cell_type": "markdown",
    "deepnote_cell_height": 463.15625
   }
  },
  {
   "cell_type": "code",
   "metadata": {
    "cell_id": "00020-17dda410-4cac-4a0c-b179-5f106285afe9",
    "deepnote_to_be_reexecuted": false,
    "execution_millis": 289742,
    "execution_start": 1647962234066,
    "scrolled": true,
    "source_hash": "541f9cdf",
    "deepnote_cell_type": "code",
    "deepnote_cell_height": 1933.078125
   },
   "source": "# try to hide pandas warnings\n# %%capture --no-display\n\n# hide pandas warnings\n# https://stackoverflow.com/questions/15777951/how-to-suppress-pandas-future-warning\nimp is # try to hide pandas warnings\n# %%capture --no-display\n\n# hide pandas warnings\n# https://stackoverflow.com/questions/15777951/how-to-suppress-pandas-future-warning\nimport warnings\nwarnings.filterwarnings('ignore')\n\nfrom sklearn.preprocessing import StandardScaler\nfrom sklearn.model_selection import train_test_split\nfrom sklearn.neighbors import KNeighborsClassifier\nfrom sklearn.metrics import log_loss\n\n\nfrom itertools import combinations\ncols = ['Pos_enc','FGM', 'FGA', '3PM','3PA','FTM', 'FTA','TOV','PF','ORB','DRB',\n        'REB','AST','STL', \"BLK\",'PTS','height_cm','weight_kg'\n]\n\nmodel_count = 0 # model number we are training\n\n# boolean flags for searching for model\nfound_clf = False # we found accurate classifier\nsearch_ll_min = True # searching for small log_loss \nsearch_n = True # searching for ideal n_neighbors\nsearch_clf = True # searching for classifier\n\n# save results in dictionary object\nresults = {} # key = \n# key = current trial number (\"count\" or \"index\" of models)\n# values = mapped results. features, n, log_loss, and classifier object.\n# {\n#     model_count: {\n#         'features': (list),\n#         'n_neighbors': (int),\n#         'log_loss' (float):\n#         'classifier': clf object,\n#     }\n# }\n\n\nfor count in range(14, 16): # 12, 18\n    \n    # test combinations of columns: test `count` combination of `cols`\n    print(f\"Testing: {len(cols)} Choose {count}\") \n    \n    for tup in combinations(cols,count):  # iterate through different combination of columns\n       \n        for n in range(3,6): # iterate through n neighbors for each combination of columns\n            \n            if search_n: # if searching for best n_neighbor\n                X = df_merged[list(tup)]\n                y = df_merged[\"Pos\"]\n                scaler = StandardScaler()\n                scaler.fit(X)\n                X_scaled = scaler.transform(X)\n                X_scaled_train, X_scaled_test, y_train, y_test = train_test_split(X,y,test_size=0.2)            \n\n                clf = KNeighborsClassifier(n_neighbors=n)\n                clf.fit(X_scaled_train,y_train)\n                X[\"pred\"] = clf.predict(X_scaled)\n\n                probs = clf.predict_proba(X_scaled_test)\n                loss = log_loss( y_true=y_test ,y_pred=probs , labels= clf.classes_)\n\n                # update results object \n                # key = currential trial number\n                # values = mapped results. features, n, log_loss, and classifier object.\n                results[model_count] = {\n                    'features': list(tup) ,\n                    'n_neighbors': n,\n                    'log_loss': loss,\n                    'classifier': clf\n                }\n\n                model_count+=1\n                if loss < .7: # if we found accurate classifier \n                    # update boolean flags to stop iterating through columns and n_neighbors\n                    search_n = False\n                    search_ll_min = False\n                    search_clf = False\n                    print(f\"Found ideal n_neighbors\")\n                    break\n        \n        if (search_n == False) or (loss<.6): # found best loss with n_neighbors\n            search_ll_min = False\n            print('Found combination of features')\n            break # keeps the accurate clf\n\n    if not search_ll_min: # found best loss with column combination\n        print('return classifier')\n        break # return classifier\n\nif not found_clf:\n    print(f\"couldn't find accurate classifier. Continue to find best results.\")",
   "outputs": [
    {
     "name": "stdout",
     "text": "Testing: 18 Choose 14\nTesting: 18 Choose 15\ncouldn't find accurate classifier. Continue to find best results.\n",
     "output_type": "stream"
    }
   ],
   "execution_count": null
  },
  {
   "cell_type": "markdown",
   "source": "### Find Best Results\n\nTo find the best results iterate through the `results`  dictionary.<br>\nIterate through `keys` which represent the model count. <br>\ni.e. `results[0]` is the result of the first model we trained. `results[0]` has the list of columns we trained with, the n_neighbors used, the log_loss resulting from it, and the classifier object to access it again.",
   "metadata": {
    "cell_id": "00021-3d47ad8c-ccb6-4f4a-b700-25dd555fc984",
    "deepnote_cell_type": "markdown",
    "deepnote_cell_height": 167.59375
   }
  },
  {
   "cell_type": "code",
   "metadata": {
    "cell_id": "00022-aae3c438-5034-4687-873c-ccc4aea52ef8",
    "deepnote_to_be_reexecuted": false,
    "execution_millis": 2,
    "execution_start": 1647964031714,
    "source_hash": "9398ac57",
    "deepnote_cell_type": "code",
    "deepnote_cell_height": 502.671875
   },
   "source": "min_log_loss = results[0]['log_loss'] # assume minimum log_loss is first attemp\nfor key in results:  \n    # key = trial number\n    iter_features = results[key]['features']\n    iter_n_neighbors = results[key]['n_neighbors']\n    iter_log_loss = results[key]['log_loss']\n    \n    if iter_log_loss < min_log_loss:  # update current minimum log_loss\n        min_log_loss = iter_log_loss\n        min_key=key # min_key is the key that corresponds to the smallest log_loss now\n\nprint(f\"Total Attempts: {len(results)}\")\nprint(f\"Best log_loss: {results[min_key]['log_loss']}\")\nprint(f\"Best features: {results[min_key]['features']}\")\nprint(f\"Number of features: {len(results[min_key]['features'])}\")\nprint(f\"Ideal n_neighbors: {results[min_key]['n_neighbors']}\")\nprint(f\"Best classifier: {results[min_key]['classifier']}\")",
   "outputs": [
    {
     "name": "stdout",
     "text": "Total Attempts: 11628\nBest log_loss: 0.7406421218243412\nBest features: ['Pos_enc', 'FGM', 'FGA', '3PM', '3PA', 'FTM', 'FTA', 'PF', 'ORB', 'DRB', 'REB', 'AST', 'BLK', 'PTS', 'height_cm']\nNumber of features: 15\nIdeal n_neighbors: 5\nBest classifier: KNeighborsClassifier()\n",
     "output_type": "stream"
    }
   ],
   "execution_count": null
  },
  {
   "cell_type": "markdown",
   "source": "Predict position of NBA players on entire dataset.\n\nAccess best classifier in `results` dict by `min_key`.",
   "metadata": {
    "cell_id": "00023-831912ab-9113-43a6-a01c-c09703f0ca01",
    "deepnote_cell_type": "markdown",
    "deepnote_cell_height": 88.796875
   }
  },
  {
   "cell_type": "code",
   "metadata": {
    "cell_id": "00024-0e266894-ad1f-457b-a9ca-fce19c400d71",
    "deepnote_to_be_reexecuted": false,
    "execution_millis": 0,
    "execution_start": 1647962523882,
    "source_hash": "b1d2d484",
    "deepnote_cell_type": "code",
    "deepnote_cell_height": 207
   },
   "source": "X = df_merged[results[min_key]['features']]\nscaler = StandardScaler()\nscaler.fit(X)\nX_scaled = scaler.transform(X)\n\nclf = results[min_key]['classifier']\n\ndf_merged['Preds'] = clf.predict(X)",
   "outputs": [],
   "execution_count": null
  },
  {
   "cell_type": "markdown",
   "source": "### Vizualize Results\n\nDisplay all the Centers. Our predicted values show good results at identifying Centers.\n\nLook at a true Point Gaurd. Chris Paul is a good example of a Point Gaurd.\n\nLook at Lebron James. In 2018, for Clevland, Kaggle has him listed has a Power Foward. ",
   "metadata": {
    "cell_id": "00025-81a474e1-29c6-48aa-84f0-387856af1c98",
    "deepnote_cell_type": "markdown",
    "deepnote_cell_height": 173.1875
   }
  },
  {
   "cell_type": "code",
   "metadata": {
    "cell_id": "00026-85ca537b-67d8-4cff-9bbf-3b38c6a9cf5d",
    "deepnote_to_be_reexecuted": false,
    "execution_millis": 80,
    "execution_start": 1647962523936,
    "scrolled": true,
    "source_hash": "c062af44",
    "tags": [
     "output_scroll"
    ],
    "deepnote_cell_type": "code",
    "deepnote_cell_height": 598
   },
   "source": "df_merged[df_merged['Pos_enc']==5]",
   "outputs": [
    {
     "output_type": "execute_result",
     "execution_count": 12,
     "data": {
      "application/vnd.deepnote.dataframe.v3+json": {
       "column_count": 26,
       "row_count": 55,
       "columns": [
        {
         "name": "Player",
         "dtype": "object",
         "stats": {
          "unique_count": 55,
          "nan_count": 0,
          "categories": [
           {
            "name": "Steven Adams",
            "count": 1
           },
           {
            "name": "Bam Adebayo",
            "count": 1
           },
           {
            "name": "53 others",
            "count": 53
           }
          ]
         }
        },
        {
         "name": "Pos",
         "dtype": "object",
         "stats": {
          "unique_count": 1,
          "nan_count": 0,
          "categories": [
           {
            "name": "C",
            "count": 55
           }
          ]
         }
        },
        {
         "name": "Age",
         "dtype": "int64",
         "stats": {
          "unique_count": 17,
          "nan_count": 0,
          "min": "19",
          "max": "39",
          "histogram": [
           {
            "bin_start": 19,
            "bin_end": 21,
            "count": 4
           },
           {
            "bin_start": 21,
            "bin_end": 23,
            "count": 7
           },
           {
            "bin_start": 23,
            "bin_end": 25,
            "count": 9
           },
           {
            "bin_start": 25,
            "bin_end": 27,
            "count": 9
           },
           {
            "bin_start": 27,
            "bin_end": 29,
            "count": 8
           },
           {
            "bin_start": 29,
            "bin_end": 31,
            "count": 7
           },
           {
            "bin_start": 31,
            "bin_end": 33,
            "count": 5
           },
           {
            "bin_start": 33,
            "bin_end": 35,
            "count": 3
           },
           {
            "bin_start": 35,
            "bin_end": 37,
            "count": 0
           },
           {
            "bin_start": 37,
            "bin_end": 39,
            "count": 3
           }
          ]
         }
        },
        {
         "name": "Team",
         "dtype": "object",
         "stats": {
          "unique_count": 27,
          "nan_count": 0,
          "categories": [
           {
            "name": "GSW",
            "count": 5
           },
           {
            "name": "BOS",
            "count": 3
           },
           {
            "name": "25 others",
            "count": 47
           }
          ]
         }
        },
        {
         "name": "GP",
         "dtype": "int64",
         "stats": {
          "unique_count": 24,
          "nan_count": 0,
          "min": "51",
          "max": "82",
          "histogram": [
           {
            "bin_start": 51,
            "bin_end": 54.1,
            "count": 3
           },
           {
            "bin_start": 54.1,
            "bin_end": 57.2,
            "count": 2
           },
           {
            "bin_start": 57.2,
            "bin_end": 60.3,
            "count": 1
           },
           {
            "bin_start": 60.3,
            "bin_end": 63.4,
            "count": 6
           },
           {
            "bin_start": 63.4,
            "bin_end": 66.5,
            "count": 5
           },
           {
            "bin_start": 66.5,
            "bin_end": 69.6,
            "count": 2
           },
           {
            "bin_start": 69.6,
            "bin_end": 72.7,
            "count": 4
           },
           {
            "bin_start": 72.7,
            "bin_end": 75.8,
            "count": 11
           },
           {
            "bin_start": 75.8,
            "bin_end": 78.9,
            "count": 12
           },
           {
            "bin_start": 78.9,
            "bin_end": 82,
            "count": 9
           }
          ]
         }
        },
        {
         "name": "MIN",
         "dtype": "float64",
         "stats": {
          "unique_count": 55,
          "nan_count": 0,
          "min": "536.5",
          "max": "2918.1",
          "histogram": [
           {
            "bin_start": 536.5,
            "bin_end": 774.66,
            "count": 3
           },
           {
            "bin_start": 774.66,
            "bin_end": 1012.8199999999999,
            "count": 7
           },
           {
            "bin_start": 1012.8199999999999,
            "bin_end": 1250.98,
            "count": 5
           },
           {
            "bin_start": 1250.98,
            "bin_end": 1489.1399999999999,
            "count": 10
           },
           {
            "bin_start": 1489.1399999999999,
            "bin_end": 1727.3,
            "count": 6
           },
           {
            "bin_start": 1727.3,
            "bin_end": 1965.46,
            "count": 9
           },
           {
            "bin_start": 1965.46,
            "bin_end": 2203.62,
            "count": 7
           },
           {
            "bin_start": 2203.62,
            "bin_end": 2441.7799999999997,
            "count": 4
           },
           {
            "bin_start": 2441.7799999999997,
            "bin_end": 2679.94,
            "count": 3
           },
           {
            "bin_start": 2679.94,
            "bin_end": 2918.1,
            "count": 1
           }
          ]
         }
        },
        {
         "name": "FGM",
         "dtype": "int64",
         "stats": {
          "unique_count": 53,
          "nan_count": 0,
          "min": "60",
          "max": "687",
          "histogram": [
           {
            "bin_start": 60,
            "bin_end": 122.7,
            "count": 6
           },
           {
            "bin_start": 122.7,
            "bin_end": 185.4,
            "count": 11
           },
           {
            "bin_start": 185.4,
            "bin_end": 248.10000000000002,
            "count": 7
           },
           {
            "bin_start": 248.10000000000002,
            "bin_end": 310.8,
            "count": 8
           },
           {
            "bin_start": 310.8,
            "bin_end": 373.5,
            "count": 9
           },
           {
            "bin_start": 373.5,
            "bin_end": 436.20000000000005,
            "count": 5
           },
           {
            "bin_start": 436.20000000000005,
            "bin_end": 498.90000000000003,
            "count": 4
           },
           {
            "bin_start": 498.90000000000003,
            "bin_end": 561.6,
            "count": 3
           },
           {
            "bin_start": 561.6,
            "bin_end": 624.3000000000001,
            "count": 0
           },
           {
            "bin_start": 624.3000000000001,
            "bin_end": 687,
            "count": 2
           }
          ]
         }
        },
        {
         "name": "FGA",
         "dtype": "int64",
         "stats": {
          "unique_count": 53,
          "nan_count": 0,
          "min": "120",
          "max": "1347",
          "histogram": [
           {
            "bin_start": 120,
            "bin_end": 242.7,
            "count": 8
           },
           {
            "bin_start": 242.7,
            "bin_end": 365.4,
            "count": 9
           },
           {
            "bin_start": 365.4,
            "bin_end": 488.1,
            "count": 11
           },
           {
            "bin_start": 488.1,
            "bin_end": 610.8,
            "count": 5
           },
           {
            "bin_start": 610.8,
            "bin_end": 733.5,
            "count": 10
           },
           {
            "bin_start": 733.5,
            "bin_end": 856.2,
            "count": 4
           },
           {
            "bin_start": 856.2,
            "bin_end": 978.9,
            "count": 3
           },
           {
            "bin_start": 978.9,
            "bin_end": 1101.6,
            "count": 3
           },
           {
            "bin_start": 1101.6,
            "bin_end": 1224.3,
            "count": 1
           },
           {
            "bin_start": 1224.3,
            "bin_end": 1347,
            "count": 1
           }
          ]
         }
        },
        {
         "name": "3PM",
         "dtype": "int64",
         "stats": {
          "unique_count": 27,
          "nan_count": 0,
          "min": "0",
          "max": "138",
          "histogram": [
           {
            "bin_start": 0,
            "bin_end": 13.8,
            "count": 36
           },
           {
            "bin_start": 13.8,
            "bin_end": 27.6,
            "count": 4
           },
           {
            "bin_start": 27.6,
            "bin_end": 41.400000000000006,
            "count": 4
           },
           {
            "bin_start": 41.400000000000006,
            "bin_end": 55.2,
            "count": 2
           },
           {
            "bin_start": 55.2,
            "bin_end": 69,
            "count": 2
           },
           {
            "bin_start": 69,
            "bin_end": 82.80000000000001,
            "count": 0
           },
           {
            "bin_start": 82.80000000000001,
            "bin_end": 96.60000000000001,
            "count": 0
           },
           {
            "bin_start": 96.60000000000001,
            "bin_end": 110.4,
            "count": 2
           },
           {
            "bin_start": 110.4,
            "bin_end": 124.2,
            "count": 3
           },
           {
            "bin_start": 124.2,
            "bin_end": 138,
            "count": 2
           }
          ]
         }
        },
        {
         "name": "3PA",
         "dtype": "int64",
         "stats": {
          "unique_count": 37,
          "nan_count": 0,
          "min": "0",
          "max": "337",
          "histogram": [
           {
            "bin_start": 0,
            "bin_end": 33.7,
            "count": 34
           },
           {
            "bin_start": 33.7,
            "bin_end": 67.4,
            "count": 5
           },
           {
            "bin_start": 67.4,
            "bin_end": 101.10000000000001,
            "count": 3
           },
           {
            "bin_start": 101.10000000000001,
            "bin_end": 134.8,
            "count": 3
           },
           {
            "bin_start": 134.8,
            "bin_end": 168.5,
            "count": 2
           },
           {
            "bin_start": 168.5,
            "bin_end": 202.20000000000002,
            "count": 0
           },
           {
            "bin_start": 202.20000000000002,
            "bin_end": 235.90000000000003,
            "count": 2
           },
           {
            "bin_start": 235.90000000000003,
            "bin_end": 269.6,
            "count": 0
           },
           {
            "bin_start": 269.6,
            "bin_end": 303.3,
            "count": 2
           },
           {
            "bin_start": 303.3,
            "bin_end": 337,
            "count": 4
           }
          ]
         }
        },
        {
         "name": "FTM",
         "dtype": "int64",
         "stats": {
          "unique_count": 49,
          "nan_count": 0,
          "min": "27",
          "max": "359",
          "histogram": [
           {
            "bin_start": 27,
            "bin_end": 60.2,
            "count": 14
           },
           {
            "bin_start": 60.2,
            "bin_end": 93.4,
            "count": 10
           },
           {
            "bin_start": 93.4,
            "bin_end": 126.60000000000001,
            "count": 7
           },
           {
            "bin_start": 126.60000000000001,
            "bin_end": 159.8,
            "count": 9
           },
           {
            "bin_start": 159.8,
            "bin_end": 193,
            "count": 6
           },
           {
            "bin_start": 193,
            "bin_end": 226.20000000000002,
            "count": 1
           },
           {
            "bin_start": 226.20000000000002,
            "bin_end": 259.40000000000003,
            "count": 2
           },
           {
            "bin_start": 259.40000000000003,
            "bin_end": 292.6,
            "count": 2
           },
           {
            "bin_start": 292.6,
            "bin_end": 325.8,
            "count": 1
           },
           {
            "bin_start": 325.8,
            "bin_end": 359,
            "count": 3
           }
          ]
         }
        },
        {
         "name": "FTA",
         "dtype": "int64",
         "stats": {
          "unique_count": 51,
          "nan_count": 0,
          "min": "42",
          "max": "467",
          "histogram": [
           {
            "bin_start": 42,
            "bin_end": 84.5,
            "count": 13
           },
           {
            "bin_start": 84.5,
            "bin_end": 127,
            "count": 10
           },
           {
            "bin_start": 127,
            "bin_end": 169.5,
            "count": 7
           },
           {
            "bin_start": 169.5,
            "bin_end": 212,
            "count": 8
           },
           {
            "bin_start": 212,
            "bin_end": 254.5,
            "count": 4
           },
           {
            "bin_start": 254.5,
            "bin_end": 297,
            "count": 4
           },
           {
            "bin_start": 297,
            "bin_end": 339.5,
            "count": 4
           },
           {
            "bin_start": 339.5,
            "bin_end": 382,
            "count": 0
           },
           {
            "bin_start": 382,
            "bin_end": 424.5,
            "count": 3
           },
           {
            "bin_start": 424.5,
            "bin_end": 467,
            "count": 2
           }
          ]
         }
        },
        {
         "name": "TOV",
         "dtype": "int64",
         "stats": {
          "unique_count": 46,
          "nan_count": 0,
          "min": "20",
          "max": "234",
          "histogram": [
           {
            "bin_start": 20,
            "bin_end": 41.4,
            "count": 7
           },
           {
            "bin_start": 41.4,
            "bin_end": 62.8,
            "count": 9
           },
           {
            "bin_start": 62.8,
            "bin_end": 84.19999999999999,
            "count": 9
           },
           {
            "bin_start": 84.19999999999999,
            "bin_end": 105.6,
            "count": 12
           },
           {
            "bin_start": 105.6,
            "bin_end": 127,
            "count": 7
           },
           {
            "bin_start": 127,
            "bin_end": 148.39999999999998,
            "count": 4
           },
           {
            "bin_start": 148.39999999999998,
            "bin_end": 169.79999999999998,
            "count": 1
           },
           {
            "bin_start": 169.79999999999998,
            "bin_end": 191.2,
            "count": 1
           },
           {
            "bin_start": 191.2,
            "bin_end": 212.6,
            "count": 3
           },
           {
            "bin_start": 212.6,
            "bin_end": 234,
            "count": 2
           }
          ]
         }
        },
        {
         "name": "PF",
         "dtype": "int64",
         "stats": {
          "unique_count": 43,
          "nan_count": 0,
          "min": "91",
          "max": "285",
          "histogram": [
           {
            "bin_start": 91,
            "bin_end": 110.4,
            "count": 7
           },
           {
            "bin_start": 110.4,
            "bin_end": 129.8,
            "count": 6
           },
           {
            "bin_start": 129.8,
            "bin_end": 149.2,
            "count": 9
           },
           {
            "bin_start": 149.2,
            "bin_end": 168.6,
            "count": 7
           },
           {
            "bin_start": 168.6,
            "bin_end": 188,
            "count": 8
           },
           {
            "bin_start": 188,
            "bin_end": 207.39999999999998,
            "count": 8
           },
           {
            "bin_start": 207.39999999999998,
            "bin_end": 226.79999999999998,
            "count": 5
           },
           {
            "bin_start": 226.79999999999998,
            "bin_end": 246.2,
            "count": 1
           },
           {
            "bin_start": 246.2,
            "bin_end": 265.6,
            "count": 2
           },
           {
            "bin_start": 265.6,
            "bin_end": 285,
            "count": 2
           }
          ]
         }
        },
        {
         "name": "ORB",
         "dtype": "int64",
         "stats": {
          "unique_count": 47,
          "nan_count": 0,
          "min": "22",
          "max": "399",
          "histogram": [
           {
            "bin_start": 22,
            "bin_end": 59.7,
            "count": 3
           },
           {
            "bin_start": 59.7,
            "bin_end": 97.4,
            "count": 13
           },
           {
            "bin_start": 97.4,
            "bin_end": 135.10000000000002,
            "count": 16
           },
           {
            "bin_start": 135.10000000000002,
            "bin_end": 172.8,
            "count": 8
           },
           {
            "bin_start": 172.8,
            "bin_end": 210.5,
            "count": 8
           },
           {
            "bin_start": 210.5,
            "bin_end": 248.20000000000002,
            "count": 3
           },
           {
            "bin_start": 248.20000000000002,
            "bin_end": 285.90000000000003,
            "count": 1
           },
           {
            "bin_start": 285.90000000000003,
            "bin_end": 323.6,
            "count": 0
           },
           {
            "bin_start": 323.6,
            "bin_end": 361.3,
            "count": 1
           },
           {
            "bin_start": 361.3,
            "bin_end": 399,
            "count": 2
           }
          ]
         }
        },
        {
         "name": "DRB",
         "dtype": "int64",
         "stats": {
          "unique_count": 53,
          "nan_count": 0,
          "min": "82",
          "max": "848",
          "histogram": [
           {
            "bin_start": 82,
            "bin_end": 158.6,
            "count": 7
           },
           {
            "bin_start": 158.6,
            "bin_end": 235.2,
            "count": 12
           },
           {
            "bin_start": 235.2,
            "bin_end": 311.79999999999995,
            "count": 7
           },
           {
            "bin_start": 311.79999999999995,
            "bin_end": 388.4,
            "count": 7
           },
           {
            "bin_start": 388.4,
            "bin_end": 465,
            "count": 10
           },
           {
            "bin_start": 465,
            "bin_end": 541.5999999999999,
            "count": 6
           },
           {
            "bin_start": 541.5999999999999,
            "bin_end": 618.1999999999999,
            "count": 3
           },
           {
            "bin_start": 618.1999999999999,
            "bin_end": 694.8,
            "count": 0
           },
           {
            "bin_start": 694.8,
            "bin_end": 771.4,
            "count": 0
           },
           {
            "bin_start": 771.4,
            "bin_end": 848,
            "count": 3
           }
          ]
         }
        },
        {
         "name": "REB",
         "dtype": "int64",
         "stats": {
          "unique_count": 55,
          "nan_count": 0,
          "min": "150",
          "max": "1247",
          "histogram": [
           {
            "bin_start": 150,
            "bin_end": 259.7,
            "count": 10
           },
           {
            "bin_start": 259.7,
            "bin_end": 369.4,
            "count": 9
           },
           {
            "bin_start": 369.4,
            "bin_end": 479.1,
            "count": 11
           },
           {
            "bin_start": 479.1,
            "bin_end": 588.8,
            "count": 8
           },
           {
            "bin_start": 588.8,
            "bin_end": 698.5,
            "count": 10
           },
           {
            "bin_start": 698.5,
            "bin_end": 808.2,
            "count": 4
           },
           {
            "bin_start": 808.2,
            "bin_end": 917.9,
            "count": 0
           },
           {
            "bin_start": 917.9,
            "bin_end": 1027.6,
            "count": 1
           },
           {
            "bin_start": 1027.6,
            "bin_end": 1137.3000000000002,
            "count": 0
           },
           {
            "bin_start": 1137.3000000000002,
            "bin_end": 1247,
            "count": 2
           }
          ]
         }
        },
        {
         "name": "AST",
         "dtype": "int64",
         "stats": {
          "unique_count": 48,
          "nan_count": 0,
          "min": "13",
          "max": "458",
          "histogram": [
           {
            "bin_start": 13,
            "bin_end": 57.5,
            "count": 15
           },
           {
            "bin_start": 57.5,
            "bin_end": 102,
            "count": 13
           },
           {
            "bin_start": 102,
            "bin_end": 146.5,
            "count": 14
           },
           {
            "bin_start": 146.5,
            "bin_end": 191,
            "count": 5
           },
           {
            "bin_start": 191,
            "bin_end": 235.5,
            "count": 3
           },
           {
            "bin_start": 235.5,
            "bin_end": 280,
            "count": 2
           },
           {
            "bin_start": 280,
            "bin_end": 324.5,
            "count": 1
           },
           {
            "bin_start": 324.5,
            "bin_end": 369,
            "count": 1
           },
           {
            "bin_start": 369,
            "bin_end": 413.5,
            "count": 0
           },
           {
            "bin_start": 413.5,
            "bin_end": 458,
            "count": 1
           }
          ]
         }
        },
        {
         "name": "STL",
         "dtype": "int64",
         "stats": {
          "unique_count": 31,
          "nan_count": 0,
          "min": "14",
          "max": "114",
          "histogram": [
           {
            "bin_start": 14,
            "bin_end": 24,
            "count": 9
           },
           {
            "bin_start": 24,
            "bin_end": 34,
            "count": 7
           },
           {
            "bin_start": 34,
            "bin_end": 44,
            "count": 22
           },
           {
            "bin_start": 44,
            "bin_end": 54,
            "count": 7
           },
           {
            "bin_start": 54,
            "bin_end": 64,
            "count": 3
           },
           {
            "bin_start": 64,
            "bin_end": 74,
            "count": 3
           },
           {
            "bin_start": 74,
            "bin_end": 84,
            "count": 1
           },
           {
            "bin_start": 84,
            "bin_end": 94,
            "count": 2
           },
           {
            "bin_start": 94,
            "bin_end": 104,
            "count": 0
           },
           {
            "bin_start": 104,
            "bin_end": 114,
            "count": 1
           }
          ]
         }
        },
        {
         "name": "BLK",
         "dtype": "int64",
         "stats": {
          "unique_count": 41,
          "nan_count": 0,
          "min": "17",
          "max": "138",
          "histogram": [
           {
            "bin_start": 17,
            "bin_end": 29.1,
            "count": 3
           },
           {
            "bin_start": 29.1,
            "bin_end": 41.2,
            "count": 9
           },
           {
            "bin_start": 41.2,
            "bin_end": 53.3,
            "count": 11
           },
           {
            "bin_start": 53.3,
            "bin_end": 65.4,
            "count": 5
           },
           {
            "bin_start": 65.4,
            "bin_end": 77.5,
            "count": 6
           },
           {
            "bin_start": 77.5,
            "bin_end": 89.6,
            "count": 6
           },
           {
            "bin_start": 89.6,
            "bin_end": 101.7,
            "count": 7
           },
           {
            "bin_start": 101.7,
            "bin_end": 113.8,
            "count": 3
           },
           {
            "bin_start": 113.8,
            "bin_end": 125.89999999999999,
            "count": 2
           },
           {
            "bin_start": 125.89999999999999,
            "bin_end": 138,
            "count": 3
           }
          ]
         }
        },
        {
         "name": "PTS",
         "dtype": "int64",
         "stats": {
          "unique_count": 51,
          "nan_count": 0,
          "min": "162",
          "max": "1743",
          "histogram": [
           {
            "bin_start": 162,
            "bin_end": 320.1,
            "count": 8
           },
           {
            "bin_start": 320.1,
            "bin_end": 478.2,
            "count": 11
           },
           {
            "bin_start": 478.2,
            "bin_end": 636.3,
            "count": 7
           },
           {
            "bin_start": 636.3,
            "bin_end": 794.4,
            "count": 7
           },
           {
            "bin_start": 794.4,
            "bin_end": 952.5,
            "count": 8
           },
           {
            "bin_start": 952.5,
            "bin_end": 1110.6,
            "count": 6
           },
           {
            "bin_start": 1110.6,
            "bin_end": 1268.7,
            "count": 3
           },
           {
            "bin_start": 1268.7,
            "bin_end": 1426.8,
            "count": 2
           },
           {
            "bin_start": 1426.8,
            "bin_end": 1584.8999999999999,
            "count": 1
           },
           {
            "bin_start": 1584.8999999999999,
            "bin_end": 1743,
            "count": 2
           }
          ]
         }
        },
        {
         "name": "birth_year",
         "dtype": "float64",
         "stats": {
          "unique_count": 17,
          "nan_count": 0,
          "min": "1978.0",
          "max": "1998.0",
          "histogram": [
           {
            "bin_start": 1978,
            "bin_end": 1980,
            "count": 1
           },
           {
            "bin_start": 1980,
            "bin_end": 1982,
            "count": 2
           },
           {
            "bin_start": 1982,
            "bin_end": 1984,
            "count": 0
           },
           {
            "bin_start": 1984,
            "bin_end": 1986,
            "count": 4
           },
           {
            "bin_start": 1986,
            "bin_end": 1988,
            "count": 6
           },
           {
            "bin_start": 1988,
            "bin_end": 1990,
            "count": 9
           },
           {
            "bin_start": 1990,
            "bin_end": 1992,
            "count": 8
           },
           {
            "bin_start": 1992,
            "bin_end": 1994,
            "count": 8
           },
           {
            "bin_start": 1994,
            "bin_end": 1996,
            "count": 9
           },
           {
            "bin_start": 1996,
            "bin_end": 1998,
            "count": 8
           }
          ]
         }
        },
        {
         "name": "height_cm",
         "dtype": "float64",
         "stats": {
          "unique_count": 7,
          "nan_count": 0,
          "min": "203.0",
          "max": "218.0",
          "histogram": [
           {
            "bin_start": 203,
            "bin_end": 204.5,
            "count": 2
           },
           {
            "bin_start": 204.5,
            "bin_end": 206,
            "count": 0
           },
           {
            "bin_start": 206,
            "bin_end": 207.5,
            "count": 8
           },
           {
            "bin_start": 207.5,
            "bin_end": 209,
            "count": 10
           },
           {
            "bin_start": 209,
            "bin_end": 210.5,
            "count": 0
           },
           {
            "bin_start": 210.5,
            "bin_end": 212,
            "count": 14
           },
           {
            "bin_start": 212,
            "bin_end": 213.5,
            "count": 16
           },
           {
            "bin_start": 213.5,
            "bin_end": 215,
            "count": 0
           },
           {
            "bin_start": 215,
            "bin_end": 216.5,
            "count": 4
           },
           {
            "bin_start": 216.5,
            "bin_end": 218,
            "count": 1
           }
          ]
         }
        },
        {
         "name": "weight_kg",
         "dtype": "float64",
         "stats": {
          "unique_count": 19,
          "nan_count": 0,
          "min": "99.0",
          "max": "132.0",
          "histogram": [
           {
            "bin_start": 99,
            "bin_end": 102.3,
            "count": 5
           },
           {
            "bin_start": 102.3,
            "bin_end": 105.6,
            "count": 0
           },
           {
            "bin_start": 105.6,
            "bin_end": 108.9,
            "count": 6
           },
           {
            "bin_start": 108.9,
            "bin_end": 112.2,
            "count": 15
           },
           {
            "bin_start": 112.2,
            "bin_end": 115.5,
            "count": 11
           },
           {
            "bin_start": 115.5,
            "bin_end": 118.8,
            "count": 4
           },
           {
            "bin_start": 118.8,
            "bin_end": 122.1,
            "count": 11
           },
           {
            "bin_start": 122.1,
            "bin_end": 125.4,
            "count": 1
           },
           {
            "bin_start": 125.4,
            "bin_end": 128.7,
            "count": 1
           },
           {
            "bin_start": 128.7,
            "bin_end": 132,
            "count": 1
           }
          ]
         }
        },
        {
         "name": "Pos_enc",
         "dtype": "int64",
         "stats": {
          "unique_count": 1,
          "nan_count": 0,
          "min": "5",
          "max": "5",
          "histogram": [
           {
            "bin_start": 4.5,
            "bin_end": 4.6,
            "count": 0
           },
           {
            "bin_start": 4.6,
            "bin_end": 4.7,
            "count": 0
           },
           {
            "bin_start": 4.7,
            "bin_end": 4.8,
            "count": 0
           },
           {
            "bin_start": 4.8,
            "bin_end": 4.9,
            "count": 0
           },
           {
            "bin_start": 4.9,
            "bin_end": 5,
            "count": 0
           },
           {
            "bin_start": 5,
            "bin_end": 5.1,
            "count": 55
           },
           {
            "bin_start": 5.1,
            "bin_end": 5.2,
            "count": 0
           },
           {
            "bin_start": 5.2,
            "bin_end": 5.3,
            "count": 0
           },
           {
            "bin_start": 5.3,
            "bin_end": 5.4,
            "count": 0
           },
           {
            "bin_start": 5.4,
            "bin_end": 5.5,
            "count": 0
           }
          ]
         }
        },
        {
         "name": "Preds",
         "dtype": "object",
         "stats": {
          "unique_count": 3,
          "nan_count": 0,
          "categories": [
           {
            "name": "C",
            "count": 44
           },
           {
            "name": "PF",
            "count": 10
           },
           {
            "name": "SG",
            "count": 1
           }
          ]
         }
        },
        {
         "name": "_deepnote_index_column",
         "dtype": "int64"
        }
       ],
       "rows": [
        {
         "Player": "Steven Adams",
         "Pos": "C",
         "Age": 24,
         "Team": "OKC",
         "GP": 76,
         "MIN": 2487,
         "FGM": 448,
         "FGA": 712,
         "3PM": 0,
         "3PA": 2,
         "FTM": 160,
         "FTA": 286,
         "TOV": 127,
         "PF": 214,
         "ORB": 384,
         "DRB": 301,
         "REB": 685,
         "AST": 88,
         "STL": 92,
         "BLK": 78,
         "PTS": 1056,
         "birth_year": 1993,
         "height_cm": 213,
         "weight_kg": 120,
         "Pos_enc": 5,
         "Preds": "C",
         "_deepnote_index_column": 2
        },
        {
         "Player": "Bam Adebayo",
         "Pos": "C",
         "Age": 20,
         "Team": "MIA",
         "GP": 69,
         "MIN": 1368.1,
         "FGM": 174,
         "FGA": 340,
         "3PM": 0,
         "3PA": 7,
         "FTM": 129,
         "FTA": 179,
         "TOV": 66,
         "PF": 138,
         "ORB": 118,
         "DRB": 263,
         "REB": 381,
         "AST": 101,
         "STL": 32,
         "BLK": 41,
         "PTS": 477,
         "birth_year": 1997,
         "height_cm": 208,
         "weight_kg": 116,
         "Pos_enc": 5,
         "Preds": "C",
         "_deepnote_index_column": 3
        },
        {
         "Player": "LaMarcus Aldridge",
         "Pos": "C",
         "Age": 32,
         "Team": "SAS",
         "GP": 75,
         "MIN": 2508.7,
         "FGM": 687,
         "FGA": 1347,
         "3PM": 27,
         "3PA": 92,
         "FTM": 334,
         "FTA": 399,
         "TOV": 112,
         "PF": 161,
         "ORB": 246,
         "DRB": 389,
         "REB": 635,
         "AST": 152,
         "STL": 43,
         "BLK": 90,
         "PTS": 1735,
         "birth_year": 1985,
         "height_cm": 211,
         "weight_kg": 120,
         "Pos_enc": 5,
         "Preds": "PF",
         "_deepnote_index_column": 4
        },
        {
         "Player": "Jarrett Allen",
         "Pos": "C",
         "Age": 19,
         "Team": "BRK",
         "GP": 72,
         "MIN": 1441.2,
         "FGM": 234,
         "FGA": 397,
         "3PM": 5,
         "3PA": 15,
         "FTM": 114,
         "FTA": 147,
         "TOV": 82,
         "PF": 147,
         "ORB": 144,
         "DRB": 244,
         "REB": 388,
         "AST": 49,
         "STL": 28,
         "BLK": 88,
         "PTS": 587,
         "birth_year": 1998,
         "height_cm": 211,
         "weight_kg": 108,
         "Pos_enc": 5,
         "Preds": "C",
         "_deepnote_index_column": 5
        },
        {
         "Player": "Aron Baynes",
         "Pos": "C",
         "Age": 31,
         "Team": "BOS",
         "GP": 81,
         "MIN": 1484.7,
         "FGM": 210,
         "FGA": 446,
         "3PM": 3,
         "3PA": 21,
         "FTM": 59,
         "FTA": 78,
         "TOV": 80,
         "PF": 200,
         "ORB": 130,
         "DRB": 304,
         "REB": 434,
         "AST": 93,
         "STL": 22,
         "BLK": 51,
         "PTS": 482,
         "birth_year": 1986,
         "height_cm": 208,
         "weight_kg": 118,
         "Pos_enc": 5,
         "Preds": "C",
         "_deepnote_index_column": 16
        },
        {
         "Player": "Jordan Bell",
         "Pos": "C",
         "Age": 23,
         "Team": "GSW",
         "GP": 57,
         "MIN": 808.9,
         "FGM": 116,
         "FGA": 185,
         "3PM": 0,
         "3PA": 4,
         "FTM": 30,
         "FTA": 44,
         "TOV": 51,
         "PF": 92,
         "ORB": 60,
         "DRB": 147,
         "REB": 207,
         "AST": 102,
         "STL": 35,
         "BLK": 56,
         "PTS": 262,
         "birth_year": 1995,
         "height_cm": 206,
         "weight_kg": 102,
         "Pos_enc": 5,
         "Preds": "C",
         "_deepnote_index_column": 21
        },
        {
         "Player": "Bismack Biyombo",
         "Pos": "C",
         "Age": 25,
         "Team": "ORL",
         "GP": 82,
         "MIN": 1494.9,
         "FGM": 183,
         "FGA": 352,
         "3PM": 0,
         "3PA": 1,
         "FTM": 102,
         "FTA": 157,
         "TOV": 84,
         "PF": 158,
         "ORB": 144,
         "DRB": 324,
         "REB": 468,
         "AST": 66,
         "STL": 21,
         "BLK": 95,
         "PTS": 468,
         "birth_year": 1992,
         "height_cm": 206,
         "weight_kg": 116,
         "Pos_enc": 5,
         "Preds": "C",
         "_deepnote_index_column": 23
        },
        {
         "Player": "Tarik Black",
         "Pos": "C",
         "Age": 26,
         "Team": "HOU",
         "GP": 51,
         "MIN": 536.5,
         "FGM": 75,
         "FGA": 127,
         "3PM": 1,
         "3PA": 11,
         "FTM": 29,
         "FTA": 63,
         "TOV": 35,
         "PF": 107,
         "ORB": 63,
         "DRB": 100,
         "REB": 163,
         "AST": 13,
         "STL": 21,
         "BLK": 30,
         "PTS": 180,
         "birth_year": 1991,
         "height_cm": 206,
         "weight_kg": 113,
         "Pos_enc": 5,
         "Preds": "C",
         "_deepnote_index_column": 25
        },
        {
         "Player": "Clint Capela",
         "Pos": "C",
         "Age": 23,
         "Team": "HOU",
         "GP": 74,
         "MIN": 2034.2,
         "FGM": 441,
         "FGA": 676,
         "3PM": 0,
         "3PA": 1,
         "FTM": 144,
         "FTA": 257,
         "TOV": 103,
         "PF": 185,
         "ORB": 241,
         "DRB": 561,
         "REB": 802,
         "AST": 68,
         "STL": 58,
         "BLK": 138,
         "PTS": 1026,
         "birth_year": 1994,
         "height_cm": 208,
         "weight_kg": 109,
         "Pos_enc": 5,
         "Preds": "C",
         "_deepnote_index_column": 35
        },
        {
         "Player": "Willie Cauley-Stein",
         "Pos": "C",
         "Age": 24,
         "Team": "SAC",
         "GP": 73,
         "MIN": 2044,
         "FGM": 388,
         "FGA": 773,
         "3PM": 3,
         "3PA": 12,
         "FTM": 153,
         "FTA": 247,
         "TOV": 109,
         "PF": 185,
         "ORB": 131,
         "DRB": 379,
         "REB": 510,
         "AST": 172,
         "STL": 77,
         "BLK": 67,
         "PTS": 932,
         "birth_year": 1993,
         "height_cm": 213,
         "weight_kg": 109,
         "Pos_enc": 5,
         "Preds": "C",
         "_deepnote_index_column": 38
        }
       ]
      },
      "text/plain": "                  Player Pos  Age Team  GP     MIN  FGM   FGA  3PM  3PA  ...  \\\n2           Steven Adams   C   24  OKC  76  2487.0  448   712    0    2  ...   \n3            Bam Adebayo   C   20  MIA  69  1368.1  174   340    0    7  ...   \n4      LaMarcus Aldridge   C   32  SAS  75  2508.7  687  1347   27   92  ...   \n5          Jarrett Allen   C   19  BRK  72  1441.2  234   397    5   15  ...   \n16           Aron Baynes   C   31  BOS  81  1484.7  210   446    3   21  ...   \n21           Jordan Bell   C   23  GSW  57   808.9  116   185    0    4  ...   \n23       Bismack Biyombo   C   25  ORL  82  1494.9  183   352    0    1  ...   \n25           Tarik Black   C   26  HOU  51   536.5   75   127    1   11  ...   \n35          Clint Capela   C   23  HOU  74  2034.2  441   676    0    1  ...   \n38   Willie Cauley-Stein   C   24  SAC  73  2044.0  388   773    3   12  ...   \n43          Zach Collins   C   20  POR  66  1045.6  115   289   35  113  ...   \n51         Deyonta Davis   C   21  MEM  62   942.6  161   265    0    0  ...   \n52              Ed Davis   C   28  POR  78  1470.9  170   292    0    1  ...   \n53        Dewayne Dedmon   C   28  ATL  62  1542.3  250   477   50  141  ...   \n57          Gorgui Dieng   C   28  MIN  79  1332.7  186   388   19   61  ...   \n60        Andre Drummond   C   24  DET  78  2625.0  466   881    0   11  ...   \n63           Joel Embiid   C   23  PHI  63  1912.3  510  1056   66  214  ...   \n64        Derrick Favors   C   26  UTA  77  2153.5  395   702   14   63  ...   \n72            Marc Gasol   C   33  MEM  73  2408.4  434  1033  109  320  ...   \n73             Pau Gasol   C   37  SAS  77  1812.0  287   627   43  120  ...   \n78           Rudy Gobert   C   25  UTA  56  1816.1  276   444    0    0  ...   \n81         Marcin Gortat   C   33  WAS  82  2074.6  290   560    0    0  ...   \n90      Montrezl Harrell   C   24  LAC  76  1293.0  348   548    1    7  ...   \n94           John Henson   C   27  MIL  76  1969.7  287   502    1    7  ...   \n100           Al Horford   C   31  BOS  72  2277.1  368   753   97  226  ...   \n112         Amir Johnson   C   30  PHI  74  1170.3  140   260   10   32  ...   \n117         Nikola Jokic   C   22  DEN  75  2440.9  504  1010  111  280  ...   \n119       DeAndre Jordan   C   29  LAC  77  2423.7  373   578    0    0  ...   \n121          Enes Kanter   C   25  NYK  71  1829.8  422   713    0    2  ...   \n125         Kosta Koufos   C   28  SAC  71  1391.2  222   389    0    0  ...   \n133         Kevon Looney   C   21  GSW  66   910.0  112   193    1    5  ...   \n134          Brook Lopez   C   29  LAL  74  1735.0  369   793  112  325  ...   \n135          Robin Lopez   C   29  CHI  64  1690.5  342   645    4   14  ...   \n136           Kevin Love   C   29  CLE  59  1651.2  334   729  137  330  ...   \n140          Ian Mahinmi   C   31  WAS  77  1145.3  138   248    0    2  ...   \n141           Thon Maker   C   20  MIL  74  1237.8  130   316   31  104  ...   \n148         JaVale McGee   C   30  GSW  65   615.2  136   219    0    6  ...   \n150          Salah Mejri   C   31  DAL  61   728.9   88   137    0    3  ...   \n164        Dirk Nowitzki   C   39  DAL  77  1900.4  346   758  138  337  ...   \n166         Jusuf Nurkic   C   23  POR  79  2088.3  480   951    0    7  ...   \n169         Kyle O'Quinn   C   27  NYK  77  1386.6  224   384    4   17  ...   \n174        Zaza Pachulia   C   33  GSW  69   971.8  149   264    0    1  ...   \n179        Mason Plumlee   C   27  DEN  74  1441.3  221   368    0    1  ...   \n180         Jakob Poeltl   C   22  TOR  82  1523.5  253   384    1    2  ...   \n183        Dwight Powell   C   26  DAL  79  1671.6  255   430   28   84  ...   \n185        Julius Randle   C   23  LAL  82  2190.5  504   904   10   45  ...   \n193     Domantas Sabonis   C   21  IND  74  1811.8  340   661   13   37  ...   \n211         Daniel Theis   C   25  BOS  63   935.7  126   233   18   58  ...   \n214     Tristan Thompson   C   26  CLE  53  1072.2  132   235    0    0  ...   \n217   Karl-Anthony Towns   C   22  MIN  82  2918.1  639  1172  120  285  ...   \n220         Myles Turner   C   21  IND  65  1836.3  306   639   56  157  ...   \n221            Ekpe Udoh   C   30  UTA  63   809.5   60   120    0    1  ...   \n222    Jonas Valanciunas   C   25  TOR  77  1727.3  390   687   30   74  ...   \n225           David West   C   37  GSW  73   998.7  216   378    3    8  ...   \n227     Hassan Whiteside   C   28  MIA  54  1364.2  312   578    2    2  ...   \n\n      REB  AST  STL  BLK   PTS  birth_year  height_cm  weight_kg  Pos_enc  \\\n2     685   88   92   78  1056      1993.0      213.0      120.0        5   \n3     381  101   32   41   477      1997.0      208.0      116.0        5   \n4     635  152   43   90  1735      1985.0      211.0      120.0        5   \n5     388   49   28   88   587      1998.0      211.0      108.0        5   \n16    434   93   22   51   482      1986.0      208.0      118.0        5   \n21    207  102   35   56   262      1995.0      206.0      102.0        5   \n23    468   66   21   95   468      1992.0      206.0      116.0        5   \n25    163   13   21   30   180      1991.0      206.0      113.0        5   \n35    802   68   58  138  1026      1994.0      208.0      109.0        5   \n38    510  172   77   67   932      1993.0      213.0      109.0        5   \n43    221   52   17   31   292      1997.0      213.0      107.0        5   \n51    250   40   15   39   360      1996.0      206.0      108.0        5   \n52    575   40   32   52   414      1989.0      208.0      102.0        5   \n53    489   90   40   51   617      1989.0      213.0      111.0        5   \n57    360   71   45   39   470      1990.0      211.0      114.0        5   \n60   1247  237  114  127  1171      1993.0      211.0      127.0        5   \n63    690  199   40  111  1445      1994.0      213.0      113.0        5   \n64    552  102   54   82   944      1991.0      208.0      120.0        5   \n72    592  305   54  101  1258      1985.0      216.0      116.0        5   \n73    619  238   24   79   775      1980.0      213.0      113.0        5   \n78    601   80   44  129   756      1992.0      216.0      111.0        5   \n81    623  151   40   61   690      1984.0      211.0      109.0        5   \n90    307   74   36   52   836      1994.0      203.0      109.0        5   \n94    513  114   45  109   665      1990.0      211.0       99.0        5   \n100   530  339   43   78   927      1986.0      208.0      111.0        5   \n112   330  118   45   44   342      1987.0      206.0      109.0        5   \n117   803  458   90   61  1385      1995.0      213.0      113.0        5   \n119  1171  117   39   71   927      1988.0      211.0      120.0        5   \n121   780  105   36   37  1000      1992.0      211.0      113.0        5   \n125   472   87   48   32   477      1989.0      213.0      120.0        5   \n133   215   42   34   56   267      1996.0      206.0      100.0        5   \n134   294  126   30   98   961      1988.0      213.0      122.0        5   \n135   290  124   14   53   756      1988.0      213.0      125.0        5   \n136   546  103   43   24  1039      1988.0      208.0      114.0        5   \n140   312   53   38   42   366      1986.0      211.0      119.0        5   \n141   225   46   38   53   356      1997.0      216.0      100.0        5   \n148   169   33   21   57   310      1988.0      213.0      122.0        5   \n150   246   35   22   67   214      1986.0      218.0      107.0        5   \n164   438  120   43   45   927      1978.0      213.0      111.0        5   \n166   708  143   64  111  1132      1994.0      213.0      132.0        5   \n169   470  158   36   98   550      1990.0      208.0      113.0        5   \n174   321  109   38   17   373      1984.0      211.0      122.0        5   \n179   400  142   49   81   524      1990.0      211.0      107.0        5   \n180   393   57   39  100   567      1995.0      213.0      109.0        5   \n183   444   91   67   32   671      1991.0      211.0      109.0        5   \n185   654  210   43   45  1323      1994.0      206.0      113.0        5   \n193   572  151   40   32   861      1996.0      211.0      109.0        5   \n211   274   56   30   48   331      1992.0      203.0      110.0        5   \n214   352   33   16   17   307      1991.0      208.0      108.0        5   \n217  1012  199   64  115  1743      1995.0      213.0      112.0        5   \n220   417   87   38  118   828      1996.0      211.0      113.0        5   \n221   150   53   43   74   162      1987.0      208.0      111.0        5   \n222   660   81   29   69   980      1992.0      213.0      120.0        5   \n225   238  138   47   75   495      1980.0      206.0      113.0        5   \n227   618   54   38   94   754      1989.0      216.0      120.0        5   \n\n     Preds  \n2        C  \n3        C  \n4       PF  \n5        C  \n16       C  \n21       C  \n23       C  \n25       C  \n35       C  \n38       C  \n43      PF  \n51       C  \n52       C  \n53       C  \n57       C  \n60       C  \n63       C  \n64       C  \n72      PF  \n73       C  \n78       C  \n81       C  \n90      PF  \n94       C  \n100     PF  \n112      C  \n117      C  \n119      C  \n121      C  \n125      C  \n133      C  \n134     SG  \n135      C  \n136     PF  \n140      C  \n141     PF  \n148      C  \n150      C  \n164     PF  \n166      C  \n169      C  \n174      C  \n179      C  \n180      C  \n183      C  \n185      C  \n193      C  \n211      C  \n214      C  \n217     PF  \n220     PF  \n221      C  \n222      C  \n225      C  \n227      C  \n\n[55 rows x 26 columns]",
      "text/html": "<div>\n<style scoped>\n    .dataframe tbody tr th:only-of-type {\n        vertical-align: middle;\n    }\n\n    .dataframe tbody tr th {\n        vertical-align: top;\n    }\n\n    .dataframe thead th {\n        text-align: right;\n    }\n</style>\n<table border=\"1\" class=\"dataframe\">\n  <thead>\n    <tr style=\"text-align: right;\">\n      <th></th>\n      <th>Player</th>\n      <th>Pos</th>\n      <th>Age</th>\n      <th>Team</th>\n      <th>GP</th>\n      <th>MIN</th>\n      <th>FGM</th>\n      <th>FGA</th>\n      <th>3PM</th>\n      <th>3PA</th>\n      <th>...</th>\n      <th>REB</th>\n      <th>AST</th>\n      <th>STL</th>\n      <th>BLK</th>\n      <th>PTS</th>\n      <th>birth_year</th>\n      <th>height_cm</th>\n      <th>weight_kg</th>\n      <th>Pos_enc</th>\n      <th>Preds</th>\n    </tr>\n  </thead>\n  <tbody>\n    <tr>\n      <th>2</th>\n      <td>Steven Adams</td>\n      <td>C</td>\n      <td>24</td>\n      <td>OKC</td>\n      <td>76</td>\n      <td>2487.0</td>\n      <td>448</td>\n      <td>712</td>\n      <td>0</td>\n      <td>2</td>\n      <td>...</td>\n      <td>685</td>\n      <td>88</td>\n      <td>92</td>\n      <td>78</td>\n      <td>1056</td>\n      <td>1993.0</td>\n      <td>213.0</td>\n      <td>120.0</td>\n      <td>5</td>\n      <td>C</td>\n    </tr>\n    <tr>\n      <th>3</th>\n      <td>Bam Adebayo</td>\n      <td>C</td>\n      <td>20</td>\n      <td>MIA</td>\n      <td>69</td>\n      <td>1368.1</td>\n      <td>174</td>\n      <td>340</td>\n      <td>0</td>\n      <td>7</td>\n      <td>...</td>\n      <td>381</td>\n      <td>101</td>\n      <td>32</td>\n      <td>41</td>\n      <td>477</td>\n      <td>1997.0</td>\n      <td>208.0</td>\n      <td>116.0</td>\n      <td>5</td>\n      <td>C</td>\n    </tr>\n    <tr>\n      <th>4</th>\n      <td>LaMarcus Aldridge</td>\n      <td>C</td>\n      <td>32</td>\n      <td>SAS</td>\n      <td>75</td>\n      <td>2508.7</td>\n      <td>687</td>\n      <td>1347</td>\n      <td>27</td>\n      <td>92</td>\n      <td>...</td>\n      <td>635</td>\n      <td>152</td>\n      <td>43</td>\n      <td>90</td>\n      <td>1735</td>\n      <td>1985.0</td>\n      <td>211.0</td>\n      <td>120.0</td>\n      <td>5</td>\n      <td>PF</td>\n    </tr>\n    <tr>\n      <th>5</th>\n      <td>Jarrett Allen</td>\n      <td>C</td>\n      <td>19</td>\n      <td>BRK</td>\n      <td>72</td>\n      <td>1441.2</td>\n      <td>234</td>\n      <td>397</td>\n      <td>5</td>\n      <td>15</td>\n      <td>...</td>\n      <td>388</td>\n      <td>49</td>\n      <td>28</td>\n      <td>88</td>\n      <td>587</td>\n      <td>1998.0</td>\n      <td>211.0</td>\n      <td>108.0</td>\n      <td>5</td>\n      <td>C</td>\n    </tr>\n    <tr>\n      <th>16</th>\n      <td>Aron Baynes</td>\n      <td>C</td>\n      <td>31</td>\n      <td>BOS</td>\n      <td>81</td>\n      <td>1484.7</td>\n      <td>210</td>\n      <td>446</td>\n      <td>3</td>\n      <td>21</td>\n      <td>...</td>\n      <td>434</td>\n      <td>93</td>\n      <td>22</td>\n      <td>51</td>\n      <td>482</td>\n      <td>1986.0</td>\n      <td>208.0</td>\n      <td>118.0</td>\n      <td>5</td>\n      <td>C</td>\n    </tr>\n    <tr>\n      <th>21</th>\n      <td>Jordan Bell</td>\n      <td>C</td>\n      <td>23</td>\n      <td>GSW</td>\n      <td>57</td>\n      <td>808.9</td>\n      <td>116</td>\n      <td>185</td>\n      <td>0</td>\n      <td>4</td>\n      <td>...</td>\n      <td>207</td>\n      <td>102</td>\n      <td>35</td>\n      <td>56</td>\n      <td>262</td>\n      <td>1995.0</td>\n      <td>206.0</td>\n      <td>102.0</td>\n      <td>5</td>\n      <td>C</td>\n    </tr>\n    <tr>\n      <th>23</th>\n      <td>Bismack Biyombo</td>\n      <td>C</td>\n      <td>25</td>\n      <td>ORL</td>\n      <td>82</td>\n      <td>1494.9</td>\n      <td>183</td>\n      <td>352</td>\n      <td>0</td>\n      <td>1</td>\n      <td>...</td>\n      <td>468</td>\n      <td>66</td>\n      <td>21</td>\n      <td>95</td>\n      <td>468</td>\n      <td>1992.0</td>\n      <td>206.0</td>\n      <td>116.0</td>\n      <td>5</td>\n      <td>C</td>\n    </tr>\n    <tr>\n      <th>25</th>\n      <td>Tarik Black</td>\n      <td>C</td>\n      <td>26</td>\n      <td>HOU</td>\n      <td>51</td>\n      <td>536.5</td>\n      <td>75</td>\n      <td>127</td>\n      <td>1</td>\n      <td>11</td>\n      <td>...</td>\n      <td>163</td>\n      <td>13</td>\n      <td>21</td>\n      <td>30</td>\n      <td>180</td>\n      <td>1991.0</td>\n      <td>206.0</td>\n      <td>113.0</td>\n      <td>5</td>\n      <td>C</td>\n    </tr>\n    <tr>\n      <th>35</th>\n      <td>Clint Capela</td>\n      <td>C</td>\n      <td>23</td>\n      <td>HOU</td>\n      <td>74</td>\n      <td>2034.2</td>\n      <td>441</td>\n      <td>676</td>\n      <td>0</td>\n      <td>1</td>\n      <td>...</td>\n      <td>802</td>\n      <td>68</td>\n      <td>58</td>\n      <td>138</td>\n      <td>1026</td>\n      <td>1994.0</td>\n      <td>208.0</td>\n      <td>109.0</td>\n      <td>5</td>\n      <td>C</td>\n    </tr>\n    <tr>\n      <th>38</th>\n      <td>Willie Cauley-Stein</td>\n      <td>C</td>\n      <td>24</td>\n      <td>SAC</td>\n      <td>73</td>\n      <td>2044.0</td>\n      <td>388</td>\n      <td>773</td>\n      <td>3</td>\n      <td>12</td>\n      <td>...</td>\n      <td>510</td>\n      <td>172</td>\n      <td>77</td>\n      <td>67</td>\n      <td>932</td>\n      <td>1993.0</td>\n      <td>213.0</td>\n      <td>109.0</td>\n      <td>5</td>\n      <td>C</td>\n    </tr>\n    <tr>\n      <th>43</th>\n      <td>Zach Collins</td>\n      <td>C</td>\n      <td>20</td>\n      <td>POR</td>\n      <td>66</td>\n      <td>1045.6</td>\n      <td>115</td>\n      <td>289</td>\n      <td>35</td>\n      <td>113</td>\n      <td>...</td>\n      <td>221</td>\n      <td>52</td>\n      <td>17</td>\n      <td>31</td>\n      <td>292</td>\n      <td>1997.0</td>\n      <td>213.0</td>\n      <td>107.0</td>\n      <td>5</td>\n      <td>PF</td>\n    </tr>\n    <tr>\n      <th>51</th>\n      <td>Deyonta Davis</td>\n      <td>C</td>\n      <td>21</td>\n      <td>MEM</td>\n      <td>62</td>\n      <td>942.6</td>\n      <td>161</td>\n      <td>265</td>\n      <td>0</td>\n      <td>0</td>\n      <td>...</td>\n      <td>250</td>\n      <td>40</td>\n      <td>15</td>\n      <td>39</td>\n      <td>360</td>\n      <td>1996.0</td>\n      <td>206.0</td>\n      <td>108.0</td>\n      <td>5</td>\n      <td>C</td>\n    </tr>\n    <tr>\n      <th>52</th>\n      <td>Ed Davis</td>\n      <td>C</td>\n      <td>28</td>\n      <td>POR</td>\n      <td>78</td>\n      <td>1470.9</td>\n      <td>170</td>\n      <td>292</td>\n      <td>0</td>\n      <td>1</td>\n      <td>...</td>\n      <td>575</td>\n      <td>40</td>\n      <td>32</td>\n      <td>52</td>\n      <td>414</td>\n      <td>1989.0</td>\n      <td>208.0</td>\n      <td>102.0</td>\n      <td>5</td>\n      <td>C</td>\n    </tr>\n    <tr>\n      <th>53</th>\n      <td>Dewayne Dedmon</td>\n      <td>C</td>\n      <td>28</td>\n      <td>ATL</td>\n      <td>62</td>\n      <td>1542.3</td>\n      <td>250</td>\n      <td>477</td>\n      <td>50</td>\n      <td>141</td>\n      <td>...</td>\n      <td>489</td>\n      <td>90</td>\n      <td>40</td>\n      <td>51</td>\n      <td>617</td>\n      <td>1989.0</td>\n      <td>213.0</td>\n      <td>111.0</td>\n      <td>5</td>\n      <td>C</td>\n    </tr>\n    <tr>\n      <th>57</th>\n      <td>Gorgui Dieng</td>\n      <td>C</td>\n      <td>28</td>\n      <td>MIN</td>\n      <td>79</td>\n      <td>1332.7</td>\n      <td>186</td>\n      <td>388</td>\n      <td>19</td>\n      <td>61</td>\n      <td>...</td>\n      <td>360</td>\n      <td>71</td>\n      <td>45</td>\n      <td>39</td>\n      <td>470</td>\n      <td>1990.0</td>\n      <td>211.0</td>\n      <td>114.0</td>\n      <td>5</td>\n      <td>C</td>\n    </tr>\n    <tr>\n      <th>60</th>\n      <td>Andre Drummond</td>\n      <td>C</td>\n      <td>24</td>\n      <td>DET</td>\n      <td>78</td>\n      <td>2625.0</td>\n      <td>466</td>\n      <td>881</td>\n      <td>0</td>\n      <td>11</td>\n      <td>...</td>\n      <td>1247</td>\n      <td>237</td>\n      <td>114</td>\n      <td>127</td>\n      <td>1171</td>\n      <td>1993.0</td>\n      <td>211.0</td>\n      <td>127.0</td>\n      <td>5</td>\n      <td>C</td>\n    </tr>\n    <tr>\n      <th>63</th>\n      <td>Joel Embiid</td>\n      <td>C</td>\n      <td>23</td>\n      <td>PHI</td>\n      <td>63</td>\n      <td>1912.3</td>\n      <td>510</td>\n      <td>1056</td>\n      <td>66</td>\n      <td>214</td>\n      <td>...</td>\n      <td>690</td>\n      <td>199</td>\n      <td>40</td>\n      <td>111</td>\n      <td>1445</td>\n      <td>1994.0</td>\n      <td>213.0</td>\n      <td>113.0</td>\n      <td>5</td>\n      <td>C</td>\n    </tr>\n    <tr>\n      <th>64</th>\n      <td>Derrick Favors</td>\n      <td>C</td>\n      <td>26</td>\n      <td>UTA</td>\n      <td>77</td>\n      <td>2153.5</td>\n      <td>395</td>\n      <td>702</td>\n      <td>14</td>\n      <td>63</td>\n      <td>...</td>\n      <td>552</td>\n      <td>102</td>\n      <td>54</td>\n      <td>82</td>\n      <td>944</td>\n      <td>1991.0</td>\n      <td>208.0</td>\n      <td>120.0</td>\n      <td>5</td>\n      <td>C</td>\n    </tr>\n    <tr>\n      <th>72</th>\n      <td>Marc Gasol</td>\n      <td>C</td>\n      <td>33</td>\n      <td>MEM</td>\n      <td>73</td>\n      <td>2408.4</td>\n      <td>434</td>\n      <td>1033</td>\n      <td>109</td>\n      <td>320</td>\n      <td>...</td>\n      <td>592</td>\n      <td>305</td>\n      <td>54</td>\n      <td>101</td>\n      <td>1258</td>\n      <td>1985.0</td>\n      <td>216.0</td>\n      <td>116.0</td>\n      <td>5</td>\n      <td>PF</td>\n    </tr>\n    <tr>\n      <th>73</th>\n      <td>Pau Gasol</td>\n      <td>C</td>\n      <td>37</td>\n      <td>SAS</td>\n      <td>77</td>\n      <td>1812.0</td>\n      <td>287</td>\n      <td>627</td>\n      <td>43</td>\n      <td>120</td>\n      <td>...</td>\n      <td>619</td>\n      <td>238</td>\n      <td>24</td>\n      <td>79</td>\n      <td>775</td>\n      <td>1980.0</td>\n      <td>213.0</td>\n      <td>113.0</td>\n      <td>5</td>\n      <td>C</td>\n    </tr>\n    <tr>\n      <th>78</th>\n      <td>Rudy Gobert</td>\n      <td>C</td>\n      <td>25</td>\n      <td>UTA</td>\n      <td>56</td>\n      <td>1816.1</td>\n      <td>276</td>\n      <td>444</td>\n      <td>0</td>\n      <td>0</td>\n      <td>...</td>\n      <td>601</td>\n      <td>80</td>\n      <td>44</td>\n      <td>129</td>\n      <td>756</td>\n      <td>1992.0</td>\n      <td>216.0</td>\n      <td>111.0</td>\n      <td>5</td>\n      <td>C</td>\n    </tr>\n    <tr>\n      <th>81</th>\n      <td>Marcin Gortat</td>\n      <td>C</td>\n      <td>33</td>\n      <td>WAS</td>\n      <td>82</td>\n      <td>2074.6</td>\n      <td>290</td>\n      <td>560</td>\n      <td>0</td>\n      <td>0</td>\n      <td>...</td>\n      <td>623</td>\n      <td>151</td>\n      <td>40</td>\n      <td>61</td>\n      <td>690</td>\n      <td>1984.0</td>\n      <td>211.0</td>\n      <td>109.0</td>\n      <td>5</td>\n      <td>C</td>\n    </tr>\n    <tr>\n      <th>90</th>\n      <td>Montrezl Harrell</td>\n      <td>C</td>\n      <td>24</td>\n      <td>LAC</td>\n      <td>76</td>\n      <td>1293.0</td>\n      <td>348</td>\n      <td>548</td>\n      <td>1</td>\n      <td>7</td>\n      <td>...</td>\n      <td>307</td>\n      <td>74</td>\n      <td>36</td>\n      <td>52</td>\n      <td>836</td>\n      <td>1994.0</td>\n      <td>203.0</td>\n      <td>109.0</td>\n      <td>5</td>\n      <td>PF</td>\n    </tr>\n    <tr>\n      <th>94</th>\n      <td>John Henson</td>\n      <td>C</td>\n      <td>27</td>\n      <td>MIL</td>\n      <td>76</td>\n      <td>1969.7</td>\n      <td>287</td>\n      <td>502</td>\n      <td>1</td>\n      <td>7</td>\n      <td>...</td>\n      <td>513</td>\n      <td>114</td>\n      <td>45</td>\n      <td>109</td>\n      <td>665</td>\n      <td>1990.0</td>\n      <td>211.0</td>\n      <td>99.0</td>\n      <td>5</td>\n      <td>C</td>\n    </tr>\n    <tr>\n      <th>100</th>\n      <td>Al Horford</td>\n      <td>C</td>\n      <td>31</td>\n      <td>BOS</td>\n      <td>72</td>\n      <td>2277.1</td>\n      <td>368</td>\n      <td>753</td>\n      <td>97</td>\n      <td>226</td>\n      <td>...</td>\n      <td>530</td>\n      <td>339</td>\n      <td>43</td>\n      <td>78</td>\n      <td>927</td>\n      <td>1986.0</td>\n      <td>208.0</td>\n      <td>111.0</td>\n      <td>5</td>\n      <td>PF</td>\n    </tr>\n    <tr>\n      <th>112</th>\n      <td>Amir Johnson</td>\n      <td>C</td>\n      <td>30</td>\n      <td>PHI</td>\n      <td>74</td>\n      <td>1170.3</td>\n      <td>140</td>\n      <td>260</td>\n      <td>10</td>\n      <td>32</td>\n      <td>...</td>\n      <td>330</td>\n      <td>118</td>\n      <td>45</td>\n      <td>44</td>\n      <td>342</td>\n      <td>1987.0</td>\n      <td>206.0</td>\n      <td>109.0</td>\n      <td>5</td>\n      <td>C</td>\n    </tr>\n    <tr>\n      <th>117</th>\n      <td>Nikola Jokic</td>\n      <td>C</td>\n      <td>22</td>\n      <td>DEN</td>\n      <td>75</td>\n      <td>2440.9</td>\n      <td>504</td>\n      <td>1010</td>\n      <td>111</td>\n      <td>280</td>\n      <td>...</td>\n      <td>803</td>\n      <td>458</td>\n      <td>90</td>\n      <td>61</td>\n      <td>1385</td>\n      <td>1995.0</td>\n      <td>213.0</td>\n      <td>113.0</td>\n      <td>5</td>\n      <td>C</td>\n    </tr>\n    <tr>\n      <th>119</th>\n      <td>DeAndre Jordan</td>\n      <td>C</td>\n      <td>29</td>\n      <td>LAC</td>\n      <td>77</td>\n      <td>2423.7</td>\n      <td>373</td>\n      <td>578</td>\n      <td>0</td>\n      <td>0</td>\n      <td>...</td>\n      <td>1171</td>\n      <td>117</td>\n      <td>39</td>\n      <td>71</td>\n      <td>927</td>\n      <td>1988.0</td>\n      <td>211.0</td>\n      <td>120.0</td>\n      <td>5</td>\n      <td>C</td>\n    </tr>\n    <tr>\n      <th>121</th>\n      <td>Enes Kanter</td>\n      <td>C</td>\n      <td>25</td>\n      <td>NYK</td>\n      <td>71</td>\n      <td>1829.8</td>\n      <td>422</td>\n      <td>713</td>\n      <td>0</td>\n      <td>2</td>\n      <td>...</td>\n      <td>780</td>\n      <td>105</td>\n      <td>36</td>\n      <td>37</td>\n      <td>1000</td>\n      <td>1992.0</td>\n      <td>211.0</td>\n      <td>113.0</td>\n      <td>5</td>\n      <td>C</td>\n    </tr>\n    <tr>\n      <th>125</th>\n      <td>Kosta Koufos</td>\n      <td>C</td>\n      <td>28</td>\n      <td>SAC</td>\n      <td>71</td>\n      <td>1391.2</td>\n      <td>222</td>\n      <td>389</td>\n      <td>0</td>\n      <td>0</td>\n      <td>...</td>\n      <td>472</td>\n      <td>87</td>\n      <td>48</td>\n      <td>32</td>\n      <td>477</td>\n      <td>1989.0</td>\n      <td>213.0</td>\n      <td>120.0</td>\n      <td>5</td>\n      <td>C</td>\n    </tr>\n    <tr>\n      <th>133</th>\n      <td>Kevon Looney</td>\n      <td>C</td>\n      <td>21</td>\n      <td>GSW</td>\n      <td>66</td>\n      <td>910.0</td>\n      <td>112</td>\n      <td>193</td>\n      <td>1</td>\n      <td>5</td>\n      <td>...</td>\n      <td>215</td>\n      <td>42</td>\n      <td>34</td>\n      <td>56</td>\n      <td>267</td>\n      <td>1996.0</td>\n      <td>206.0</td>\n      <td>100.0</td>\n      <td>5</td>\n      <td>C</td>\n    </tr>\n    <tr>\n      <th>134</th>\n      <td>Brook Lopez</td>\n      <td>C</td>\n      <td>29</td>\n      <td>LAL</td>\n      <td>74</td>\n      <td>1735.0</td>\n      <td>369</td>\n      <td>793</td>\n      <td>112</td>\n      <td>325</td>\n      <td>...</td>\n      <td>294</td>\n      <td>126</td>\n      <td>30</td>\n      <td>98</td>\n      <td>961</td>\n      <td>1988.0</td>\n      <td>213.0</td>\n      <td>122.0</td>\n      <td>5</td>\n      <td>SG</td>\n    </tr>\n    <tr>\n      <th>135</th>\n      <td>Robin Lopez</td>\n      <td>C</td>\n      <td>29</td>\n      <td>CHI</td>\n      <td>64</td>\n      <td>1690.5</td>\n      <td>342</td>\n      <td>645</td>\n      <td>4</td>\n      <td>14</td>\n      <td>...</td>\n      <td>290</td>\n      <td>124</td>\n      <td>14</td>\n      <td>53</td>\n      <td>756</td>\n      <td>1988.0</td>\n      <td>213.0</td>\n      <td>125.0</td>\n      <td>5</td>\n      <td>C</td>\n    </tr>\n    <tr>\n      <th>136</th>\n      <td>Kevin Love</td>\n      <td>C</td>\n      <td>29</td>\n      <td>CLE</td>\n      <td>59</td>\n      <td>1651.2</td>\n      <td>334</td>\n      <td>729</td>\n      <td>137</td>\n      <td>330</td>\n      <td>...</td>\n      <td>546</td>\n      <td>103</td>\n      <td>43</td>\n      <td>24</td>\n      <td>1039</td>\n      <td>1988.0</td>\n      <td>208.0</td>\n      <td>114.0</td>\n      <td>5</td>\n      <td>PF</td>\n    </tr>\n    <tr>\n      <th>140</th>\n      <td>Ian Mahinmi</td>\n      <td>C</td>\n      <td>31</td>\n      <td>WAS</td>\n      <td>77</td>\n      <td>1145.3</td>\n      <td>138</td>\n      <td>248</td>\n      <td>0</td>\n      <td>2</td>\n      <td>...</td>\n      <td>312</td>\n      <td>53</td>\n      <td>38</td>\n      <td>42</td>\n      <td>366</td>\n      <td>1986.0</td>\n      <td>211.0</td>\n      <td>119.0</td>\n      <td>5</td>\n      <td>C</td>\n    </tr>\n    <tr>\n      <th>141</th>\n      <td>Thon Maker</td>\n      <td>C</td>\n      <td>20</td>\n      <td>MIL</td>\n      <td>74</td>\n      <td>1237.8</td>\n      <td>130</td>\n      <td>316</td>\n      <td>31</td>\n      <td>104</td>\n      <td>...</td>\n      <td>225</td>\n      <td>46</td>\n      <td>38</td>\n      <td>53</td>\n      <td>356</td>\n      <td>1997.0</td>\n      <td>216.0</td>\n      <td>100.0</td>\n      <td>5</td>\n      <td>PF</td>\n    </tr>\n    <tr>\n      <th>148</th>\n      <td>JaVale McGee</td>\n      <td>C</td>\n      <td>30</td>\n      <td>GSW</td>\n      <td>65</td>\n      <td>615.2</td>\n      <td>136</td>\n      <td>219</td>\n      <td>0</td>\n      <td>6</td>\n      <td>...</td>\n      <td>169</td>\n      <td>33</td>\n      <td>21</td>\n      <td>57</td>\n      <td>310</td>\n      <td>1988.0</td>\n      <td>213.0</td>\n      <td>122.0</td>\n      <td>5</td>\n      <td>C</td>\n    </tr>\n    <tr>\n      <th>150</th>\n      <td>Salah Mejri</td>\n      <td>C</td>\n      <td>31</td>\n      <td>DAL</td>\n      <td>61</td>\n      <td>728.9</td>\n      <td>88</td>\n      <td>137</td>\n      <td>0</td>\n      <td>3</td>\n      <td>...</td>\n      <td>246</td>\n      <td>35</td>\n      <td>22</td>\n      <td>67</td>\n      <td>214</td>\n      <td>1986.0</td>\n      <td>218.0</td>\n      <td>107.0</td>\n      <td>5</td>\n      <td>C</td>\n    </tr>\n    <tr>\n      <th>164</th>\n      <td>Dirk Nowitzki</td>\n      <td>C</td>\n      <td>39</td>\n      <td>DAL</td>\n      <td>77</td>\n      <td>1900.4</td>\n      <td>346</td>\n      <td>758</td>\n      <td>138</td>\n      <td>337</td>\n      <td>...</td>\n      <td>438</td>\n      <td>120</td>\n      <td>43</td>\n      <td>45</td>\n      <td>927</td>\n      <td>1978.0</td>\n      <td>213.0</td>\n      <td>111.0</td>\n      <td>5</td>\n      <td>PF</td>\n    </tr>\n    <tr>\n      <th>166</th>\n      <td>Jusuf Nurkic</td>\n      <td>C</td>\n      <td>23</td>\n      <td>POR</td>\n      <td>79</td>\n      <td>2088.3</td>\n      <td>480</td>\n      <td>951</td>\n      <td>0</td>\n      <td>7</td>\n      <td>...</td>\n      <td>708</td>\n      <td>143</td>\n      <td>64</td>\n      <td>111</td>\n      <td>1132</td>\n      <td>1994.0</td>\n      <td>213.0</td>\n      <td>132.0</td>\n      <td>5</td>\n      <td>C</td>\n    </tr>\n    <tr>\n      <th>169</th>\n      <td>Kyle O'Quinn</td>\n      <td>C</td>\n      <td>27</td>\n      <td>NYK</td>\n      <td>77</td>\n      <td>1386.6</td>\n      <td>224</td>\n      <td>384</td>\n      <td>4</td>\n      <td>17</td>\n      <td>...</td>\n      <td>470</td>\n      <td>158</td>\n      <td>36</td>\n      <td>98</td>\n      <td>550</td>\n      <td>1990.0</td>\n      <td>208.0</td>\n      <td>113.0</td>\n      <td>5</td>\n      <td>C</td>\n    </tr>\n    <tr>\n      <th>174</th>\n      <td>Zaza Pachulia</td>\n      <td>C</td>\n      <td>33</td>\n      <td>GSW</td>\n      <td>69</td>\n      <td>971.8</td>\n      <td>149</td>\n      <td>264</td>\n      <td>0</td>\n      <td>1</td>\n      <td>...</td>\n      <td>321</td>\n      <td>109</td>\n      <td>38</td>\n      <td>17</td>\n      <td>373</td>\n      <td>1984.0</td>\n      <td>211.0</td>\n      <td>122.0</td>\n      <td>5</td>\n      <td>C</td>\n    </tr>\n    <tr>\n      <th>179</th>\n      <td>Mason Plumlee</td>\n      <td>C</td>\n      <td>27</td>\n      <td>DEN</td>\n      <td>74</td>\n      <td>1441.3</td>\n      <td>221</td>\n      <td>368</td>\n      <td>0</td>\n      <td>1</td>\n      <td>...</td>\n      <td>400</td>\n      <td>142</td>\n      <td>49</td>\n      <td>81</td>\n      <td>524</td>\n      <td>1990.0</td>\n      <td>211.0</td>\n      <td>107.0</td>\n      <td>5</td>\n      <td>C</td>\n    </tr>\n    <tr>\n      <th>180</th>\n      <td>Jakob Poeltl</td>\n      <td>C</td>\n      <td>22</td>\n      <td>TOR</td>\n      <td>82</td>\n      <td>1523.5</td>\n      <td>253</td>\n      <td>384</td>\n      <td>1</td>\n      <td>2</td>\n      <td>...</td>\n      <td>393</td>\n      <td>57</td>\n      <td>39</td>\n      <td>100</td>\n      <td>567</td>\n      <td>1995.0</td>\n      <td>213.0</td>\n      <td>109.0</td>\n      <td>5</td>\n      <td>C</td>\n    </tr>\n    <tr>\n      <th>183</th>\n      <td>Dwight Powell</td>\n      <td>C</td>\n      <td>26</td>\n      <td>DAL</td>\n      <td>79</td>\n      <td>1671.6</td>\n      <td>255</td>\n      <td>430</td>\n      <td>28</td>\n      <td>84</td>\n      <td>...</td>\n      <td>444</td>\n      <td>91</td>\n      <td>67</td>\n      <td>32</td>\n      <td>671</td>\n      <td>1991.0</td>\n      <td>211.0</td>\n      <td>109.0</td>\n      <td>5</td>\n      <td>C</td>\n    </tr>\n    <tr>\n      <th>185</th>\n      <td>Julius Randle</td>\n      <td>C</td>\n      <td>23</td>\n      <td>LAL</td>\n      <td>82</td>\n      <td>2190.5</td>\n      <td>504</td>\n      <td>904</td>\n      <td>10</td>\n      <td>45</td>\n      <td>...</td>\n      <td>654</td>\n      <td>210</td>\n      <td>43</td>\n      <td>45</td>\n      <td>1323</td>\n      <td>1994.0</td>\n      <td>206.0</td>\n      <td>113.0</td>\n      <td>5</td>\n      <td>C</td>\n    </tr>\n    <tr>\n      <th>193</th>\n      <td>Domantas Sabonis</td>\n      <td>C</td>\n      <td>21</td>\n      <td>IND</td>\n      <td>74</td>\n      <td>1811.8</td>\n      <td>340</td>\n      <td>661</td>\n      <td>13</td>\n      <td>37</td>\n      <td>...</td>\n      <td>572</td>\n      <td>151</td>\n      <td>40</td>\n      <td>32</td>\n      <td>861</td>\n      <td>1996.0</td>\n      <td>211.0</td>\n      <td>109.0</td>\n      <td>5</td>\n      <td>C</td>\n    </tr>\n    <tr>\n      <th>211</th>\n      <td>Daniel Theis</td>\n      <td>C</td>\n      <td>25</td>\n      <td>BOS</td>\n      <td>63</td>\n      <td>935.7</td>\n      <td>126</td>\n      <td>233</td>\n      <td>18</td>\n      <td>58</td>\n      <td>...</td>\n      <td>274</td>\n      <td>56</td>\n      <td>30</td>\n      <td>48</td>\n      <td>331</td>\n      <td>1992.0</td>\n      <td>203.0</td>\n      <td>110.0</td>\n      <td>5</td>\n      <td>C</td>\n    </tr>\n    <tr>\n      <th>214</th>\n      <td>Tristan Thompson</td>\n      <td>C</td>\n      <td>26</td>\n      <td>CLE</td>\n      <td>53</td>\n      <td>1072.2</td>\n      <td>132</td>\n      <td>235</td>\n      <td>0</td>\n      <td>0</td>\n      <td>...</td>\n      <td>352</td>\n      <td>33</td>\n      <td>16</td>\n      <td>17</td>\n      <td>307</td>\n      <td>1991.0</td>\n      <td>208.0</td>\n      <td>108.0</td>\n      <td>5</td>\n      <td>C</td>\n    </tr>\n    <tr>\n      <th>217</th>\n      <td>Karl-Anthony Towns</td>\n      <td>C</td>\n      <td>22</td>\n      <td>MIN</td>\n      <td>82</td>\n      <td>2918.1</td>\n      <td>639</td>\n      <td>1172</td>\n      <td>120</td>\n      <td>285</td>\n      <td>...</td>\n      <td>1012</td>\n      <td>199</td>\n      <td>64</td>\n      <td>115</td>\n      <td>1743</td>\n      <td>1995.0</td>\n      <td>213.0</td>\n      <td>112.0</td>\n      <td>5</td>\n      <td>PF</td>\n    </tr>\n    <tr>\n      <th>220</th>\n      <td>Myles Turner</td>\n      <td>C</td>\n      <td>21</td>\n      <td>IND</td>\n      <td>65</td>\n      <td>1836.3</td>\n      <td>306</td>\n      <td>639</td>\n      <td>56</td>\n      <td>157</td>\n      <td>...</td>\n      <td>417</td>\n      <td>87</td>\n      <td>38</td>\n      <td>118</td>\n      <td>828</td>\n      <td>1996.0</td>\n      <td>211.0</td>\n      <td>113.0</td>\n      <td>5</td>\n      <td>PF</td>\n    </tr>\n    <tr>\n      <th>221</th>\n      <td>Ekpe Udoh</td>\n      <td>C</td>\n      <td>30</td>\n      <td>UTA</td>\n      <td>63</td>\n      <td>809.5</td>\n      <td>60</td>\n      <td>120</td>\n      <td>0</td>\n      <td>1</td>\n      <td>...</td>\n      <td>150</td>\n      <td>53</td>\n      <td>43</td>\n      <td>74</td>\n      <td>162</td>\n      <td>1987.0</td>\n      <td>208.0</td>\n      <td>111.0</td>\n      <td>5</td>\n      <td>C</td>\n    </tr>\n    <tr>\n      <th>222</th>\n      <td>Jonas Valanciunas</td>\n      <td>C</td>\n      <td>25</td>\n      <td>TOR</td>\n      <td>77</td>\n      <td>1727.3</td>\n      <td>390</td>\n      <td>687</td>\n      <td>30</td>\n      <td>74</td>\n      <td>...</td>\n      <td>660</td>\n      <td>81</td>\n      <td>29</td>\n      <td>69</td>\n      <td>980</td>\n      <td>1992.0</td>\n      <td>213.0</td>\n      <td>120.0</td>\n      <td>5</td>\n      <td>C</td>\n    </tr>\n    <tr>\n      <th>225</th>\n      <td>David West</td>\n      <td>C</td>\n      <td>37</td>\n      <td>GSW</td>\n      <td>73</td>\n      <td>998.7</td>\n      <td>216</td>\n      <td>378</td>\n      <td>3</td>\n      <td>8</td>\n      <td>...</td>\n      <td>238</td>\n      <td>138</td>\n      <td>47</td>\n      <td>75</td>\n      <td>495</td>\n      <td>1980.0</td>\n      <td>206.0</td>\n      <td>113.0</td>\n      <td>5</td>\n      <td>C</td>\n    </tr>\n    <tr>\n      <th>227</th>\n      <td>Hassan Whiteside</td>\n      <td>C</td>\n      <td>28</td>\n      <td>MIA</td>\n      <td>54</td>\n      <td>1364.2</td>\n      <td>312</td>\n      <td>578</td>\n      <td>2</td>\n      <td>2</td>\n      <td>...</td>\n      <td>618</td>\n      <td>54</td>\n      <td>38</td>\n      <td>94</td>\n      <td>754</td>\n      <td>1989.0</td>\n      <td>216.0</td>\n      <td>120.0</td>\n      <td>5</td>\n      <td>C</td>\n    </tr>\n  </tbody>\n</table>\n<p>55 rows × 26 columns</p>\n</div>"
     },
     "metadata": {}
    }
   ],
   "execution_count": null
  },
  {
   "cell_type": "code",
   "metadata": {
    "cell_id": "00027-6dd5f25a-aaea-4fd9-9724-d6feb6715312",
    "deepnote_to_be_reexecuted": false,
    "execution_millis": 37,
    "execution_start": 1647962524070,
    "source_hash": "27344311",
    "deepnote_cell_type": "code",
    "deepnote_cell_height": 229
   },
   "source": "df_merged[df_merged['Player']=='Chris Paul']",
   "outputs": [
    {
     "output_type": "execute_result",
     "execution_count": 13,
     "data": {
      "application/vnd.deepnote.dataframe.v3+json": {
       "column_count": 26,
       "row_count": 1,
       "columns": [
        {
         "name": "Player",
         "dtype": "object",
         "stats": {
          "unique_count": 1,
          "nan_count": 0,
          "categories": [
           {
            "name": "Chris Paul",
            "count": 1
           }
          ]
         }
        },
        {
         "name": "Pos",
         "dtype": "object",
         "stats": {
          "unique_count": 1,
          "nan_count": 0,
          "categories": [
           {
            "name": "PG",
            "count": 1
           }
          ]
         }
        },
        {
         "name": "Age",
         "dtype": "int64",
         "stats": {
          "unique_count": 1,
          "nan_count": 0,
          "min": "32",
          "max": "32",
          "histogram": [
           {
            "bin_start": 31.5,
            "bin_end": 31.6,
            "count": 0
           },
           {
            "bin_start": 31.6,
            "bin_end": 31.7,
            "count": 0
           },
           {
            "bin_start": 31.7,
            "bin_end": 31.8,
            "count": 0
           },
           {
            "bin_start": 31.8,
            "bin_end": 31.9,
            "count": 0
           },
           {
            "bin_start": 31.9,
            "bin_end": 32,
            "count": 0
           },
           {
            "bin_start": 32,
            "bin_end": 32.1,
            "count": 1
           },
           {
            "bin_start": 32.1,
            "bin_end": 32.2,
            "count": 0
           },
           {
            "bin_start": 32.2,
            "bin_end": 32.3,
            "count": 0
           },
           {
            "bin_start": 32.3,
            "bin_end": 32.4,
            "count": 0
           },
           {
            "bin_start": 32.4,
            "bin_end": 32.5,
            "count": 0
           }
          ]
         }
        },
        {
         "name": "Team",
         "dtype": "object",
         "stats": {
          "unique_count": 1,
          "nan_count": 0,
          "categories": [
           {
            "name": "HOU",
            "count": 1
           }
          ]
         }
        },
        {
         "name": "GP",
         "dtype": "int64",
         "stats": {
          "unique_count": 1,
          "nan_count": 0,
          "min": "58",
          "max": "58",
          "histogram": [
           {
            "bin_start": 57.5,
            "bin_end": 57.6,
            "count": 0
           },
           {
            "bin_start": 57.6,
            "bin_end": 57.7,
            "count": 0
           },
           {
            "bin_start": 57.7,
            "bin_end": 57.8,
            "count": 0
           },
           {
            "bin_start": 57.8,
            "bin_end": 57.9,
            "count": 0
           },
           {
            "bin_start": 57.9,
            "bin_end": 58,
            "count": 0
           },
           {
            "bin_start": 58,
            "bin_end": 58.1,
            "count": 1
           },
           {
            "bin_start": 58.1,
            "bin_end": 58.2,
            "count": 0
           },
           {
            "bin_start": 58.2,
            "bin_end": 58.3,
            "count": 0
           },
           {
            "bin_start": 58.3,
            "bin_end": 58.4,
            "count": 0
           },
           {
            "bin_start": 58.4,
            "bin_end": 58.5,
            "count": 0
           }
          ]
         }
        },
        {
         "name": "MIN",
         "dtype": "float64",
         "stats": {
          "unique_count": 1,
          "nan_count": 0,
          "min": "1846.6",
          "max": "1846.6",
          "histogram": [
           {
            "bin_start": 1846.1,
            "bin_end": 1846.1999999999998,
            "count": 0
           },
           {
            "bin_start": 1846.1999999999998,
            "bin_end": 1846.3,
            "count": 0
           },
           {
            "bin_start": 1846.3,
            "bin_end": 1846.3999999999999,
            "count": 0
           },
           {
            "bin_start": 1846.3999999999999,
            "bin_end": 1846.5,
            "count": 0
           },
           {
            "bin_start": 1846.5,
            "bin_end": 1846.6,
            "count": 0
           },
           {
            "bin_start": 1846.6,
            "bin_end": 1846.6999999999998,
            "count": 1
           },
           {
            "bin_start": 1846.6999999999998,
            "bin_end": 1846.8,
            "count": 0
           },
           {
            "bin_start": 1846.8,
            "bin_end": 1846.8999999999999,
            "count": 0
           },
           {
            "bin_start": 1846.8999999999999,
            "bin_end": 1847,
            "count": 0
           },
           {
            "bin_start": 1847,
            "bin_end": 1847.1,
            "count": 0
           }
          ]
         }
        },
        {
         "name": "FGM",
         "dtype": "int64",
         "stats": {
          "unique_count": 1,
          "nan_count": 0,
          "min": "367",
          "max": "367",
          "histogram": [
           {
            "bin_start": 366.5,
            "bin_end": 366.6,
            "count": 0
           },
           {
            "bin_start": 366.6,
            "bin_end": 366.7,
            "count": 0
           },
           {
            "bin_start": 366.7,
            "bin_end": 366.8,
            "count": 0
           },
           {
            "bin_start": 366.8,
            "bin_end": 366.9,
            "count": 0
           },
           {
            "bin_start": 366.9,
            "bin_end": 367,
            "count": 0
           },
           {
            "bin_start": 367,
            "bin_end": 367.1,
            "count": 1
           },
           {
            "bin_start": 367.1,
            "bin_end": 367.2,
            "count": 0
           },
           {
            "bin_start": 367.2,
            "bin_end": 367.3,
            "count": 0
           },
           {
            "bin_start": 367.3,
            "bin_end": 367.4,
            "count": 0
           },
           {
            "bin_start": 367.4,
            "bin_end": 367.5,
            "count": 0
           }
          ]
         }
        },
        {
         "name": "FGA",
         "dtype": "int64",
         "stats": {
          "unique_count": 1,
          "nan_count": 0,
          "min": "798",
          "max": "798",
          "histogram": [
           {
            "bin_start": 797.5,
            "bin_end": 797.6,
            "count": 0
           },
           {
            "bin_start": 797.6,
            "bin_end": 797.7,
            "count": 0
           },
           {
            "bin_start": 797.7,
            "bin_end": 797.8,
            "count": 0
           },
           {
            "bin_start": 797.8,
            "bin_end": 797.9,
            "count": 0
           },
           {
            "bin_start": 797.9,
            "bin_end": 798,
            "count": 0
           },
           {
            "bin_start": 798,
            "bin_end": 798.1,
            "count": 1
           },
           {
            "bin_start": 798.1,
            "bin_end": 798.2,
            "count": 0
           },
           {
            "bin_start": 798.2,
            "bin_end": 798.3,
            "count": 0
           },
           {
            "bin_start": 798.3,
            "bin_end": 798.4,
            "count": 0
           },
           {
            "bin_start": 798.4,
            "bin_end": 798.5,
            "count": 0
           }
          ]
         }
        },
        {
         "name": "3PM",
         "dtype": "int64",
         "stats": {
          "unique_count": 1,
          "nan_count": 0,
          "min": "144",
          "max": "144",
          "histogram": [
           {
            "bin_start": 143.5,
            "bin_end": 143.6,
            "count": 0
           },
           {
            "bin_start": 143.6,
            "bin_end": 143.7,
            "count": 0
           },
           {
            "bin_start": 143.7,
            "bin_end": 143.8,
            "count": 0
           },
           {
            "bin_start": 143.8,
            "bin_end": 143.9,
            "count": 0
           },
           {
            "bin_start": 143.9,
            "bin_end": 144,
            "count": 0
           },
           {
            "bin_start": 144,
            "bin_end": 144.1,
            "count": 1
           },
           {
            "bin_start": 144.1,
            "bin_end": 144.2,
            "count": 0
           },
           {
            "bin_start": 144.2,
            "bin_end": 144.3,
            "count": 0
           },
           {
            "bin_start": 144.3,
            "bin_end": 144.4,
            "count": 0
           },
           {
            "bin_start": 144.4,
            "bin_end": 144.5,
            "count": 0
           }
          ]
         }
        },
        {
         "name": "3PA",
         "dtype": "int64",
         "stats": {
          "unique_count": 1,
          "nan_count": 0,
          "min": "379",
          "max": "379",
          "histogram": [
           {
            "bin_start": 378.5,
            "bin_end": 378.6,
            "count": 0
           },
           {
            "bin_start": 378.6,
            "bin_end": 378.7,
            "count": 0
           },
           {
            "bin_start": 378.7,
            "bin_end": 378.8,
            "count": 0
           },
           {
            "bin_start": 378.8,
            "bin_end": 378.9,
            "count": 0
           },
           {
            "bin_start": 378.9,
            "bin_end": 379,
            "count": 0
           },
           {
            "bin_start": 379,
            "bin_end": 379.1,
            "count": 1
           },
           {
            "bin_start": 379.1,
            "bin_end": 379.2,
            "count": 0
           },
           {
            "bin_start": 379.2,
            "bin_end": 379.3,
            "count": 0
           },
           {
            "bin_start": 379.3,
            "bin_end": 379.4,
            "count": 0
           },
           {
            "bin_start": 379.4,
            "bin_end": 379.5,
            "count": 0
           }
          ]
         }
        },
        {
         "name": "FTM",
         "dtype": "int64",
         "stats": {
          "unique_count": 1,
          "nan_count": 0,
          "min": "203",
          "max": "203",
          "histogram": [
           {
            "bin_start": 202.5,
            "bin_end": 202.6,
            "count": 0
           },
           {
            "bin_start": 202.6,
            "bin_end": 202.7,
            "count": 0
           },
           {
            "bin_start": 202.7,
            "bin_end": 202.8,
            "count": 0
           },
           {
            "bin_start": 202.8,
            "bin_end": 202.9,
            "count": 0
           },
           {
            "bin_start": 202.9,
            "bin_end": 203,
            "count": 0
           },
           {
            "bin_start": 203,
            "bin_end": 203.1,
            "count": 1
           },
           {
            "bin_start": 203.1,
            "bin_end": 203.2,
            "count": 0
           },
           {
            "bin_start": 203.2,
            "bin_end": 203.3,
            "count": 0
           },
           {
            "bin_start": 203.3,
            "bin_end": 203.4,
            "count": 0
           },
           {
            "bin_start": 203.4,
            "bin_end": 203.5,
            "count": 0
           }
          ]
         }
        },
        {
         "name": "FTA",
         "dtype": "int64",
         "stats": {
          "unique_count": 1,
          "nan_count": 0,
          "min": "221",
          "max": "221",
          "histogram": [
           {
            "bin_start": 220.5,
            "bin_end": 220.6,
            "count": 0
           },
           {
            "bin_start": 220.6,
            "bin_end": 220.7,
            "count": 0
           },
           {
            "bin_start": 220.7,
            "bin_end": 220.8,
            "count": 0
           },
           {
            "bin_start": 220.8,
            "bin_end": 220.9,
            "count": 0
           },
           {
            "bin_start": 220.9,
            "bin_end": 221,
            "count": 0
           },
           {
            "bin_start": 221,
            "bin_end": 221.1,
            "count": 1
           },
           {
            "bin_start": 221.1,
            "bin_end": 221.2,
            "count": 0
           },
           {
            "bin_start": 221.2,
            "bin_end": 221.3,
            "count": 0
           },
           {
            "bin_start": 221.3,
            "bin_end": 221.4,
            "count": 0
           },
           {
            "bin_start": 221.4,
            "bin_end": 221.5,
            "count": 0
           }
          ]
         }
        },
        {
         "name": "TOV",
         "dtype": "int64",
         "stats": {
          "unique_count": 1,
          "nan_count": 0,
          "min": "128",
          "max": "128",
          "histogram": [
           {
            "bin_start": 127.5,
            "bin_end": 127.6,
            "count": 0
           },
           {
            "bin_start": 127.6,
            "bin_end": 127.7,
            "count": 0
           },
           {
            "bin_start": 127.7,
            "bin_end": 127.8,
            "count": 0
           },
           {
            "bin_start": 127.8,
            "bin_end": 127.9,
            "count": 0
           },
           {
            "bin_start": 127.9,
            "bin_end": 128,
            "count": 0
           },
           {
            "bin_start": 128,
            "bin_end": 128.1,
            "count": 1
           },
           {
            "bin_start": 128.1,
            "bin_end": 128.2,
            "count": 0
           },
           {
            "bin_start": 128.2,
            "bin_end": 128.3,
            "count": 0
           },
           {
            "bin_start": 128.3,
            "bin_end": 128.4,
            "count": 0
           },
           {
            "bin_start": 128.4,
            "bin_end": 128.5,
            "count": 0
           }
          ]
         }
        },
        {
         "name": "PF",
         "dtype": "int64",
         "stats": {
          "unique_count": 1,
          "nan_count": 0,
          "min": "141",
          "max": "141",
          "histogram": [
           {
            "bin_start": 140.5,
            "bin_end": 140.6,
            "count": 0
           },
           {
            "bin_start": 140.6,
            "bin_end": 140.7,
            "count": 0
           },
           {
            "bin_start": 140.7,
            "bin_end": 140.8,
            "count": 0
           },
           {
            "bin_start": 140.8,
            "bin_end": 140.9,
            "count": 0
           },
           {
            "bin_start": 140.9,
            "bin_end": 141,
            "count": 0
           },
           {
            "bin_start": 141,
            "bin_end": 141.1,
            "count": 1
           },
           {
            "bin_start": 141.1,
            "bin_end": 141.2,
            "count": 0
           },
           {
            "bin_start": 141.2,
            "bin_end": 141.3,
            "count": 0
           },
           {
            "bin_start": 141.3,
            "bin_end": 141.4,
            "count": 0
           },
           {
            "bin_start": 141.4,
            "bin_end": 141.5,
            "count": 0
           }
          ]
         }
        },
        {
         "name": "ORB",
         "dtype": "int64",
         "stats": {
          "unique_count": 1,
          "nan_count": 0,
          "min": "37",
          "max": "37",
          "histogram": [
           {
            "bin_start": 36.5,
            "bin_end": 36.6,
            "count": 0
           },
           {
            "bin_start": 36.6,
            "bin_end": 36.7,
            "count": 0
           },
           {
            "bin_start": 36.7,
            "bin_end": 36.8,
            "count": 0
           },
           {
            "bin_start": 36.8,
            "bin_end": 36.9,
            "count": 0
           },
           {
            "bin_start": 36.9,
            "bin_end": 37,
            "count": 0
           },
           {
            "bin_start": 37,
            "bin_end": 37.1,
            "count": 1
           },
           {
            "bin_start": 37.1,
            "bin_end": 37.2,
            "count": 0
           },
           {
            "bin_start": 37.2,
            "bin_end": 37.3,
            "count": 0
           },
           {
            "bin_start": 37.3,
            "bin_end": 37.4,
            "count": 0
           },
           {
            "bin_start": 37.4,
            "bin_end": 37.5,
            "count": 0
           }
          ]
         }
        },
        {
         "name": "DRB",
         "dtype": "int64",
         "stats": {
          "unique_count": 1,
          "nan_count": 0,
          "min": "276",
          "max": "276",
          "histogram": [
           {
            "bin_start": 275.5,
            "bin_end": 275.6,
            "count": 0
           },
           {
            "bin_start": 275.6,
            "bin_end": 275.7,
            "count": 0
           },
           {
            "bin_start": 275.7,
            "bin_end": 275.8,
            "count": 0
           },
           {
            "bin_start": 275.8,
            "bin_end": 275.9,
            "count": 0
           },
           {
            "bin_start": 275.9,
            "bin_end": 276,
            "count": 0
           },
           {
            "bin_start": 276,
            "bin_end": 276.1,
            "count": 1
           },
           {
            "bin_start": 276.1,
            "bin_end": 276.2,
            "count": 0
           },
           {
            "bin_start": 276.2,
            "bin_end": 276.3,
            "count": 0
           },
           {
            "bin_start": 276.3,
            "bin_end": 276.4,
            "count": 0
           },
           {
            "bin_start": 276.4,
            "bin_end": 276.5,
            "count": 0
           }
          ]
         }
        },
        {
         "name": "REB",
         "dtype": "int64",
         "stats": {
          "unique_count": 1,
          "nan_count": 0,
          "min": "313",
          "max": "313",
          "histogram": [
           {
            "bin_start": 312.5,
            "bin_end": 312.6,
            "count": 0
           },
           {
            "bin_start": 312.6,
            "bin_end": 312.7,
            "count": 0
           },
           {
            "bin_start": 312.7,
            "bin_end": 312.8,
            "count": 0
           },
           {
            "bin_start": 312.8,
            "bin_end": 312.9,
            "count": 0
           },
           {
            "bin_start": 312.9,
            "bin_end": 313,
            "count": 0
           },
           {
            "bin_start": 313,
            "bin_end": 313.1,
            "count": 1
           },
           {
            "bin_start": 313.1,
            "bin_end": 313.2,
            "count": 0
           },
           {
            "bin_start": 313.2,
            "bin_end": 313.3,
            "count": 0
           },
           {
            "bin_start": 313.3,
            "bin_end": 313.4,
            "count": 0
           },
           {
            "bin_start": 313.4,
            "bin_end": 313.5,
            "count": 0
           }
          ]
         }
        },
        {
         "name": "AST",
         "dtype": "int64",
         "stats": {
          "unique_count": 1,
          "nan_count": 0,
          "min": "457",
          "max": "457",
          "histogram": [
           {
            "bin_start": 456.5,
            "bin_end": 456.6,
            "count": 0
           },
           {
            "bin_start": 456.6,
            "bin_end": 456.7,
            "count": 0
           },
           {
            "bin_start": 456.7,
            "bin_end": 456.8,
            "count": 0
           },
           {
            "bin_start": 456.8,
            "bin_end": 456.9,
            "count": 0
           },
           {
            "bin_start": 456.9,
            "bin_end": 457,
            "count": 0
           },
           {
            "bin_start": 457,
            "bin_end": 457.1,
            "count": 1
           },
           {
            "bin_start": 457.1,
            "bin_end": 457.2,
            "count": 0
           },
           {
            "bin_start": 457.2,
            "bin_end": 457.3,
            "count": 0
           },
           {
            "bin_start": 457.3,
            "bin_end": 457.4,
            "count": 0
           },
           {
            "bin_start": 457.4,
            "bin_end": 457.5,
            "count": 0
           }
          ]
         }
        },
        {
         "name": "STL",
         "dtype": "int64",
         "stats": {
          "unique_count": 1,
          "nan_count": 0,
          "min": "96",
          "max": "96",
          "histogram": [
           {
            "bin_start": 95.5,
            "bin_end": 95.6,
            "count": 0
           },
           {
            "bin_start": 95.6,
            "bin_end": 95.7,
            "count": 0
           },
           {
            "bin_start": 95.7,
            "bin_end": 95.8,
            "count": 0
           },
           {
            "bin_start": 95.8,
            "bin_end": 95.9,
            "count": 0
           },
           {
            "bin_start": 95.9,
            "bin_end": 96,
            "count": 0
           },
           {
            "bin_start": 96,
            "bin_end": 96.1,
            "count": 1
           },
           {
            "bin_start": 96.1,
            "bin_end": 96.2,
            "count": 0
           },
           {
            "bin_start": 96.2,
            "bin_end": 96.3,
            "count": 0
           },
           {
            "bin_start": 96.3,
            "bin_end": 96.4,
            "count": 0
           },
           {
            "bin_start": 96.4,
            "bin_end": 96.5,
            "count": 0
           }
          ]
         }
        },
        {
         "name": "BLK",
         "dtype": "int64",
         "stats": {
          "unique_count": 1,
          "nan_count": 0,
          "min": "14",
          "max": "14",
          "histogram": [
           {
            "bin_start": 13.5,
            "bin_end": 13.6,
            "count": 0
           },
           {
            "bin_start": 13.6,
            "bin_end": 13.7,
            "count": 0
           },
           {
            "bin_start": 13.7,
            "bin_end": 13.8,
            "count": 0
           },
           {
            "bin_start": 13.8,
            "bin_end": 13.9,
            "count": 0
           },
           {
            "bin_start": 13.9,
            "bin_end": 14,
            "count": 0
           },
           {
            "bin_start": 14,
            "bin_end": 14.1,
            "count": 1
           },
           {
            "bin_start": 14.1,
            "bin_end": 14.2,
            "count": 0
           },
           {
            "bin_start": 14.2,
            "bin_end": 14.3,
            "count": 0
           },
           {
            "bin_start": 14.3,
            "bin_end": 14.4,
            "count": 0
           },
           {
            "bin_start": 14.4,
            "bin_end": 14.5,
            "count": 0
           }
          ]
         }
        },
        {
         "name": "PTS",
         "dtype": "int64",
         "stats": {
          "unique_count": 1,
          "nan_count": 0,
          "min": "1081",
          "max": "1081",
          "histogram": [
           {
            "bin_start": 1080.5,
            "bin_end": 1080.6,
            "count": 0
           },
           {
            "bin_start": 1080.6,
            "bin_end": 1080.7,
            "count": 0
           },
           {
            "bin_start": 1080.7,
            "bin_end": 1080.8,
            "count": 0
           },
           {
            "bin_start": 1080.8,
            "bin_end": 1080.9,
            "count": 0
           },
           {
            "bin_start": 1080.9,
            "bin_end": 1081,
            "count": 0
           },
           {
            "bin_start": 1081,
            "bin_end": 1081.1,
            "count": 1
           },
           {
            "bin_start": 1081.1,
            "bin_end": 1081.2,
            "count": 0
           },
           {
            "bin_start": 1081.2,
            "bin_end": 1081.3,
            "count": 0
           },
           {
            "bin_start": 1081.3,
            "bin_end": 1081.4,
            "count": 0
           },
           {
            "bin_start": 1081.4,
            "bin_end": 1081.5,
            "count": 0
           }
          ]
         }
        },
        {
         "name": "birth_year",
         "dtype": "float64",
         "stats": {
          "unique_count": 1,
          "nan_count": 0,
          "min": "1985.0",
          "max": "1985.0",
          "histogram": [
           {
            "bin_start": 1984.5,
            "bin_end": 1984.6,
            "count": 0
           },
           {
            "bin_start": 1984.6,
            "bin_end": 1984.7,
            "count": 0
           },
           {
            "bin_start": 1984.7,
            "bin_end": 1984.8,
            "count": 0
           },
           {
            "bin_start": 1984.8,
            "bin_end": 1984.9,
            "count": 0
           },
           {
            "bin_start": 1984.9,
            "bin_end": 1985,
            "count": 0
           },
           {
            "bin_start": 1985,
            "bin_end": 1985.1,
            "count": 1
           },
           {
            "bin_start": 1985.1,
            "bin_end": 1985.2,
            "count": 0
           },
           {
            "bin_start": 1985.2,
            "bin_end": 1985.3,
            "count": 0
           },
           {
            "bin_start": 1985.3,
            "bin_end": 1985.4,
            "count": 0
           },
           {
            "bin_start": 1985.4,
            "bin_end": 1985.5,
            "count": 0
           }
          ]
         }
        },
        {
         "name": "height_cm",
         "dtype": "float64",
         "stats": {
          "unique_count": 1,
          "nan_count": 0,
          "min": "183.0",
          "max": "183.0",
          "histogram": [
           {
            "bin_start": 182.5,
            "bin_end": 182.6,
            "count": 0
           },
           {
            "bin_start": 182.6,
            "bin_end": 182.7,
            "count": 0
           },
           {
            "bin_start": 182.7,
            "bin_end": 182.8,
            "count": 0
           },
           {
            "bin_start": 182.8,
            "bin_end": 182.9,
            "count": 0
           },
           {
            "bin_start": 182.9,
            "bin_end": 183,
            "count": 0
           },
           {
            "bin_start": 183,
            "bin_end": 183.1,
            "count": 1
           },
           {
            "bin_start": 183.1,
            "bin_end": 183.2,
            "count": 0
           },
           {
            "bin_start": 183.2,
            "bin_end": 183.3,
            "count": 0
           },
           {
            "bin_start": 183.3,
            "bin_end": 183.4,
            "count": 0
           },
           {
            "bin_start": 183.4,
            "bin_end": 183.5,
            "count": 0
           }
          ]
         }
        },
        {
         "name": "weight_kg",
         "dtype": "float64",
         "stats": {
          "unique_count": 1,
          "nan_count": 0,
          "min": "79.0",
          "max": "79.0",
          "histogram": [
           {
            "bin_start": 78.5,
            "bin_end": 78.6,
            "count": 0
           },
           {
            "bin_start": 78.6,
            "bin_end": 78.7,
            "count": 0
           },
           {
            "bin_start": 78.7,
            "bin_end": 78.8,
            "count": 0
           },
           {
            "bin_start": 78.8,
            "bin_end": 78.9,
            "count": 0
           },
           {
            "bin_start": 78.9,
            "bin_end": 79,
            "count": 0
           },
           {
            "bin_start": 79,
            "bin_end": 79.1,
            "count": 1
           },
           {
            "bin_start": 79.1,
            "bin_end": 79.2,
            "count": 0
           },
           {
            "bin_start": 79.2,
            "bin_end": 79.3,
            "count": 0
           },
           {
            "bin_start": 79.3,
            "bin_end": 79.4,
            "count": 0
           },
           {
            "bin_start": 79.4,
            "bin_end": 79.5,
            "count": 0
           }
          ]
         }
        },
        {
         "name": "Pos_enc",
         "dtype": "int64",
         "stats": {
          "unique_count": 1,
          "nan_count": 0,
          "min": "1",
          "max": "1",
          "histogram": [
           {
            "bin_start": 0.5,
            "bin_end": 0.6,
            "count": 0
           },
           {
            "bin_start": 0.6,
            "bin_end": 0.7,
            "count": 0
           },
           {
            "bin_start": 0.7,
            "bin_end": 0.8,
            "count": 0
           },
           {
            "bin_start": 0.8,
            "bin_end": 0.9,
            "count": 0
           },
           {
            "bin_start": 0.9,
            "bin_end": 1,
            "count": 0
           },
           {
            "bin_start": 1,
            "bin_end": 1.1,
            "count": 1
           },
           {
            "bin_start": 1.1,
            "bin_end": 1.2000000000000002,
            "count": 0
           },
           {
            "bin_start": 1.2000000000000002,
            "bin_end": 1.3,
            "count": 0
           },
           {
            "bin_start": 1.3,
            "bin_end": 1.4,
            "count": 0
           },
           {
            "bin_start": 1.4,
            "bin_end": 1.5,
            "count": 0
           }
          ]
         }
        },
        {
         "name": "Preds",
         "dtype": "object",
         "stats": {
          "unique_count": 1,
          "nan_count": 0,
          "categories": [
           {
            "name": "PG",
            "count": 1
           }
          ]
         }
        },
        {
         "name": "_deepnote_index_column",
         "dtype": "int64"
        }
       ],
       "rows": [
        {
         "Player": "Chris Paul",
         "Pos": "PG",
         "Age": 32,
         "Team": "HOU",
         "GP": 58,
         "MIN": 1846.6,
         "FGM": 367,
         "FGA": 798,
         "3PM": 144,
         "3PA": 379,
         "FTM": 203,
         "FTA": 221,
         "TOV": 128,
         "PF": 141,
         "ORB": 37,
         "DRB": 276,
         "REB": 313,
         "AST": 457,
         "STL": 96,
         "BLK": 14,
         "PTS": 1081,
         "birth_year": 1985,
         "height_cm": 183,
         "weight_kg": 79,
         "Pos_enc": 1,
         "Preds": "PG",
         "_deepnote_index_column": 178
        }
       ]
      },
      "text/plain": "         Player Pos  Age Team  GP     MIN  FGM  FGA  3PM  3PA  ...  REB  AST  \\\n178  Chris Paul  PG   32  HOU  58  1846.6  367  798  144  379  ...  313  457   \n\n     STL  BLK   PTS  birth_year  height_cm  weight_kg  Pos_enc  Preds  \n178   96   14  1081      1985.0      183.0       79.0        1     PG  \n\n[1 rows x 26 columns]",
      "text/html": "<div>\n<style scoped>\n    .dataframe tbody tr th:only-of-type {\n        vertical-align: middle;\n    }\n\n    .dataframe tbody tr th {\n        vertical-align: top;\n    }\n\n    .dataframe thead th {\n        text-align: right;\n    }\n</style>\n<table border=\"1\" class=\"dataframe\">\n  <thead>\n    <tr style=\"text-align: right;\">\n      <th></th>\n      <th>Player</th>\n      <th>Pos</th>\n      <th>Age</th>\n      <th>Team</th>\n      <th>GP</th>\n      <th>MIN</th>\n      <th>FGM</th>\n      <th>FGA</th>\n      <th>3PM</th>\n      <th>3PA</th>\n      <th>...</th>\n      <th>REB</th>\n      <th>AST</th>\n      <th>STL</th>\n      <th>BLK</th>\n      <th>PTS</th>\n      <th>birth_year</th>\n      <th>height_cm</th>\n      <th>weight_kg</th>\n      <th>Pos_enc</th>\n      <th>Preds</th>\n    </tr>\n  </thead>\n  <tbody>\n    <tr>\n      <th>178</th>\n      <td>Chris Paul</td>\n      <td>PG</td>\n      <td>32</td>\n      <td>HOU</td>\n      <td>58</td>\n      <td>1846.6</td>\n      <td>367</td>\n      <td>798</td>\n      <td>144</td>\n      <td>379</td>\n      <td>...</td>\n      <td>313</td>\n      <td>457</td>\n      <td>96</td>\n      <td>14</td>\n      <td>1081</td>\n      <td>1985.0</td>\n      <td>183.0</td>\n      <td>79.0</td>\n      <td>1</td>\n      <td>PG</td>\n    </tr>\n  </tbody>\n</table>\n<p>1 rows × 26 columns</p>\n</div>"
     },
     "metadata": {}
    }
   ],
   "execution_count": null
  },
  {
   "cell_type": "code",
   "metadata": {
    "cell_id": "00028-93e5dbee-cc3a-4f4e-b2aa-0a922062162e",
    "deepnote_to_be_reexecuted": false,
    "execution_millis": 75,
    "execution_start": 1647962524186,
    "source_hash": "da2c98c5",
    "deepnote_cell_type": "code",
    "deepnote_cell_height": 229
   },
   "source": "df_merged[df_merged['Player']=='LeBron James']",
   "outputs": [
    {
     "output_type": "execute_result",
     "execution_count": 14,
     "data": {
      "application/vnd.deepnote.dataframe.v3+json": {
       "column_count": 26,
       "row_count": 1,
       "columns": [
        {
         "name": "Player",
         "dtype": "object",
         "stats": {
          "unique_count": 1,
          "nan_count": 0,
          "categories": [
           {
            "name": "LeBron James",
            "count": 1
           }
          ]
         }
        },
        {
         "name": "Pos",
         "dtype": "object",
         "stats": {
          "unique_count": 1,
          "nan_count": 0,
          "categories": [
           {
            "name": "PF",
            "count": 1
           }
          ]
         }
        },
        {
         "name": "Age",
         "dtype": "int64",
         "stats": {
          "unique_count": 1,
          "nan_count": 0,
          "min": "33",
          "max": "33",
          "histogram": [
           {
            "bin_start": 32.5,
            "bin_end": 32.6,
            "count": 0
           },
           {
            "bin_start": 32.6,
            "bin_end": 32.7,
            "count": 0
           },
           {
            "bin_start": 32.7,
            "bin_end": 32.8,
            "count": 0
           },
           {
            "bin_start": 32.8,
            "bin_end": 32.9,
            "count": 0
           },
           {
            "bin_start": 32.9,
            "bin_end": 33,
            "count": 0
           },
           {
            "bin_start": 33,
            "bin_end": 33.1,
            "count": 1
           },
           {
            "bin_start": 33.1,
            "bin_end": 33.2,
            "count": 0
           },
           {
            "bin_start": 33.2,
            "bin_end": 33.3,
            "count": 0
           },
           {
            "bin_start": 33.3,
            "bin_end": 33.4,
            "count": 0
           },
           {
            "bin_start": 33.4,
            "bin_end": 33.5,
            "count": 0
           }
          ]
         }
        },
        {
         "name": "Team",
         "dtype": "object",
         "stats": {
          "unique_count": 1,
          "nan_count": 0,
          "categories": [
           {
            "name": "CLE",
            "count": 1
           }
          ]
         }
        },
        {
         "name": "GP",
         "dtype": "int64",
         "stats": {
          "unique_count": 1,
          "nan_count": 0,
          "min": "82",
          "max": "82",
          "histogram": [
           {
            "bin_start": 81.5,
            "bin_end": 81.6,
            "count": 0
           },
           {
            "bin_start": 81.6,
            "bin_end": 81.7,
            "count": 0
           },
           {
            "bin_start": 81.7,
            "bin_end": 81.8,
            "count": 0
           },
           {
            "bin_start": 81.8,
            "bin_end": 81.9,
            "count": 0
           },
           {
            "bin_start": 81.9,
            "bin_end": 82,
            "count": 0
           },
           {
            "bin_start": 82,
            "bin_end": 82.1,
            "count": 1
           },
           {
            "bin_start": 82.1,
            "bin_end": 82.2,
            "count": 0
           },
           {
            "bin_start": 82.2,
            "bin_end": 82.3,
            "count": 0
           },
           {
            "bin_start": 82.3,
            "bin_end": 82.4,
            "count": 0
           },
           {
            "bin_start": 82.4,
            "bin_end": 82.5,
            "count": 0
           }
          ]
         }
        },
        {
         "name": "MIN",
         "dtype": "float64",
         "stats": {
          "unique_count": 1,
          "nan_count": 0,
          "min": "3025.8",
          "max": "3025.8",
          "histogram": [
           {
            "bin_start": 3025.3,
            "bin_end": 3025.4,
            "count": 0
           },
           {
            "bin_start": 3025.4,
            "bin_end": 3025.5,
            "count": 0
           },
           {
            "bin_start": 3025.5,
            "bin_end": 3025.6000000000004,
            "count": 0
           },
           {
            "bin_start": 3025.6000000000004,
            "bin_end": 3025.7000000000003,
            "count": 0
           },
           {
            "bin_start": 3025.7000000000003,
            "bin_end": 3025.8,
            "count": 0
           },
           {
            "bin_start": 3025.8,
            "bin_end": 3025.9,
            "count": 1
           },
           {
            "bin_start": 3025.9,
            "bin_end": 3026,
            "count": 0
           },
           {
            "bin_start": 3026,
            "bin_end": 3026.1000000000004,
            "count": 0
           },
           {
            "bin_start": 3026.1000000000004,
            "bin_end": 3026.2000000000003,
            "count": 0
           },
           {
            "bin_start": 3026.2000000000003,
            "bin_end": 3026.3,
            "count": 0
           }
          ]
         }
        },
        {
         "name": "FGM",
         "dtype": "int64",
         "stats": {
          "unique_count": 1,
          "nan_count": 0,
          "min": "857",
          "max": "857",
          "histogram": [
           {
            "bin_start": 856.5,
            "bin_end": 856.6,
            "count": 0
           },
           {
            "bin_start": 856.6,
            "bin_end": 856.7,
            "count": 0
           },
           {
            "bin_start": 856.7,
            "bin_end": 856.8,
            "count": 0
           },
           {
            "bin_start": 856.8,
            "bin_end": 856.9,
            "count": 0
           },
           {
            "bin_start": 856.9,
            "bin_end": 857,
            "count": 0
           },
           {
            "bin_start": 857,
            "bin_end": 857.1,
            "count": 1
           },
           {
            "bin_start": 857.1,
            "bin_end": 857.2,
            "count": 0
           },
           {
            "bin_start": 857.2,
            "bin_end": 857.3,
            "count": 0
           },
           {
            "bin_start": 857.3,
            "bin_end": 857.4,
            "count": 0
           },
           {
            "bin_start": 857.4,
            "bin_end": 857.5,
            "count": 0
           }
          ]
         }
        },
        {
         "name": "FGA",
         "dtype": "int64",
         "stats": {
          "unique_count": 1,
          "nan_count": 0,
          "min": "1580",
          "max": "1580",
          "histogram": [
           {
            "bin_start": 1579.5,
            "bin_end": 1579.6,
            "count": 0
           },
           {
            "bin_start": 1579.6,
            "bin_end": 1579.7,
            "count": 0
           },
           {
            "bin_start": 1579.7,
            "bin_end": 1579.8,
            "count": 0
           },
           {
            "bin_start": 1579.8,
            "bin_end": 1579.9,
            "count": 0
           },
           {
            "bin_start": 1579.9,
            "bin_end": 1580,
            "count": 0
           },
           {
            "bin_start": 1580,
            "bin_end": 1580.1,
            "count": 1
           },
           {
            "bin_start": 1580.1,
            "bin_end": 1580.2,
            "count": 0
           },
           {
            "bin_start": 1580.2,
            "bin_end": 1580.3,
            "count": 0
           },
           {
            "bin_start": 1580.3,
            "bin_end": 1580.4,
            "count": 0
           },
           {
            "bin_start": 1580.4,
            "bin_end": 1580.5,
            "count": 0
           }
          ]
         }
        },
        {
         "name": "3PM",
         "dtype": "int64",
         "stats": {
          "unique_count": 1,
          "nan_count": 0,
          "min": "149",
          "max": "149",
          "histogram": [
           {
            "bin_start": 148.5,
            "bin_end": 148.6,
            "count": 0
           },
           {
            "bin_start": 148.6,
            "bin_end": 148.7,
            "count": 0
           },
           {
            "bin_start": 148.7,
            "bin_end": 148.8,
            "count": 0
           },
           {
            "bin_start": 148.8,
            "bin_end": 148.9,
            "count": 0
           },
           {
            "bin_start": 148.9,
            "bin_end": 149,
            "count": 0
           },
           {
            "bin_start": 149,
            "bin_end": 149.1,
            "count": 1
           },
           {
            "bin_start": 149.1,
            "bin_end": 149.2,
            "count": 0
           },
           {
            "bin_start": 149.2,
            "bin_end": 149.3,
            "count": 0
           },
           {
            "bin_start": 149.3,
            "bin_end": 149.4,
            "count": 0
           },
           {
            "bin_start": 149.4,
            "bin_end": 149.5,
            "count": 0
           }
          ]
         }
        },
        {
         "name": "3PA",
         "dtype": "int64",
         "stats": {
          "unique_count": 1,
          "nan_count": 0,
          "min": "406",
          "max": "406",
          "histogram": [
           {
            "bin_start": 405.5,
            "bin_end": 405.6,
            "count": 0
           },
           {
            "bin_start": 405.6,
            "bin_end": 405.7,
            "count": 0
           },
           {
            "bin_start": 405.7,
            "bin_end": 405.8,
            "count": 0
           },
           {
            "bin_start": 405.8,
            "bin_end": 405.9,
            "count": 0
           },
           {
            "bin_start": 405.9,
            "bin_end": 406,
            "count": 0
           },
           {
            "bin_start": 406,
            "bin_end": 406.1,
            "count": 1
           },
           {
            "bin_start": 406.1,
            "bin_end": 406.2,
            "count": 0
           },
           {
            "bin_start": 406.2,
            "bin_end": 406.3,
            "count": 0
           },
           {
            "bin_start": 406.3,
            "bin_end": 406.4,
            "count": 0
           },
           {
            "bin_start": 406.4,
            "bin_end": 406.5,
            "count": 0
           }
          ]
         }
        },
        {
         "name": "FTM",
         "dtype": "int64",
         "stats": {
          "unique_count": 1,
          "nan_count": 0,
          "min": "388",
          "max": "388",
          "histogram": [
           {
            "bin_start": 387.5,
            "bin_end": 387.6,
            "count": 0
           },
           {
            "bin_start": 387.6,
            "bin_end": 387.7,
            "count": 0
           },
           {
            "bin_start": 387.7,
            "bin_end": 387.8,
            "count": 0
           },
           {
            "bin_start": 387.8,
            "bin_end": 387.9,
            "count": 0
           },
           {
            "bin_start": 387.9,
            "bin_end": 388,
            "count": 0
           },
           {
            "bin_start": 388,
            "bin_end": 388.1,
            "count": 1
           },
           {
            "bin_start": 388.1,
            "bin_end": 388.2,
            "count": 0
           },
           {
            "bin_start": 388.2,
            "bin_end": 388.3,
            "count": 0
           },
           {
            "bin_start": 388.3,
            "bin_end": 388.4,
            "count": 0
           },
           {
            "bin_start": 388.4,
            "bin_end": 388.5,
            "count": 0
           }
          ]
         }
        },
        {
         "name": "FTA",
         "dtype": "int64",
         "stats": {
          "unique_count": 1,
          "nan_count": 0,
          "min": "531",
          "max": "531",
          "histogram": [
           {
            "bin_start": 530.5,
            "bin_end": 530.6,
            "count": 0
           },
           {
            "bin_start": 530.6,
            "bin_end": 530.7,
            "count": 0
           },
           {
            "bin_start": 530.7,
            "bin_end": 530.8,
            "count": 0
           },
           {
            "bin_start": 530.8,
            "bin_end": 530.9,
            "count": 0
           },
           {
            "bin_start": 530.9,
            "bin_end": 531,
            "count": 0
           },
           {
            "bin_start": 531,
            "bin_end": 531.1,
            "count": 1
           },
           {
            "bin_start": 531.1,
            "bin_end": 531.2,
            "count": 0
           },
           {
            "bin_start": 531.2,
            "bin_end": 531.3,
            "count": 0
           },
           {
            "bin_start": 531.3,
            "bin_end": 531.4,
            "count": 0
           },
           {
            "bin_start": 531.4,
            "bin_end": 531.5,
            "count": 0
           }
          ]
         }
        },
        {
         "name": "TOV",
         "dtype": "int64",
         "stats": {
          "unique_count": 1,
          "nan_count": 0,
          "min": "347",
          "max": "347",
          "histogram": [
           {
            "bin_start": 346.5,
            "bin_end": 346.6,
            "count": 0
           },
           {
            "bin_start": 346.6,
            "bin_end": 346.7,
            "count": 0
           },
           {
            "bin_start": 346.7,
            "bin_end": 346.8,
            "count": 0
           },
           {
            "bin_start": 346.8,
            "bin_end": 346.9,
            "count": 0
           },
           {
            "bin_start": 346.9,
            "bin_end": 347,
            "count": 0
           },
           {
            "bin_start": 347,
            "bin_end": 347.1,
            "count": 1
           },
           {
            "bin_start": 347.1,
            "bin_end": 347.2,
            "count": 0
           },
           {
            "bin_start": 347.2,
            "bin_end": 347.3,
            "count": 0
           },
           {
            "bin_start": 347.3,
            "bin_end": 347.4,
            "count": 0
           },
           {
            "bin_start": 347.4,
            "bin_end": 347.5,
            "count": 0
           }
          ]
         }
        },
        {
         "name": "PF",
         "dtype": "int64",
         "stats": {
          "unique_count": 1,
          "nan_count": 0,
          "min": "136",
          "max": "136",
          "histogram": [
           {
            "bin_start": 135.5,
            "bin_end": 135.6,
            "count": 0
           },
           {
            "bin_start": 135.6,
            "bin_end": 135.7,
            "count": 0
           },
           {
            "bin_start": 135.7,
            "bin_end": 135.8,
            "count": 0
           },
           {
            "bin_start": 135.8,
            "bin_end": 135.9,
            "count": 0
           },
           {
            "bin_start": 135.9,
            "bin_end": 136,
            "count": 0
           },
           {
            "bin_start": 136,
            "bin_end": 136.1,
            "count": 1
           },
           {
            "bin_start": 136.1,
            "bin_end": 136.2,
            "count": 0
           },
           {
            "bin_start": 136.2,
            "bin_end": 136.3,
            "count": 0
           },
           {
            "bin_start": 136.3,
            "bin_end": 136.4,
            "count": 0
           },
           {
            "bin_start": 136.4,
            "bin_end": 136.5,
            "count": 0
           }
          ]
         }
        },
        {
         "name": "ORB",
         "dtype": "int64",
         "stats": {
          "unique_count": 1,
          "nan_count": 0,
          "min": "97",
          "max": "97",
          "histogram": [
           {
            "bin_start": 96.5,
            "bin_end": 96.6,
            "count": 0
           },
           {
            "bin_start": 96.6,
            "bin_end": 96.7,
            "count": 0
           },
           {
            "bin_start": 96.7,
            "bin_end": 96.8,
            "count": 0
           },
           {
            "bin_start": 96.8,
            "bin_end": 96.9,
            "count": 0
           },
           {
            "bin_start": 96.9,
            "bin_end": 97,
            "count": 0
           },
           {
            "bin_start": 97,
            "bin_end": 97.1,
            "count": 1
           },
           {
            "bin_start": 97.1,
            "bin_end": 97.2,
            "count": 0
           },
           {
            "bin_start": 97.2,
            "bin_end": 97.3,
            "count": 0
           },
           {
            "bin_start": 97.3,
            "bin_end": 97.4,
            "count": 0
           },
           {
            "bin_start": 97.4,
            "bin_end": 97.5,
            "count": 0
           }
          ]
         }
        },
        {
         "name": "DRB",
         "dtype": "int64",
         "stats": {
          "unique_count": 1,
          "nan_count": 0,
          "min": "612",
          "max": "612",
          "histogram": [
           {
            "bin_start": 611.5,
            "bin_end": 611.6,
            "count": 0
           },
           {
            "bin_start": 611.6,
            "bin_end": 611.7,
            "count": 0
           },
           {
            "bin_start": 611.7,
            "bin_end": 611.8,
            "count": 0
           },
           {
            "bin_start": 611.8,
            "bin_end": 611.9,
            "count": 0
           },
           {
            "bin_start": 611.9,
            "bin_end": 612,
            "count": 0
           },
           {
            "bin_start": 612,
            "bin_end": 612.1,
            "count": 1
           },
           {
            "bin_start": 612.1,
            "bin_end": 612.2,
            "count": 0
           },
           {
            "bin_start": 612.2,
            "bin_end": 612.3,
            "count": 0
           },
           {
            "bin_start": 612.3,
            "bin_end": 612.4,
            "count": 0
           },
           {
            "bin_start": 612.4,
            "bin_end": 612.5,
            "count": 0
           }
          ]
         }
        },
        {
         "name": "REB",
         "dtype": "int64",
         "stats": {
          "unique_count": 1,
          "nan_count": 0,
          "min": "709",
          "max": "709",
          "histogram": [
           {
            "bin_start": 708.5,
            "bin_end": 708.6,
            "count": 0
           },
           {
            "bin_start": 708.6,
            "bin_end": 708.7,
            "count": 0
           },
           {
            "bin_start": 708.7,
            "bin_end": 708.8,
            "count": 0
           },
           {
            "bin_start": 708.8,
            "bin_end": 708.9,
            "count": 0
           },
           {
            "bin_start": 708.9,
            "bin_end": 709,
            "count": 0
           },
           {
            "bin_start": 709,
            "bin_end": 709.1,
            "count": 1
           },
           {
            "bin_start": 709.1,
            "bin_end": 709.2,
            "count": 0
           },
           {
            "bin_start": 709.2,
            "bin_end": 709.3,
            "count": 0
           },
           {
            "bin_start": 709.3,
            "bin_end": 709.4,
            "count": 0
           },
           {
            "bin_start": 709.4,
            "bin_end": 709.5,
            "count": 0
           }
          ]
         }
        },
        {
         "name": "AST",
         "dtype": "int64",
         "stats": {
          "unique_count": 1,
          "nan_count": 0,
          "min": "747",
          "max": "747",
          "histogram": [
           {
            "bin_start": 746.5,
            "bin_end": 746.6,
            "count": 0
           },
           {
            "bin_start": 746.6,
            "bin_end": 746.7,
            "count": 0
           },
           {
            "bin_start": 746.7,
            "bin_end": 746.8,
            "count": 0
           },
           {
            "bin_start": 746.8,
            "bin_end": 746.9,
            "count": 0
           },
           {
            "bin_start": 746.9,
            "bin_end": 747,
            "count": 0
           },
           {
            "bin_start": 747,
            "bin_end": 747.1,
            "count": 1
           },
           {
            "bin_start": 747.1,
            "bin_end": 747.2,
            "count": 0
           },
           {
            "bin_start": 747.2,
            "bin_end": 747.3,
            "count": 0
           },
           {
            "bin_start": 747.3,
            "bin_end": 747.4,
            "count": 0
           },
           {
            "bin_start": 747.4,
            "bin_end": 747.5,
            "count": 0
           }
          ]
         }
        },
        {
         "name": "STL",
         "dtype": "int64",
         "stats": {
          "unique_count": 1,
          "nan_count": 0,
          "min": "116",
          "max": "116",
          "histogram": [
           {
            "bin_start": 115.5,
            "bin_end": 115.6,
            "count": 0
           },
           {
            "bin_start": 115.6,
            "bin_end": 115.7,
            "count": 0
           },
           {
            "bin_start": 115.7,
            "bin_end": 115.8,
            "count": 0
           },
           {
            "bin_start": 115.8,
            "bin_end": 115.9,
            "count": 0
           },
           {
            "bin_start": 115.9,
            "bin_end": 116,
            "count": 0
           },
           {
            "bin_start": 116,
            "bin_end": 116.1,
            "count": 1
           },
           {
            "bin_start": 116.1,
            "bin_end": 116.2,
            "count": 0
           },
           {
            "bin_start": 116.2,
            "bin_end": 116.3,
            "count": 0
           },
           {
            "bin_start": 116.3,
            "bin_end": 116.4,
            "count": 0
           },
           {
            "bin_start": 116.4,
            "bin_end": 116.5,
            "count": 0
           }
          ]
         }
        },
        {
         "name": "BLK",
         "dtype": "int64",
         "stats": {
          "unique_count": 1,
          "nan_count": 0,
          "min": "71",
          "max": "71",
          "histogram": [
           {
            "bin_start": 70.5,
            "bin_end": 70.6,
            "count": 0
           },
           {
            "bin_start": 70.6,
            "bin_end": 70.7,
            "count": 0
           },
           {
            "bin_start": 70.7,
            "bin_end": 70.8,
            "count": 0
           },
           {
            "bin_start": 70.8,
            "bin_end": 70.9,
            "count": 0
           },
           {
            "bin_start": 70.9,
            "bin_end": 71,
            "count": 0
           },
           {
            "bin_start": 71,
            "bin_end": 71.1,
            "count": 1
           },
           {
            "bin_start": 71.1,
            "bin_end": 71.2,
            "count": 0
           },
           {
            "bin_start": 71.2,
            "bin_end": 71.3,
            "count": 0
           },
           {
            "bin_start": 71.3,
            "bin_end": 71.4,
            "count": 0
           },
           {
            "bin_start": 71.4,
            "bin_end": 71.5,
            "count": 0
           }
          ]
         }
        },
        {
         "name": "PTS",
         "dtype": "int64",
         "stats": {
          "unique_count": 1,
          "nan_count": 0,
          "min": "2251",
          "max": "2251",
          "histogram": [
           {
            "bin_start": 2250.5,
            "bin_end": 2250.6,
            "count": 0
           },
           {
            "bin_start": 2250.6,
            "bin_end": 2250.7,
            "count": 0
           },
           {
            "bin_start": 2250.7,
            "bin_end": 2250.8,
            "count": 0
           },
           {
            "bin_start": 2250.8,
            "bin_end": 2250.9,
            "count": 0
           },
           {
            "bin_start": 2250.9,
            "bin_end": 2251,
            "count": 0
           },
           {
            "bin_start": 2251,
            "bin_end": 2251.1,
            "count": 1
           },
           {
            "bin_start": 2251.1,
            "bin_end": 2251.2,
            "count": 0
           },
           {
            "bin_start": 2251.2,
            "bin_end": 2251.3,
            "count": 0
           },
           {
            "bin_start": 2251.3,
            "bin_end": 2251.4,
            "count": 0
           },
           {
            "bin_start": 2251.4,
            "bin_end": 2251.5,
            "count": 0
           }
          ]
         }
        },
        {
         "name": "birth_year",
         "dtype": "float64",
         "stats": {
          "unique_count": 1,
          "nan_count": 0,
          "min": "1984.0",
          "max": "1984.0",
          "histogram": [
           {
            "bin_start": 1983.5,
            "bin_end": 1983.6,
            "count": 0
           },
           {
            "bin_start": 1983.6,
            "bin_end": 1983.7,
            "count": 0
           },
           {
            "bin_start": 1983.7,
            "bin_end": 1983.8,
            "count": 0
           },
           {
            "bin_start": 1983.8,
            "bin_end": 1983.9,
            "count": 0
           },
           {
            "bin_start": 1983.9,
            "bin_end": 1984,
            "count": 0
           },
           {
            "bin_start": 1984,
            "bin_end": 1984.1,
            "count": 1
           },
           {
            "bin_start": 1984.1,
            "bin_end": 1984.2,
            "count": 0
           },
           {
            "bin_start": 1984.2,
            "bin_end": 1984.3,
            "count": 0
           },
           {
            "bin_start": 1984.3,
            "bin_end": 1984.4,
            "count": 0
           },
           {
            "bin_start": 1984.4,
            "bin_end": 1984.5,
            "count": 0
           }
          ]
         }
        },
        {
         "name": "height_cm",
         "dtype": "float64",
         "stats": {
          "unique_count": 1,
          "nan_count": 0,
          "min": "203.0",
          "max": "203.0",
          "histogram": [
           {
            "bin_start": 202.5,
            "bin_end": 202.6,
            "count": 0
           },
           {
            "bin_start": 202.6,
            "bin_end": 202.7,
            "count": 0
           },
           {
            "bin_start": 202.7,
            "bin_end": 202.8,
            "count": 0
           },
           {
            "bin_start": 202.8,
            "bin_end": 202.9,
            "count": 0
           },
           {
            "bin_start": 202.9,
            "bin_end": 203,
            "count": 0
           },
           {
            "bin_start": 203,
            "bin_end": 203.1,
            "count": 1
           },
           {
            "bin_start": 203.1,
            "bin_end": 203.2,
            "count": 0
           },
           {
            "bin_start": 203.2,
            "bin_end": 203.3,
            "count": 0
           },
           {
            "bin_start": 203.3,
            "bin_end": 203.4,
            "count": 0
           },
           {
            "bin_start": 203.4,
            "bin_end": 203.5,
            "count": 0
           }
          ]
         }
        },
        {
         "name": "weight_kg",
         "dtype": "float64",
         "stats": {
          "unique_count": 1,
          "nan_count": 0,
          "min": "113.0",
          "max": "113.0",
          "histogram": [
           {
            "bin_start": 112.5,
            "bin_end": 112.6,
            "count": 0
           },
           {
            "bin_start": 112.6,
            "bin_end": 112.7,
            "count": 0
           },
           {
            "bin_start": 112.7,
            "bin_end": 112.8,
            "count": 0
           },
           {
            "bin_start": 112.8,
            "bin_end": 112.9,
            "count": 0
           },
           {
            "bin_start": 112.9,
            "bin_end": 113,
            "count": 0
           },
           {
            "bin_start": 113,
            "bin_end": 113.1,
            "count": 1
           },
           {
            "bin_start": 113.1,
            "bin_end": 113.2,
            "count": 0
           },
           {
            "bin_start": 113.2,
            "bin_end": 113.3,
            "count": 0
           },
           {
            "bin_start": 113.3,
            "bin_end": 113.4,
            "count": 0
           },
           {
            "bin_start": 113.4,
            "bin_end": 113.5,
            "count": 0
           }
          ]
         }
        },
        {
         "name": "Pos_enc",
         "dtype": "int64",
         "stats": {
          "unique_count": 1,
          "nan_count": 0,
          "min": "4",
          "max": "4",
          "histogram": [
           {
            "bin_start": 3.5,
            "bin_end": 3.6,
            "count": 0
           },
           {
            "bin_start": 3.6,
            "bin_end": 3.7,
            "count": 0
           },
           {
            "bin_start": 3.7,
            "bin_end": 3.8,
            "count": 0
           },
           {
            "bin_start": 3.8,
            "bin_end": 3.9,
            "count": 0
           },
           {
            "bin_start": 3.9,
            "bin_end": 4,
            "count": 0
           },
           {
            "bin_start": 4,
            "bin_end": 4.1,
            "count": 1
           },
           {
            "bin_start": 4.1,
            "bin_end": 4.2,
            "count": 0
           },
           {
            "bin_start": 4.2,
            "bin_end": 4.3,
            "count": 0
           },
           {
            "bin_start": 4.3,
            "bin_end": 4.4,
            "count": 0
           },
           {
            "bin_start": 4.4,
            "bin_end": 4.5,
            "count": 0
           }
          ]
         }
        },
        {
         "name": "Preds",
         "dtype": "object",
         "stats": {
          "unique_count": 1,
          "nan_count": 0,
          "categories": [
           {
            "name": "PF",
            "count": 1
           }
          ]
         }
        },
        {
         "name": "_deepnote_index_column",
         "dtype": "int64"
        }
       ],
       "rows": [
        {
         "Player": "LeBron James",
         "Pos": "PF",
         "Age": 33,
         "Team": "CLE",
         "GP": 82,
         "MIN": 3025.8,
         "FGM": 857,
         "FGA": 1580,
         "3PM": 149,
         "3PA": 406,
         "FTM": 388,
         "FTA": 531,
         "TOV": 347,
         "PF": 136,
         "ORB": 97,
         "DRB": 612,
         "REB": 709,
         "AST": 747,
         "STL": 116,
         "BLK": 71,
         "PTS": 2251,
         "birth_year": 1984,
         "height_cm": 203,
         "weight_kg": 113,
         "Pos_enc": 4,
         "Preds": "PF",
         "_deepnote_index_column": 110
        }
       ]
      },
      "text/plain": "           Player Pos  Age Team  GP     MIN  FGM   FGA  3PM  3PA  ...  REB  \\\n110  LeBron James  PF   33  CLE  82  3025.8  857  1580  149  406  ...  709   \n\n     AST  STL  BLK   PTS  birth_year  height_cm  weight_kg  Pos_enc  Preds  \n110  747  116   71  2251      1984.0      203.0      113.0        4     PF  \n\n[1 rows x 26 columns]",
      "text/html": "<div>\n<style scoped>\n    .dataframe tbody tr th:only-of-type {\n        vertical-align: middle;\n    }\n\n    .dataframe tbody tr th {\n        vertical-align: top;\n    }\n\n    .dataframe thead th {\n        text-align: right;\n    }\n</style>\n<table border=\"1\" class=\"dataframe\">\n  <thead>\n    <tr style=\"text-align: right;\">\n      <th></th>\n      <th>Player</th>\n      <th>Pos</th>\n      <th>Age</th>\n      <th>Team</th>\n      <th>GP</th>\n      <th>MIN</th>\n      <th>FGM</th>\n      <th>FGA</th>\n      <th>3PM</th>\n      <th>3PA</th>\n      <th>...</th>\n      <th>REB</th>\n      <th>AST</th>\n      <th>STL</th>\n      <th>BLK</th>\n      <th>PTS</th>\n      <th>birth_year</th>\n      <th>height_cm</th>\n      <th>weight_kg</th>\n      <th>Pos_enc</th>\n      <th>Preds</th>\n    </tr>\n  </thead>\n  <tbody>\n    <tr>\n      <th>110</th>\n      <td>LeBron James</td>\n      <td>PF</td>\n      <td>33</td>\n      <td>CLE</td>\n      <td>82</td>\n      <td>3025.8</td>\n      <td>857</td>\n      <td>1580</td>\n      <td>149</td>\n      <td>406</td>\n      <td>...</td>\n      <td>709</td>\n      <td>747</td>\n      <td>116</td>\n      <td>71</td>\n      <td>2251</td>\n      <td>1984.0</td>\n      <td>203.0</td>\n      <td>113.0</td>\n      <td>4</td>\n      <td>PF</td>\n    </tr>\n  </tbody>\n</table>\n<p>1 rows × 26 columns</p>\n</div>"
     },
     "metadata": {}
    }
   ],
   "execution_count": null
  },
  {
   "cell_type": "markdown",
   "source": "### Evaluate Performance\nEvalute the performance of classifier using the `log_loss` metric.",
   "metadata": {
    "cell_id": "00029-3f33dad4-723a-4698-be23-8d11de414700",
    "tags": [],
    "deepnote_cell_type": "markdown",
    "deepnote_cell_height": 100.390625
   }
  },
  {
   "cell_type": "code",
   "metadata": {
    "cell_id": "00030-e5164bfa-9493-432d-b896-dfae5251f202",
    "deepnote_to_be_reexecuted": false,
    "execution_millis": 344,
    "execution_start": 1647962524278,
    "source_hash": "eff12084",
    "deepnote_cell_type": "code",
    "deepnote_cell_height": 226.1875,
    "deepnote_output_heights": [
     21.1875
    ]
   },
   "source": "X_scaled_train, X_scaled_test, y_train, y_test = train_test_split(X,y,test_size=0.2)\n\nprobs = clf.predict_proba(X_scaled_test)\n\nlog_loss(y_true=y_test ,y_pred=probs , labels= clf.classes_)\nloss = log_loss(y_true=y_test ,y_pred=probs , labels= clf.classes_)\nloss",
   "outputs": [
    {
     "output_type": "execute_result",
     "execution_count": 15,
     "data": {
      "text/plain": "0.6240327830298309"
     },
     "metadata": {}
    }
   ],
   "execution_count": null
  },
  {
   "cell_type": "markdown",
   "source": "1st row mostly Pink some Light Blue. \nWe're good at determining Point Guards, sometimes Small Forwards trigger false positive.\n\n5th row mostly Blue with some Yellow.\nMakes sense. Great at determining Centers. Sometimes Power Forwards trigger false positive. ",
   "metadata": {
    "cell_id": "00031-a5fa4774-239c-4849-a023-6a6e7a711751",
    "deepnote_cell_type": "markdown",
    "deepnote_cell_height": 88.796875
   }
  },
  {
   "cell_type": "code",
   "metadata": {
    "cell_id": "00032-46aa58ab-69f2-45d3-8860-b6e168adde16",
    "deepnote_to_be_reexecuted": false,
    "execution_millis": 352,
    "execution_start": 1647962524279,
    "source_hash": "80d22fd7",
    "deepnote_cell_type": "code",
    "deepnote_cell_height": 403,
    "deepnote_output_heights": [
     180
    ]
   },
   "source": "chart = alt.Chart(df_merged).mark_circle().encode(\n    x=alt.X('height_cm:O', axis=alt.Axis(title='Height in cm')),\n    y=alt.X('Pos_enc:O', axis=alt.Axis(title='Encoded')),\n    color = alt.Color(\"Preds\", title = \"Positions\"),\n).properties(\n    title = f\"Predicted NBA Positions\",\n)\nchart",
   "outputs": [
    {
     "output_type": "execute_result",
     "execution_count": 16,
     "data": {
      "text/html": "\n<div id=\"altair-viz-09b9d14204044cbb819dfd4c227739b3\"></div>\n<script type=\"text/javascript\">\n  (function(spec, embedOpt){\n    let outputDiv = document.currentScript.previousElementSibling;\n    if (outputDiv.id !== \"altair-viz-09b9d14204044cbb819dfd4c227739b3\") {\n      outputDiv = document.getElementById(\"altair-viz-09b9d14204044cbb819dfd4c227739b3\");\n    }\n    const paths = {\n      \"vega\": \"https://cdn.jsdelivr.net/npm//vega@5?noext\",\n      \"vega-lib\": \"https://cdn.jsdelivr.net/npm//vega-lib?noext\",\n      \"vega-lite\": \"https://cdn.jsdelivr.net/npm//vega-lite@4.8.1?noext\",\n      \"vega-embed\": \"https://cdn.jsdelivr.net/npm//vega-embed@6?noext\",\n    };\n\n    function loadScript(lib) {\n      return new Promise(function(resolve, reject) {\n        var s = document.createElement('script');\n        s.src = paths[lib];\n        s.async = true;\n        s.onload = () => resolve(paths[lib]);\n        s.onerror = () => reject(`Error loading script: ${paths[lib]}`);\n        document.getElementsByTagName(\"head\")[0].appendChild(s);\n      });\n    }\n\n    function showError(err) {\n      outputDiv.innerHTML = `<div class=\"error\" style=\"color:red;\">${err}</div>`;\n      throw err;\n    }\n\n    function displayChart(vegaEmbed) {\n      vegaEmbed(outputDiv, spec, embedOpt)\n        .catch(err => showError(`Javascript Error: ${err.message}<br>This usually means there's a typo in your chart specification. See the javascript console for the full traceback.`));\n    }\n\n    if(typeof define === \"function\" && define.amd) {\n      requirejs.config({paths});\n      require([\"vega-embed\"], displayChart, err => showError(`Error loading script: ${err.message}`));\n    } else if (typeof vegaEmbed === \"function\") {\n      displayChart(vegaEmbed);\n    } else {\n      loadScript(\"vega\")\n        .then(() => loadScript(\"vega-lite\"))\n        .then(() => loadScript(\"vega-embed\"))\n        .catch(showError)\n        .then(() => displayChart(vegaEmbed));\n    }\n  })({\"config\": {\"view\": {\"continuousWidth\": 400, \"continuousHeight\": 300}}, \"data\": {\"name\": \"data-b35ed94e2ff0a3179574f19d7a86093e\"}, \"mark\": \"circle\", \"encoding\": {\"color\": {\"type\": \"nominal\", \"field\": \"Preds\", \"title\": \"Positions\"}, \"x\": {\"type\": \"ordinal\", \"axis\": {\"title\": \"Height in cm\"}, \"field\": \"height_cm\"}, \"y\": {\"type\": \"ordinal\", \"axis\": {\"title\": \"Encoded\"}, \"field\": \"Pos_enc\"}}, \"title\": \"Predicted NBA Positions\", \"$schema\": \"https://vega.github.io/schema/vega-lite/v4.8.1.json\", \"datasets\": {\"data-b35ed94e2ff0a3179574f19d7a86093e\": [{\"Player\": \"Alex Abrines\", \"Pos\": \"SG\", \"Age\": 24, \"Team\": \"OKC\", \"GP\": 75, \"MIN\": 1134.2, \"FGM\": 115, \"FGA\": 291, \"3PM\": 84, \"3PA\": 221, \"FTM\": 39, \"FTA\": 46, \"TOV\": 25, \"PF\": 124, \"ORB\": 26, \"DRB\": 88, \"REB\": 114, \"AST\": 28, \"STL\": 38, \"BLK\": 8, \"PTS\": 353, \"birth_year\": 1993.0, \"height_cm\": 198.0, \"weight_kg\": 86.0, \"Pos_enc\": 2, \"Preds\": \"PF\"}, {\"Player\": \"Quincy Acy\", \"Pos\": \"PF\", \"Age\": 27, \"Team\": \"BRK\", \"GP\": 70, \"MIN\": 1359.2, \"FGM\": 130, \"FGA\": 365, \"3PM\": 102, \"3PA\": 292, \"FTM\": 49, \"FTA\": 60, \"TOV\": 60, \"PF\": 149, \"ORB\": 40, \"DRB\": 217, \"REB\": 257, \"AST\": 57, \"STL\": 33, \"BLK\": 29, \"PTS\": 411, \"birth_year\": 1990.0, \"height_cm\": 201.0, \"weight_kg\": 109.0, \"Pos_enc\": 4, \"Preds\": \"PF\"}, {\"Player\": \"Steven Adams\", \"Pos\": \"C\", \"Age\": 24, \"Team\": \"OKC\", \"GP\": 76, \"MIN\": 2487.0, \"FGM\": 448, \"FGA\": 712, \"3PM\": 0, \"3PA\": 2, \"FTM\": 160, \"FTA\": 286, \"TOV\": 127, \"PF\": 214, \"ORB\": 384, \"DRB\": 301, \"REB\": 685, \"AST\": 88, \"STL\": 92, \"BLK\": 78, \"PTS\": 1056, \"birth_year\": 1993.0, \"height_cm\": 213.0, \"weight_kg\": 120.0, \"Pos_enc\": 5, \"Preds\": \"C\"}, {\"Player\": \"Bam Adebayo\", \"Pos\": \"C\", \"Age\": 20, \"Team\": \"MIA\", \"GP\": 69, \"MIN\": 1368.1, \"FGM\": 174, \"FGA\": 340, \"3PM\": 0, \"3PA\": 7, \"FTM\": 129, \"FTA\": 179, \"TOV\": 66, \"PF\": 138, \"ORB\": 118, \"DRB\": 263, \"REB\": 381, \"AST\": 101, \"STL\": 32, \"BLK\": 41, \"PTS\": 477, \"birth_year\": 1997.0, \"height_cm\": 208.0, \"weight_kg\": 116.0, \"Pos_enc\": 5, \"Preds\": \"C\"}, {\"Player\": \"LaMarcus Aldridge\", \"Pos\": \"C\", \"Age\": 32, \"Team\": \"SAS\", \"GP\": 75, \"MIN\": 2508.7, \"FGM\": 687, \"FGA\": 1347, \"3PM\": 27, \"3PA\": 92, \"FTM\": 334, \"FTA\": 399, \"TOV\": 112, \"PF\": 161, \"ORB\": 246, \"DRB\": 389, \"REB\": 635, \"AST\": 152, \"STL\": 43, \"BLK\": 90, \"PTS\": 1735, \"birth_year\": 1985.0, \"height_cm\": 211.0, \"weight_kg\": 120.0, \"Pos_enc\": 5, \"Preds\": \"PF\"}, {\"Player\": \"Jarrett Allen\", \"Pos\": \"C\", \"Age\": 19, \"Team\": \"BRK\", \"GP\": 72, \"MIN\": 1441.2, \"FGM\": 234, \"FGA\": 397, \"3PM\": 5, \"3PA\": 15, \"FTM\": 114, \"FTA\": 147, \"TOV\": 82, \"PF\": 147, \"ORB\": 144, \"DRB\": 244, \"REB\": 388, \"AST\": 49, \"STL\": 28, \"BLK\": 88, \"PTS\": 587, \"birth_year\": 1998.0, \"height_cm\": 211.0, \"weight_kg\": 108.0, \"Pos_enc\": 5, \"Preds\": \"C\"}, {\"Player\": \"Al-Farouq Aminu\", \"Pos\": \"PF\", \"Age\": 27, \"Team\": \"POR\", \"GP\": 69, \"MIN\": 2072.3, \"FGM\": 230, \"FGA\": 582, \"3PM\": 125, \"3PA\": 339, \"FTM\": 59, \"FTA\": 80, \"TOV\": 79, \"PF\": 136, \"ORB\": 97, \"DRB\": 428, \"REB\": 525, \"AST\": 84, \"STL\": 79, \"BLK\": 40, \"PTS\": 644, \"birth_year\": 1990.0, \"height_cm\": 206.0, \"weight_kg\": 100.0, \"Pos_enc\": 4, \"Preds\": \"PF\"}, {\"Player\": \"Kyle Anderson\", \"Pos\": \"SF\", \"Age\": 24, \"Team\": \"SAS\", \"GP\": 74, \"MIN\": 1978.3, \"FGM\": 231, \"FGA\": 438, \"3PM\": 19, \"3PA\": 57, \"FTM\": 104, \"FTA\": 146, \"TOV\": 94, \"PF\": 114, \"ORB\": 84, \"DRB\": 312, \"REB\": 396, \"AST\": 202, \"STL\": 115, \"BLK\": 60, \"PTS\": 585, \"birth_year\": 1993.0, \"height_cm\": 206.0, \"weight_kg\": 104.0, \"Pos_enc\": 3, \"Preds\": \"C\"}, {\"Player\": \"Ryan Anderson\", \"Pos\": \"PF\", \"Age\": 29, \"Team\": \"HOU\", \"GP\": 66, \"MIN\": 1725.4, \"FGM\": 207, \"FGA\": 480, \"3PM\": 131, \"3PA\": 339, \"FTM\": 72, \"FTA\": 93, \"TOV\": 42, \"PF\": 126, \"ORB\": 94, \"DRB\": 237, \"REB\": 331, \"AST\": 60, \"STL\": 24, \"BLK\": 21, \"PTS\": 617, \"birth_year\": 1988.0, \"height_cm\": 208.0, \"weight_kg\": 109.0, \"Pos_enc\": 4, \"Preds\": \"PF\"}, {\"Player\": \"Giannis Antetokounmpo\", \"Pos\": \"PF\", \"Age\": 23, \"Team\": \"MIL\", \"GP\": 75, \"MIN\": 2756.2, \"FGM\": 742, \"FGA\": 1402, \"3PM\": 43, \"3PA\": 140, \"FTM\": 487, \"FTA\": 641, \"TOV\": 223, \"PF\": 231, \"ORB\": 156, \"DRB\": 597, \"REB\": 753, \"AST\": 361, \"STL\": 109, \"BLK\": 106, \"PTS\": 2014, \"birth_year\": 1994.0, \"height_cm\": 211.0, \"weight_kg\": 110.0, \"Pos_enc\": 4, \"Preds\": \"C\"}, {\"Player\": \"Carmelo Anthony\", \"Pos\": \"PF\", \"Age\": 33, \"Team\": \"OKC\", \"GP\": 78, \"MIN\": 2501.5, \"FGM\": 472, \"FGA\": 1168, \"3PM\": 169, \"3PA\": 474, \"FTM\": 148, \"FTA\": 193, \"TOV\": 99, \"PF\": 197, \"ORB\": 67, \"DRB\": 386, \"REB\": 453, \"AST\": 103, \"STL\": 47, \"BLK\": 49, \"PTS\": 1261, \"birth_year\": 1984.0, \"height_cm\": 203.0, \"weight_kg\": 109.0, \"Pos_enc\": 4, \"Preds\": \"PF\"}, {\"Player\": \"Trevor Ariza\", \"Pos\": \"SF\", \"Age\": 32, \"Team\": \"HOU\", \"GP\": 67, \"MIN\": 2269.2, \"FGM\": 268, \"FGA\": 651, \"3PM\": 170, \"3PA\": 462, \"FTM\": 76, \"FTA\": 89, \"TOV\": 52, \"PF\": 132, \"ORB\": 33, \"DRB\": 261, \"REB\": 294, \"AST\": 105, \"STL\": 98, \"BLK\": 13, \"PTS\": 782, \"birth_year\": 1985.0, \"height_cm\": 203.0, \"weight_kg\": 98.0, \"Pos_enc\": 3, \"Preds\": \"SG\"}, {\"Player\": \"D.J. Augustin\", \"Pos\": \"PG\", \"Age\": 30, \"Team\": \"ORL\", \"GP\": 75, \"MIN\": 1760.0, \"FGM\": 244, \"FGA\": 540, \"3PM\": 114, \"3PA\": 272, \"FTM\": 164, \"FTA\": 189, \"TOV\": 123, \"PF\": 94, \"ORB\": 30, \"DRB\": 130, \"REB\": 160, \"AST\": 287, \"STL\": 54, \"BLK\": 0, \"PTS\": 766, \"birth_year\": 1987.0, \"height_cm\": 183.0, \"weight_kg\": 83.0, \"Pos_enc\": 1, \"Preds\": \"PG\"}, {\"Player\": \"J.J. Barea\", \"Pos\": \"PG\", \"Age\": 33, \"Team\": \"DAL\", \"GP\": 69, \"MIN\": 1603.3, \"FGM\": 303, \"FGA\": 690, \"3PM\": 115, \"3PA\": 313, \"FTM\": 80, \"FTA\": 102, \"TOV\": 143, \"PF\": 83, \"ORB\": 15, \"DRB\": 186, \"REB\": 201, \"AST\": 434, \"STL\": 35, \"BLK\": 3, \"PTS\": 801, \"birth_year\": 1984.0, \"height_cm\": 183.0, \"weight_kg\": 84.0, \"Pos_enc\": 1, \"Preds\": \"PG\"}, {\"Player\": \"Harrison Barnes\", \"Pos\": \"PF\", \"Age\": 25, \"Team\": \"DAL\", \"GP\": 77, \"MIN\": 2634.5, \"FGM\": 537, \"FGA\": 1208, \"3PM\": 119, \"3PA\": 333, \"FTM\": 259, \"FTA\": 313, \"TOV\": 118, \"PF\": 94, \"ORB\": 77, \"DRB\": 391, \"REB\": 468, \"AST\": 152, \"STL\": 49, \"BLK\": 14, \"PTS\": 1452, \"birth_year\": 1992.0, \"height_cm\": 203.0, \"weight_kg\": 102.0, \"Pos_enc\": 4, \"Preds\": \"PF\"}, {\"Player\": \"Will Barton\", \"Pos\": \"SG\", \"Age\": 27, \"Team\": \"DEN\", \"GP\": 81, \"MIN\": 2682.9, \"FGM\": 465, \"FGA\": 1028, \"3PM\": 156, \"3PA\": 422, \"FTM\": 182, \"FTA\": 226, \"TOV\": 149, \"PF\": 168, \"ORB\": 70, \"DRB\": 339, \"REB\": 409, \"AST\": 331, \"STL\": 82, \"BLK\": 52, \"PTS\": 1268, \"birth_year\": 1991.0, \"height_cm\": 198.0, \"weight_kg\": 86.0, \"Pos_enc\": 2, \"Preds\": \"PF\"}, {\"Player\": \"Aron Baynes\", \"Pos\": \"C\", \"Age\": 31, \"Team\": \"BOS\", \"GP\": 81, \"MIN\": 1484.7, \"FGM\": 210, \"FGA\": 446, \"3PM\": 3, \"3PA\": 21, \"FTM\": 59, \"FTA\": 78, \"TOV\": 80, \"PF\": 200, \"ORB\": 130, \"DRB\": 304, \"REB\": 434, \"AST\": 93, \"STL\": 22, \"BLK\": 51, \"PTS\": 482, \"birth_year\": 1986.0, \"height_cm\": 208.0, \"weight_kg\": 118.0, \"Pos_enc\": 5, \"Preds\": \"C\"}, {\"Player\": \"Kent Bazemore\", \"Pos\": \"SG\", \"Age\": 28, \"Team\": \"ATL\", \"GP\": 65, \"MIN\": 1789.4, \"FGM\": 284, \"FGA\": 676, \"3PM\": 108, \"3PA\": 274, \"FTM\": 160, \"FTA\": 201, \"TOV\": 157, \"PF\": 147, \"ORB\": 25, \"DRB\": 223, \"REB\": 248, \"AST\": 228, \"STL\": 100, \"BLK\": 45, \"PTS\": 836, \"birth_year\": 1989.0, \"height_cm\": 196.0, \"weight_kg\": 91.0, \"Pos_enc\": 2, \"Preds\": \"SG\"}, {\"Player\": \"Bradley Beal\", \"Pos\": \"SG\", \"Age\": 24, \"Team\": \"WAS\", \"GP\": 82, \"MIN\": 2976.8, \"FGM\": 683, \"FGA\": 1484, \"3PM\": 199, \"3PA\": 530, \"FTM\": 292, \"FTA\": 369, \"TOV\": 214, \"PF\": 160, \"ORB\": 61, \"DRB\": 302, \"REB\": 363, \"AST\": 373, \"STL\": 96, \"BLK\": 36, \"PTS\": 1857, \"birth_year\": 1993.0, \"height_cm\": 191.0, \"weight_kg\": 94.0, \"Pos_enc\": 2, \"Preds\": \"SG\"}, {\"Player\": \"Malik Beasley\", \"Pos\": \"SG\", \"Age\": 21, \"Team\": \"DEN\", \"GP\": 62, \"MIN\": 582.6, \"FGM\": 73, \"FGA\": 178, \"3PM\": 28, \"3PA\": 82, \"FTM\": 22, \"FTA\": 33, \"TOV\": 24, \"PF\": 36, \"ORB\": 14, \"DRB\": 57, \"REB\": 71, \"AST\": 31, \"STL\": 15, \"BLK\": 7, \"PTS\": 196, \"birth_year\": 1996.0, \"height_cm\": 196.0, \"weight_kg\": 88.0, \"Pos_enc\": 2, \"Preds\": \"SG\"}, {\"Player\": \"Michael Beasley\", \"Pos\": \"PF\", \"Age\": 29, \"Team\": \"NYK\", \"GP\": 74, \"MIN\": 1653.4, \"FGM\": 409, \"FGA\": 807, \"3PM\": 34, \"3PA\": 86, \"FTM\": 124, \"FTA\": 159, \"TOV\": 143, \"PF\": 145, \"ORB\": 97, \"DRB\": 317, \"REB\": 414, \"AST\": 123, \"STL\": 36, \"BLK\": 43, \"PTS\": 976, \"birth_year\": 1989.0, \"height_cm\": 206.0, \"weight_kg\": 107.0, \"Pos_enc\": 4, \"Preds\": \"PF\"}, {\"Player\": \"Jordan Bell\", \"Pos\": \"C\", \"Age\": 23, \"Team\": \"GSW\", \"GP\": 57, \"MIN\": 808.9, \"FGM\": 116, \"FGA\": 185, \"3PM\": 0, \"3PA\": 4, \"FTM\": 30, \"FTA\": 44, \"TOV\": 51, \"PF\": 92, \"ORB\": 60, \"DRB\": 147, \"REB\": 207, \"AST\": 102, \"STL\": 35, \"BLK\": 56, \"PTS\": 262, \"birth_year\": 1995.0, \"height_cm\": 206.0, \"weight_kg\": 102.0, \"Pos_enc\": 5, \"Preds\": \"C\"}, {\"Player\": \"Davis Bertans\", \"Pos\": \"PF\", \"Age\": 25, \"Team\": \"SAS\", \"GP\": 77, \"MIN\": 1086.2, \"FGM\": 161, \"FGA\": 366, \"3PM\": 94, \"3PA\": 252, \"FTM\": 40, \"FTA\": 49, \"TOV\": 36, \"PF\": 93, \"ORB\": 18, \"DRB\": 135, \"REB\": 153, \"AST\": 74, \"STL\": 26, \"BLK\": 28, \"PTS\": 456, \"birth_year\": 1992.0, \"height_cm\": 208.0, \"weight_kg\": 102.0, \"Pos_enc\": 4, \"Preds\": \"SG\"}, {\"Player\": \"Bismack Biyombo\", \"Pos\": \"C\", \"Age\": 25, \"Team\": \"ORL\", \"GP\": 82, \"MIN\": 1494.9, \"FGM\": 183, \"FGA\": 352, \"3PM\": 0, \"3PA\": 1, \"FTM\": 102, \"FTA\": 157, \"TOV\": 84, \"PF\": 158, \"ORB\": 144, \"DRB\": 324, \"REB\": 468, \"AST\": 66, \"STL\": 21, \"BLK\": 95, \"PTS\": 468, \"birth_year\": 1992.0, \"height_cm\": 206.0, \"weight_kg\": 116.0, \"Pos_enc\": 5, \"Preds\": \"C\"}, {\"Player\": \"Nemanja Bjelica\", \"Pos\": \"PF\", \"Age\": 29, \"Team\": \"MIN\", \"GP\": 67, \"MIN\": 1370.8, \"FGM\": 171, \"FGA\": 371, \"3PM\": 76, \"3PA\": 183, \"FTM\": 36, \"FTA\": 45, \"TOV\": 52, \"PF\": 141, \"ORB\": 53, \"DRB\": 221, \"REB\": 274, \"AST\": 86, \"STL\": 50, \"BLK\": 16, \"PTS\": 454, \"birth_year\": 1988.0, \"height_cm\": 208.0, \"weight_kg\": 107.0, \"Pos_enc\": 4, \"Preds\": \"PF\"}, {\"Player\": \"Tarik Black\", \"Pos\": \"C\", \"Age\": 26, \"Team\": \"HOU\", \"GP\": 51, \"MIN\": 536.5, \"FGM\": 75, \"FGA\": 127, \"3PM\": 1, \"3PA\": 11, \"FTM\": 29, \"FTA\": 63, \"TOV\": 35, \"PF\": 107, \"ORB\": 63, \"DRB\": 100, \"REB\": 163, \"AST\": 13, \"STL\": 21, \"BLK\": 30, \"PTS\": 180, \"birth_year\": 1991.0, \"height_cm\": 206.0, \"weight_kg\": 113.0, \"Pos_enc\": 5, \"Preds\": \"C\"}, {\"Player\": \"Bogdan Bogdanovic\", \"Pos\": \"SG\", \"Age\": 25, \"Team\": \"SAC\", \"GP\": 78, \"MIN\": 2175.2, \"FGM\": 344, \"FGA\": 772, \"3PM\": 129, \"3PA\": 329, \"FTM\": 100, \"FTA\": 119, \"TOV\": 125, \"PF\": 172, \"ORB\": 31, \"DRB\": 192, \"REB\": 223, \"AST\": 258, \"STL\": 72, \"BLK\": 16, \"PTS\": 917, \"birth_year\": 1992.0, \"height_cm\": 198.0, \"weight_kg\": 100.0, \"Pos_enc\": 2, \"Preds\": \"SF\"}, {\"Player\": \"Bojan Bogdanovic\", \"Pos\": \"SF\", \"Age\": 28, \"Team\": \"IND\", \"GP\": 80, \"MIN\": 2464.5, \"FGM\": 404, \"FGA\": 852, \"3PM\": 155, \"3PA\": 386, \"FTM\": 178, \"FTA\": 205, \"TOV\": 106, \"PF\": 129, \"ORB\": 30, \"DRB\": 240, \"REB\": 270, \"AST\": 119, \"STL\": 55, \"BLK\": 8, \"PTS\": 1141, \"birth_year\": 1989.0, \"height_cm\": 203.0, \"weight_kg\": 98.0, \"Pos_enc\": 3, \"Preds\": \"SG\"}, {\"Player\": \"Dillon Brooks\", \"Pos\": \"SF\", \"Age\": 22, \"Team\": \"MEM\", \"GP\": 82, \"MIN\": 2349.8, \"FGM\": 340, \"FGA\": 772, \"3PM\": 94, \"3PA\": 264, \"FTM\": 124, \"FTA\": 166, \"TOV\": 124, \"PF\": 233, \"ORB\": 49, \"DRB\": 208, \"REB\": 257, \"AST\": 135, \"STL\": 73, \"BLK\": 17, \"PTS\": 898, \"birth_year\": 1996.0, \"height_cm\": 198.0, \"weight_kg\": 100.0, \"Pos_enc\": 3, \"Preds\": \"SG\"}, {\"Player\": \"Jaylen Brown\", \"Pos\": \"SG\", \"Age\": 21, \"Team\": \"BOS\", \"GP\": 70, \"MIN\": 2151.9, \"FGM\": 373, \"FGA\": 803, \"3PM\": 121, \"3PA\": 306, \"FTM\": 150, \"FTA\": 233, \"TOV\": 124, \"PF\": 181, \"ORB\": 66, \"DRB\": 280, \"REB\": 346, \"AST\": 114, \"STL\": 70, \"BLK\": 26, \"PTS\": 1017, \"birth_year\": 1996.0, \"height_cm\": 201.0, \"weight_kg\": 100.0, \"Pos_enc\": 2, \"Preds\": \"SF\"}, {\"Player\": \"Reggie Bullock\", \"Pos\": \"SF\", \"Age\": 26, \"Team\": \"DET\", \"GP\": 62, \"MIN\": 1731.6, \"FGM\": 267, \"FGA\": 546, \"3PM\": 125, \"3PA\": 281, \"FTM\": 39, \"FTA\": 49, \"TOV\": 47, \"PF\": 70, \"ORB\": 27, \"DRB\": 127, \"REB\": 154, \"AST\": 95, \"STL\": 47, \"BLK\": 13, \"PTS\": 698, \"birth_year\": 1991.0, \"height_cm\": 201.0, \"weight_kg\": 93.0, \"Pos_enc\": 3, \"Preds\": \"SF\"}, {\"Player\": \"Alec Burks\", \"Pos\": \"SG\", \"Age\": 26, \"Team\": \"UTA\", \"GP\": 64, \"MIN\": 1058.6, \"FGM\": 170, \"FGA\": 414, \"3PM\": 47, \"3PA\": 142, \"FTM\": 107, \"FTA\": 124, \"TOV\": 60, \"PF\": 75, \"ORB\": 19, \"DRB\": 173, \"REB\": 192, \"AST\": 67, \"STL\": 37, \"BLK\": 8, \"PTS\": 494, \"birth_year\": 1991.0, \"height_cm\": 198.0, \"weight_kg\": 97.0, \"Pos_enc\": 2, \"Preds\": \"SG\"}, {\"Player\": \"Jimmy Butler\", \"Pos\": \"SG\", \"Age\": 28, \"Team\": \"MIN\", \"GP\": 59, \"MIN\": 2164.0, \"FGM\": 437, \"FGA\": 921, \"3PM\": 70, \"3PA\": 200, \"FTM\": 363, \"FTA\": 425, \"TOV\": 108, \"PF\": 78, \"ORB\": 79, \"DRB\": 235, \"REB\": 314, \"AST\": 288, \"STL\": 116, \"BLK\": 24, \"PTS\": 1307, \"birth_year\": 1989.0, \"height_cm\": 203.0, \"weight_kg\": 105.0, \"Pos_enc\": 2, \"Preds\": \"PG\"}, {\"Player\": \"Jose Calderon\", \"Pos\": \"PG\", \"Age\": 36, \"Team\": \"CLE\", \"GP\": 57, \"MIN\": 914.3, \"FGM\": 93, \"FGA\": 185, \"3PM\": 45, \"3PA\": 97, \"FTM\": 24, \"FTA\": 30, \"TOV\": 41, \"PF\": 81, \"ORB\": 14, \"DRB\": 70, \"REB\": 84, \"AST\": 117, \"STL\": 27, \"BLK\": 2, \"PTS\": 255, \"birth_year\": 1981.0, \"height_cm\": 191.0, \"weight_kg\": 91.0, \"Pos_enc\": 1, \"Preds\": \"PG\"}, {\"Player\": \"Kentavious Caldwell-Pope\", \"Pos\": \"SG\", \"Age\": 24, \"Team\": \"LAL\", \"GP\": 74, \"MIN\": 2457.9, \"FGM\": 340, \"FGA\": 798, \"3PM\": 159, \"3PA\": 415, \"FTM\": 153, \"FTA\": 194, \"TOV\": 97, \"PF\": 145, \"ORB\": 60, \"DRB\": 327, \"REB\": 387, \"AST\": 162, \"STL\": 106, \"BLK\": 16, \"PTS\": 992, \"birth_year\": 1993.0, \"height_cm\": 196.0, \"weight_kg\": 93.0, \"Pos_enc\": 2, \"Preds\": \"SG\"}, {\"Player\": \"Clint Capela\", \"Pos\": \"C\", \"Age\": 23, \"Team\": \"HOU\", \"GP\": 74, \"MIN\": 2034.2, \"FGM\": 441, \"FGA\": 676, \"3PM\": 0, \"3PA\": 1, \"FTM\": 144, \"FTA\": 257, \"TOV\": 103, \"PF\": 185, \"ORB\": 241, \"DRB\": 561, \"REB\": 802, \"AST\": 68, \"STL\": 58, \"BLK\": 138, \"PTS\": 1026, \"birth_year\": 1994.0, \"height_cm\": 208.0, \"weight_kg\": 109.0, \"Pos_enc\": 5, \"Preds\": \"C\"}, {\"Player\": \"DeMarre Carroll\", \"Pos\": \"SF\", \"Age\": 31, \"Team\": \"BRK\", \"GP\": 73, \"MIN\": 2179.6, \"FGM\": 325, \"FGA\": 785, \"3PM\": 145, \"3PA\": 391, \"FTM\": 188, \"FTA\": 246, \"TOV\": 103, \"PF\": 165, \"ORB\": 105, \"DRB\": 374, \"REB\": 479, \"AST\": 147, \"STL\": 59, \"BLK\": 30, \"PTS\": 983, \"birth_year\": 1986.0, \"height_cm\": 203.0, \"weight_kg\": 98.0, \"Pos_enc\": 3, \"Preds\": \"PF\"}, {\"Player\": \"Vince Carter\", \"Pos\": \"SF\", \"Age\": 41, \"Team\": \"SAC\", \"GP\": 58, \"MIN\": 1025.9, \"FGM\": 114, \"FGA\": 283, \"3PM\": 57, \"3PA\": 165, \"FTM\": 28, \"FTA\": 37, \"TOV\": 36, \"PF\": 96, \"ORB\": 18, \"DRB\": 130, \"REB\": 148, \"AST\": 69, \"STL\": 42, \"BLK\": 26, \"PTS\": 313, \"birth_year\": 1977.0, \"height_cm\": 198.0, \"weight_kg\": 100.0, \"Pos_enc\": 3, \"Preds\": \"PF\"}, {\"Player\": \"Willie Cauley-Stein\", \"Pos\": \"C\", \"Age\": 24, \"Team\": \"SAC\", \"GP\": 73, \"MIN\": 2044.0, \"FGM\": 388, \"FGA\": 773, \"3PM\": 3, \"3PA\": 12, \"FTM\": 153, \"FTA\": 247, \"TOV\": 109, \"PF\": 185, \"ORB\": 131, \"DRB\": 379, \"REB\": 510, \"AST\": 172, \"STL\": 77, \"BLK\": 67, \"PTS\": 932, \"birth_year\": 1993.0, \"height_cm\": 213.0, \"weight_kg\": 109.0, \"Pos_enc\": 5, \"Preds\": \"C\"}, {\"Player\": \"Mario Chalmers\", \"Pos\": \"PG\", \"Age\": 31, \"Team\": \"MEM\", \"GP\": 66, \"MIN\": 1421.4, \"FGM\": 168, \"FGA\": 443, \"3PM\": 53, \"3PA\": 191, \"FTM\": 118, \"FTA\": 138, \"TOV\": 117, \"PF\": 179, \"ORB\": 13, \"DRB\": 144, \"REB\": 157, \"AST\": 197, \"STL\": 79, \"BLK\": 14, \"PTS\": 507, \"birth_year\": 1986.0, \"height_cm\": 188.0, \"weight_kg\": 86.0, \"Pos_enc\": 1, \"Preds\": \"PG\"}, {\"Player\": \"Wilson Chandler\", \"Pos\": \"SF\", \"Age\": 30, \"Team\": \"DEN\", \"GP\": 74, \"MIN\": 2346.1, \"FGM\": 281, \"FGA\": 631, \"3PM\": 88, \"3PA\": 246, \"FTM\": 88, \"FTA\": 114, \"TOV\": 92, \"PF\": 156, \"ORB\": 102, \"DRB\": 296, \"REB\": 398, \"AST\": 159, \"STL\": 43, \"BLK\": 39, \"PTS\": 738, \"birth_year\": 1987.0, \"height_cm\": 206.0, \"weight_kg\": 102.0, \"Pos_enc\": 3, \"Preds\": \"PF\"}, {\"Player\": \"Ian Clark\", \"Pos\": \"SG\", \"Age\": 26, \"Team\": \"NOP\", \"GP\": 74, \"MIN\": 1454.6, \"FGM\": 222, \"FGA\": 495, \"3PM\": 62, \"3PA\": 195, \"FTM\": 45, \"FTA\": 59, \"TOV\": 57, \"PF\": 120, \"ORB\": 10, \"DRB\": 117, \"REB\": 127, \"AST\": 110, \"STL\": 33, \"BLK\": 10, \"PTS\": 551, \"birth_year\": 1991.0, \"height_cm\": 191.0, \"weight_kg\": 79.0, \"Pos_enc\": 2, \"Preds\": \"SG\"}, {\"Player\": \"John Collins\", \"Pos\": \"PF\", \"Age\": 20, \"Team\": \"ATL\", \"GP\": 74, \"MIN\": 1784.8, \"FGM\": 314, \"FGA\": 545, \"3PM\": 16, \"3PA\": 47, \"FTM\": 133, \"FTA\": 186, \"TOV\": 105, \"PF\": 215, \"ORB\": 176, \"DRB\": 365, \"REB\": 541, \"AST\": 98, \"STL\": 47, \"BLK\": 80, \"PTS\": 777, \"birth_year\": 1997.0, \"height_cm\": 208.0, \"weight_kg\": 107.0, \"Pos_enc\": 4, \"Preds\": \"C\"}, {\"Player\": \"Zach Collins\", \"Pos\": \"C\", \"Age\": 20, \"Team\": \"POR\", \"GP\": 66, \"MIN\": 1045.6, \"FGM\": 115, \"FGA\": 289, \"3PM\": 35, \"3PA\": 113, \"FTM\": 27, \"FTA\": 42, \"TOV\": 58, \"PF\": 133, \"ORB\": 45, \"DRB\": 176, \"REB\": 221, \"AST\": 52, \"STL\": 17, \"BLK\": 31, \"PTS\": 292, \"birth_year\": 1997.0, \"height_cm\": 213.0, \"weight_kg\": 107.0, \"Pos_enc\": 5, \"Preds\": \"PF\"}, {\"Player\": \"Darren Collison\", \"Pos\": \"PG\", \"Age\": 30, \"Team\": \"IND\", \"GP\": 69, \"MIN\": 2018.5, \"FGM\": 316, \"FGA\": 638, \"3PM\": 96, \"3PA\": 205, \"FTM\": 127, \"FTA\": 144, \"TOV\": 86, \"PF\": 122, \"ORB\": 37, \"DRB\": 141, \"REB\": 178, \"AST\": 368, \"STL\": 92, \"BLK\": 15, \"PTS\": 855, \"birth_year\": 1987.0, \"height_cm\": 183.0, \"weight_kg\": 79.0, \"Pos_enc\": 1, \"Preds\": \"PG\"}, {\"Player\": \"Pat Connaughton\", \"Pos\": \"SG\", \"Age\": 25, \"Team\": \"POR\", \"GP\": 82, \"MIN\": 1487.6, \"FGM\": 165, \"FGA\": 390, \"3PM\": 74, \"3PA\": 210, \"FTM\": 37, \"FTA\": 44, \"TOV\": 43, \"PF\": 120, \"ORB\": 36, \"DRB\": 125, \"REB\": 161, \"AST\": 91, \"STL\": 23, \"BLK\": 22, \"PTS\": 441, \"birth_year\": 1993.0, \"height_cm\": 193.0, \"weight_kg\": 95.0, \"Pos_enc\": 2, \"Preds\": \"PF\"}, {\"Player\": \"Robert Covington\", \"Pos\": \"SF\", \"Age\": 27, \"Team\": \"PHI\", \"GP\": 80, \"MIN\": 2531.0, \"FGM\": 345, \"FGA\": 836, \"3PM\": 203, \"3PA\": 550, \"FTM\": 116, \"FTA\": 136, \"TOV\": 126, \"PF\": 238, \"ORB\": 55, \"DRB\": 378, \"REB\": 433, \"AST\": 156, \"STL\": 137, \"BLK\": 72, \"PTS\": 1009, \"birth_year\": 1990.0, \"height_cm\": 206.0, \"weight_kg\": 102.0, \"Pos_enc\": 3, \"Preds\": \"C\"}, {\"Player\": \"Allen Crabbe\", \"Pos\": \"SG\", \"Age\": 25, \"Team\": \"BRK\", \"GP\": 75, \"MIN\": 2197.3, \"FGM\": 337, \"FGA\": 827, \"3PM\": 201, \"3PA\": 532, \"FTM\": 115, \"FTA\": 135, \"TOV\": 78, \"PF\": 168, \"ORB\": 28, \"DRB\": 296, \"REB\": 324, \"AST\": 117, \"STL\": 47, \"BLK\": 35, \"PTS\": 990, \"birth_year\": 1992.0, \"height_cm\": 198.0, \"weight_kg\": 96.0, \"Pos_enc\": 2, \"Preds\": \"SG\"}, {\"Player\": \"Jamal Crawford\", \"Pos\": \"SG\", \"Age\": 37, \"Team\": \"MIN\", \"GP\": 80, \"MIN\": 1653.2, \"FGM\": 308, \"FGA\": 742, \"3PM\": 104, \"3PA\": 314, \"FTM\": 102, \"FTA\": 113, \"TOV\": 95, \"PF\": 85, \"ORB\": 21, \"DRB\": 78, \"REB\": 99, \"AST\": 185, \"STL\": 40, \"BLK\": 9, \"PTS\": 822, \"birth_year\": 1980.0, \"height_cm\": 196.0, \"weight_kg\": 88.0, \"Pos_enc\": 2, \"Preds\": \"SG\"}, {\"Player\": \"Stephen Curry\", \"Pos\": \"PG\", \"Age\": 29, \"Team\": \"GSW\", \"GP\": 51, \"MIN\": 1631.0, \"FGM\": 428, \"FGA\": 864, \"3PM\": 212, \"3PA\": 501, \"FTM\": 278, \"FTA\": 302, \"TOV\": 153, \"PF\": 114, \"ORB\": 36, \"DRB\": 225, \"REB\": 261, \"AST\": 310, \"STL\": 80, \"BLK\": 8, \"PTS\": 1346, \"birth_year\": 1988.0, \"height_cm\": 191.0, \"weight_kg\": 86.0, \"Pos_enc\": 1, \"Preds\": \"PG\"}, {\"Player\": \"Anthony Davis\", \"Pos\": \"PF\", \"Age\": 24, \"Team\": \"NOP\", \"GP\": 75, \"MIN\": 2727.4, \"FGM\": 780, \"FGA\": 1462, \"3PM\": 55, \"3PA\": 162, \"FTM\": 495, \"FTA\": 598, \"TOV\": 162, \"PF\": 159, \"ORB\": 187, \"DRB\": 645, \"REB\": 832, \"AST\": 174, \"STL\": 115, \"BLK\": 193, \"PTS\": 2110, \"birth_year\": 1993.0, \"height_cm\": 208.0, \"weight_kg\": 115.0, \"Pos_enc\": 4, \"Preds\": \"C\"}, {\"Player\": \"Deyonta Davis\", \"Pos\": \"C\", \"Age\": 21, \"Team\": \"MEM\", \"GP\": 62, \"MIN\": 942.6, \"FGM\": 161, \"FGA\": 265, \"3PM\": 0, \"3PA\": 0, \"FTM\": 38, \"FTA\": 57, \"TOV\": 32, \"PF\": 125, \"ORB\": 75, \"DRB\": 175, \"REB\": 250, \"AST\": 40, \"STL\": 15, \"BLK\": 39, \"PTS\": 360, \"birth_year\": 1996.0, \"height_cm\": 206.0, \"weight_kg\": 108.0, \"Pos_enc\": 5, \"Preds\": \"C\"}, {\"Player\": \"Ed Davis\", \"Pos\": \"C\", \"Age\": 28, \"Team\": \"POR\", \"GP\": 78, \"MIN\": 1470.9, \"FGM\": 170, \"FGA\": 292, \"3PM\": 0, \"3PA\": 1, \"FTM\": 74, \"FTA\": 111, \"TOV\": 66, \"PF\": 188, \"ORB\": 183, \"DRB\": 392, \"REB\": 575, \"AST\": 40, \"STL\": 32, \"BLK\": 52, \"PTS\": 414, \"birth_year\": 1989.0, \"height_cm\": 208.0, \"weight_kg\": 102.0, \"Pos_enc\": 5, \"Preds\": \"C\"}, {\"Player\": \"Dewayne Dedmon\", \"Pos\": \"C\", \"Age\": 28, \"Team\": \"ATL\", \"GP\": 62, \"MIN\": 1542.3, \"FGM\": 250, \"FGA\": 477, \"3PM\": 50, \"3PA\": 141, \"FTM\": 67, \"FTA\": 86, \"TOV\": 86, \"PF\": 162, \"ORB\": 100, \"DRB\": 389, \"REB\": 489, \"AST\": 90, \"STL\": 40, \"BLK\": 51, \"PTS\": 617, \"birth_year\": 1989.0, \"height_cm\": 213.0, \"weight_kg\": 111.0, \"Pos_enc\": 5, \"Preds\": \"C\"}, {\"Player\": \"Sam Dekker\", \"Pos\": \"PF\", \"Age\": 23, \"Team\": \"LAC\", \"GP\": 73, \"MIN\": 882.6, \"FGM\": 128, \"FGA\": 259, \"3PM\": 10, \"3PA\": 60, \"FTM\": 37, \"FTA\": 56, \"TOV\": 33, \"PF\": 71, \"ORB\": 44, \"DRB\": 130, \"REB\": 174, \"AST\": 38, \"STL\": 24, \"BLK\": 9, \"PTS\": 303, \"birth_year\": 1994.0, \"height_cm\": 206.0, \"weight_kg\": 104.0, \"Pos_enc\": 4, \"Preds\": \"C\"}, {\"Player\": \"DeMar DeRozan\", \"Pos\": \"SG\", \"Age\": 28, \"Team\": \"TOR\", \"GP\": 80, \"MIN\": 2711.9, \"FGM\": 645, \"FGA\": 1413, \"3PM\": 89, \"3PA\": 287, \"FTM\": 461, \"FTA\": 559, \"TOV\": 175, \"PF\": 151, \"ORB\": 59, \"DRB\": 256, \"REB\": 315, \"AST\": 417, \"STL\": 85, \"BLK\": 22, \"PTS\": 1840, \"birth_year\": 1989.0, \"height_cm\": 201.0, \"weight_kg\": 100.0, \"Pos_enc\": 2, \"Preds\": \"SG\"}, {\"Player\": \"Cheick Diallo\", \"Pos\": \"PF\", \"Age\": 21, \"Team\": \"NOP\", \"GP\": 52, \"MIN\": 581.0, \"FGM\": 102, \"FGA\": 176, \"3PM\": 0, \"3PA\": 0, \"FTM\": 50, \"FTA\": 66, \"TOV\": 28, \"PF\": 82, \"ORB\": 47, \"DRB\": 164, \"REB\": 211, \"AST\": 19, \"STL\": 11, \"BLK\": 21, \"PTS\": 254, \"birth_year\": 1996.0, \"height_cm\": 206.0, \"weight_kg\": 100.0, \"Pos_enc\": 4, \"Preds\": \"C\"}, {\"Player\": \"Gorgui Dieng\", \"Pos\": \"C\", \"Age\": 28, \"Team\": \"MIN\", \"GP\": 79, \"MIN\": 1332.7, \"FGM\": 186, \"FGA\": 388, \"3PM\": 19, \"3PA\": 61, \"FTM\": 79, \"FTA\": 102, \"TOV\": 59, \"PF\": 147, \"ORB\": 106, \"DRB\": 254, \"REB\": 360, \"AST\": 71, \"STL\": 45, \"BLK\": 39, \"PTS\": 470, \"birth_year\": 1990.0, \"height_cm\": 211.0, \"weight_kg\": 114.0, \"Pos_enc\": 5, \"Preds\": \"C\"}, {\"Player\": \"Spencer Dinwiddie\", \"Pos\": \"PG\", \"Age\": 24, \"Team\": \"BRK\", \"GP\": 80, \"MIN\": 2305.9, \"FGM\": 324, \"FGA\": 838, \"3PM\": 141, \"3PA\": 433, \"FTM\": 218, \"FTA\": 268, \"TOV\": 128, \"PF\": 186, \"ORB\": 40, \"DRB\": 219, \"REB\": 259, \"AST\": 524, \"STL\": 68, \"BLK\": 23, \"PTS\": 1007, \"birth_year\": 1993.0, \"height_cm\": 198.0, \"weight_kg\": 95.0, \"Pos_enc\": 1, \"Preds\": \"PG\"}, {\"Player\": \"Goran Dragic\", \"Pos\": \"PG\", \"Age\": 31, \"Team\": \"MIA\", \"GP\": 75, \"MIN\": 2377.8, \"FGM\": 484, \"FGA\": 1075, \"3PM\": 111, \"3PA\": 300, \"FTM\": 217, \"FTA\": 271, \"TOV\": 166, \"PF\": 180, \"ORB\": 54, \"DRB\": 253, \"REB\": 307, \"AST\": 359, \"STL\": 63, \"BLK\": 12, \"PTS\": 1296, \"birth_year\": 1986.0, \"height_cm\": 191.0, \"weight_kg\": 86.0, \"Pos_enc\": 1, \"Preds\": \"PG\"}, {\"Player\": \"Andre Drummond\", \"Pos\": \"C\", \"Age\": 24, \"Team\": \"DET\", \"GP\": 78, \"MIN\": 2625.0, \"FGM\": 466, \"FGA\": 881, \"3PM\": 0, \"3PA\": 11, \"FTM\": 239, \"FTA\": 395, \"TOV\": 200, \"PF\": 250, \"ORB\": 399, \"DRB\": 848, \"REB\": 1247, \"AST\": 237, \"STL\": 114, \"BLK\": 127, \"PTS\": 1171, \"birth_year\": 1993.0, \"height_cm\": 211.0, \"weight_kg\": 127.0, \"Pos_enc\": 5, \"Preds\": \"C\"}, {\"Player\": \"Kevin Durant\", \"Pos\": \"PF\", \"Age\": 29, \"Team\": \"GSW\", \"GP\": 68, \"MIN\": 2325.1, \"FGM\": 630, \"FGA\": 1222, \"3PM\": 173, \"3PA\": 413, \"FTM\": 359, \"FTA\": 404, \"TOV\": 207, \"PF\": 133, \"ORB\": 31, \"DRB\": 433, \"REB\": 464, \"AST\": 366, \"STL\": 50, \"BLK\": 119, \"PTS\": 1792, \"birth_year\": 1988.0, \"height_cm\": 206.0, \"weight_kg\": 109.0, \"Pos_enc\": 4, \"Preds\": \"SG\"}, {\"Player\": \"Wayne Ellington\", \"Pos\": \"SG\", \"Age\": 30, \"Team\": \"MIA\", \"GP\": 77, \"MIN\": 2041.1, \"FGM\": 285, \"FGA\": 700, \"3PM\": 227, \"3PA\": 579, \"FTM\": 67, \"FTA\": 78, \"TOV\": 52, \"PF\": 94, \"ORB\": 23, \"DRB\": 195, \"REB\": 218, \"AST\": 79, \"STL\": 53, \"BLK\": 8, \"PTS\": 864, \"birth_year\": 1987.0, \"height_cm\": 196.0, \"weight_kg\": 91.0, \"Pos_enc\": 2, \"Preds\": \"SG\"}, {\"Player\": \"Joel Embiid\", \"Pos\": \"C\", \"Age\": 23, \"Team\": \"PHI\", \"GP\": 63, \"MIN\": 1912.3, \"FGM\": 510, \"FGA\": 1056, \"3PM\": 66, \"3PA\": 214, \"FTM\": 359, \"FTA\": 467, \"TOV\": 234, \"PF\": 209, \"ORB\": 143, \"DRB\": 547, \"REB\": 690, \"AST\": 199, \"STL\": 40, \"BLK\": 111, \"PTS\": 1445, \"birth_year\": 1994.0, \"height_cm\": 213.0, \"weight_kg\": 113.0, \"Pos_enc\": 5, \"Preds\": \"C\"}, {\"Player\": \"Derrick Favors\", \"Pos\": \"C\", \"Age\": 26, \"Team\": \"UTA\", \"GP\": 77, \"MIN\": 2153.5, \"FGM\": 395, \"FGA\": 702, \"3PM\": 14, \"3PA\": 63, \"FTM\": 140, \"FTA\": 215, \"TOV\": 88, \"PF\": 164, \"ORB\": 198, \"DRB\": 354, \"REB\": 552, \"AST\": 102, \"STL\": 54, \"BLK\": 82, \"PTS\": 944, \"birth_year\": 1991.0, \"height_cm\": 208.0, \"weight_kg\": 120.0, \"Pos_enc\": 5, \"Preds\": \"C\"}, {\"Player\": \"Raymond Felton\", \"Pos\": \"PG\", \"Age\": 33, \"Team\": \"OKC\", \"GP\": 82, \"MIN\": 1364.6, \"FGM\": 224, \"FGA\": 552, \"3PM\": 81, \"3PA\": 230, \"FTM\": 36, \"FTA\": 44, \"TOV\": 76, \"PF\": 91, \"ORB\": 25, \"DRB\": 131, \"REB\": 156, \"AST\": 203, \"STL\": 49, \"BLK\": 16, \"PTS\": 565, \"birth_year\": 1984.0, \"height_cm\": 185.0, \"weight_kg\": 93.0, \"Pos_enc\": 1, \"Preds\": \"PG\"}, {\"Player\": \"Terrance Ferguson\", \"Pos\": \"SG\", \"Age\": 19, \"Team\": \"OKC\", \"GP\": 61, \"MIN\": 763.0, \"FGM\": 70, \"FGA\": 169, \"3PM\": 40, \"3PA\": 120, \"FTM\": 9, \"FTA\": 10, \"TOV\": 11, \"PF\": 83, \"ORB\": 19, \"DRB\": 28, \"REB\": 47, \"AST\": 19, \"STL\": 24, \"BLK\": 10, \"PTS\": 189, \"birth_year\": 1998.0, \"height_cm\": 201.0, \"weight_kg\": 86.0, \"Pos_enc\": 2, \"Preds\": \"SG\"}, {\"Player\": \"Yogi Ferrell\", \"Pos\": \"SG\", \"Age\": 24, \"Team\": \"DAL\", \"GP\": 82, \"MIN\": 2281.5, \"FGM\": 311, \"FGA\": 730, \"3PM\": 134, \"3PA\": 359, \"FTM\": 82, \"FTA\": 103, \"TOV\": 78, \"PF\": 153, \"ORB\": 26, \"DRB\": 223, \"REB\": 249, \"AST\": 201, \"STL\": 64, \"BLK\": 9, \"PTS\": 838, \"birth_year\": 1993.0, \"height_cm\": 183.0, \"weight_kg\": 82.0, \"Pos_enc\": 2, \"Preds\": \"SG\"}, {\"Player\": \"Bryn Forbes\", \"Pos\": \"SG\", \"Age\": 24, \"Team\": \"SAS\", \"GP\": 80, \"MIN\": 1516.8, \"FGM\": 209, \"FGA\": 497, \"3PM\": 89, \"3PA\": 228, \"FTM\": 48, \"FTA\": 72, \"TOV\": 37, \"PF\": 108, \"ORB\": 12, \"DRB\": 98, \"REB\": 110, \"AST\": 80, \"STL\": 28, \"BLK\": 2, \"PTS\": 555, \"birth_year\": 1993.0, \"height_cm\": 191.0, \"weight_kg\": 88.0, \"Pos_enc\": 2, \"Preds\": \"SG\"}, {\"Player\": \"De'Aaron Fox\", \"Pos\": \"PG\", \"Age\": 20, \"Team\": \"SAC\", \"GP\": 73, \"MIN\": 2025.6, \"FGM\": 328, \"FGA\": 797, \"3PM\": 47, \"3PA\": 153, \"FTM\": 141, \"FTA\": 195, \"TOV\": 173, \"PF\": 163, \"ORB\": 33, \"DRB\": 171, \"REB\": 204, \"AST\": 320, \"STL\": 70, \"BLK\": 20, \"PTS\": 844, \"birth_year\": 1997.0, \"height_cm\": 191.0, \"weight_kg\": 84.0, \"Pos_enc\": 1, \"Preds\": \"PG\"}, {\"Player\": \"Tim Frazier\", \"Pos\": \"PG\", \"Age\": 27, \"Team\": \"WAS\", \"GP\": 59, \"MIN\": 837.9, \"FGM\": 68, \"FGA\": 172, \"3PM\": 17, \"3PA\": 56, \"FTM\": 23, \"FTA\": 30, \"TOV\": 57, \"PF\": 97, \"ORB\": 18, \"DRB\": 97, \"REB\": 115, \"AST\": 194, \"STL\": 47, \"BLK\": 7, \"PTS\": 176, \"birth_year\": 1990.0, \"height_cm\": 185.0, \"weight_kg\": 77.0, \"Pos_enc\": 1, \"Preds\": \"PG\"}, {\"Player\": \"Langston Galloway\", \"Pos\": \"SG\", \"Age\": 26, \"Team\": \"DET\", \"GP\": 58, \"MIN\": 863.4, \"FGM\": 126, \"FGA\": 340, \"3PM\": 75, \"3PA\": 218, \"FTM\": 33, \"FTA\": 41, \"TOV\": 18, \"PF\": 39, \"ORB\": 13, \"DRB\": 79, \"REB\": 92, \"AST\": 58, \"STL\": 35, \"BLK\": 5, \"PTS\": 360, \"birth_year\": 1991.0, \"height_cm\": 188.0, \"weight_kg\": 91.0, \"Pos_enc\": 2, \"Preds\": \"SG\"}, {\"Player\": \"Marc Gasol\", \"Pos\": \"C\", \"Age\": 33, \"Team\": \"MEM\", \"GP\": 73, \"MIN\": 2408.4, \"FGM\": 434, \"FGA\": 1033, \"3PM\": 109, \"3PA\": 320, \"FTM\": 281, \"FTA\": 337, \"TOV\": 194, \"PF\": 185, \"ORB\": 78, \"DRB\": 514, \"REB\": 592, \"AST\": 305, \"STL\": 54, \"BLK\": 101, \"PTS\": 1258, \"birth_year\": 1985.0, \"height_cm\": 216.0, \"weight_kg\": 116.0, \"Pos_enc\": 5, \"Preds\": \"PF\"}, {\"Player\": \"Pau Gasol\", \"Pos\": \"C\", \"Age\": 37, \"Team\": \"SAS\", \"GP\": 77, \"MIN\": 1812.0, \"FGM\": 287, \"FGA\": 627, \"3PM\": 43, \"3PA\": 120, \"FTM\": 158, \"FTA\": 209, \"TOV\": 108, \"PF\": 121, \"ORB\": 129, \"DRB\": 490, \"REB\": 619, \"AST\": 238, \"STL\": 24, \"BLK\": 79, \"PTS\": 775, \"birth_year\": 1980.0, \"height_cm\": 213.0, \"weight_kg\": 113.0, \"Pos_enc\": 5, \"Preds\": \"C\"}, {\"Player\": \"Rudy Gay\", \"Pos\": \"PF\", \"Age\": 31, \"Team\": \"SAS\", \"GP\": 57, \"MIN\": 1231.3, \"FGM\": 253, \"FGA\": 537, \"3PM\": 37, \"3PA\": 118, \"FTM\": 112, \"FTA\": 145, \"TOV\": 78, \"PF\": 98, \"ORB\": 76, \"DRB\": 215, \"REB\": 291, \"AST\": 73, \"STL\": 46, \"BLK\": 38, \"PTS\": 655, \"birth_year\": 1986.0, \"height_cm\": 203.0, \"weight_kg\": 109.0, \"Pos_enc\": 4, \"Preds\": \"PF\"}, {\"Player\": \"Paul George\", \"Pos\": \"SF\", \"Age\": 27, \"Team\": \"OKC\", \"GP\": 79, \"MIN\": 2890.9, \"FGM\": 576, \"FGA\": 1340, \"3PM\": 244, \"3PA\": 609, \"FTM\": 338, \"FTA\": 411, \"TOV\": 212, \"PF\": 233, \"ORB\": 72, \"DRB\": 375, \"REB\": 447, \"AST\": 263, \"STL\": 161, \"BLK\": 39, \"PTS\": 1734, \"birth_year\": 1990.0, \"height_cm\": 206.0, \"weight_kg\": 100.0, \"Pos_enc\": 3, \"Preds\": \"SG\"}, {\"Player\": \"Taj Gibson\", \"Pos\": \"PF\", \"Age\": 32, \"Team\": \"MIN\", \"GP\": 82, \"MIN\": 2726.6, \"FGM\": 425, \"FGA\": 737, \"3PM\": 7, \"3PA\": 35, \"FTM\": 142, \"FTA\": 185, \"TOV\": 89, \"PF\": 218, \"ORB\": 194, \"DRB\": 390, \"REB\": 584, \"AST\": 99, \"STL\": 62, \"BLK\": 59, \"PTS\": 999, \"birth_year\": 1985.0, \"height_cm\": 206.0, \"weight_kg\": 105.0, \"Pos_enc\": 4, \"Preds\": \"C\"}, {\"Player\": \"Manu Ginobili\", \"Pos\": \"SG\", \"Age\": 40, \"Team\": \"SAS\", \"GP\": 65, \"MIN\": 1298.7, \"FGM\": 201, \"FGA\": 463, \"3PM\": 64, \"3PA\": 192, \"FTM\": 110, \"FTA\": 131, \"TOV\": 105, \"PF\": 126, \"ORB\": 19, \"DRB\": 123, \"REB\": 142, \"AST\": 163, \"STL\": 43, \"BLK\": 16, \"PTS\": 576, \"birth_year\": 1977.0, \"height_cm\": 198.0, \"weight_kg\": 93.0, \"Pos_enc\": 2, \"Preds\": \"PG\"}, {\"Player\": \"Rudy Gobert\", \"Pos\": \"C\", \"Age\": 25, \"Team\": \"UTA\", \"GP\": 56, \"MIN\": 1816.1, \"FGM\": 276, \"FGA\": 444, \"3PM\": 0, \"3PA\": 0, \"FTM\": 204, \"FTA\": 299, \"TOV\": 107, \"PF\": 153, \"ORB\": 165, \"DRB\": 436, \"REB\": 601, \"AST\": 80, \"STL\": 44, \"BLK\": 129, \"PTS\": 756, \"birth_year\": 1992.0, \"height_cm\": 216.0, \"weight_kg\": 111.0, \"Pos_enc\": 5, \"Preds\": \"C\"}, {\"Player\": \"Aaron Gordon\", \"Pos\": \"PF\", \"Age\": 22, \"Team\": \"ORL\", \"GP\": 58, \"MIN\": 1909.2, \"FGM\": 375, \"FGA\": 865, \"3PM\": 115, \"3PA\": 342, \"FTM\": 157, \"FTA\": 225, \"TOV\": 107, \"PF\": 111, \"ORB\": 87, \"DRB\": 370, \"REB\": 457, \"AST\": 136, \"STL\": 59, \"BLK\": 45, \"PTS\": 1022, \"birth_year\": 1995.0, \"height_cm\": 206.0, \"weight_kg\": 100.0, \"Pos_enc\": 4, \"Preds\": \"PF\"}, {\"Player\": \"Eric Gordon\", \"Pos\": \"SG\", \"Age\": 29, \"Team\": \"HOU\", \"GP\": 69, \"MIN\": 2153.9, \"FGM\": 415, \"FGA\": 970, \"3PM\": 218, \"3PA\": 608, \"FTM\": 195, \"FTA\": 241, \"TOV\": 130, \"PF\": 116, \"ORB\": 25, \"DRB\": 145, \"REB\": 170, \"AST\": 154, \"STL\": 44, \"BLK\": 27, \"PTS\": 1243, \"birth_year\": 1988.0, \"height_cm\": 193.0, \"weight_kg\": 98.0, \"Pos_enc\": 2, \"Preds\": \"SG\"}, {\"Player\": \"Marcin Gortat\", \"Pos\": \"C\", \"Age\": 33, \"Team\": \"WAS\", \"GP\": 82, \"MIN\": 2074.6, \"FGM\": 290, \"FGA\": 560, \"3PM\": 0, \"3PA\": 0, \"FTM\": 110, \"FTA\": 163, \"TOV\": 99, \"PF\": 175, \"ORB\": 181, \"DRB\": 442, \"REB\": 623, \"AST\": 151, \"STL\": 40, \"BLK\": 61, \"PTS\": 690, \"birth_year\": 1984.0, \"height_cm\": 211.0, \"weight_kg\": 109.0, \"Pos_enc\": 5, \"Preds\": \"C\"}, {\"Player\": \"Jerami Grant\", \"Pos\": \"PF\", \"Age\": 23, \"Team\": \"OKC\", \"GP\": 81, \"MIN\": 1646.9, \"FGM\": 244, \"FGA\": 456, \"3PM\": 32, \"3PA\": 110, \"FTM\": 162, \"FTA\": 240, \"TOV\": 54, \"PF\": 155, \"ORB\": 86, \"DRB\": 233, \"REB\": 319, \"AST\": 57, \"STL\": 31, \"BLK\": 77, \"PTS\": 682, \"birth_year\": 1994.0, \"height_cm\": 206.0, \"weight_kg\": 100.0, \"Pos_enc\": 4, \"Preds\": \"PF\"}, {\"Player\": \"Jerian Grant\", \"Pos\": \"PG\", \"Age\": 25, \"Team\": \"CHI\", \"GP\": 74, \"MIN\": 1686.3, \"FGM\": 209, \"FGA\": 503, \"3PM\": 61, \"3PA\": 187, \"FTM\": 140, \"FTA\": 188, \"TOV\": 89, \"PF\": 132, \"ORB\": 31, \"DRB\": 141, \"REB\": 172, \"AST\": 342, \"STL\": 63, \"BLK\": 8, \"PTS\": 619, \"birth_year\": 1992.0, \"height_cm\": 193.0, \"weight_kg\": 90.0, \"Pos_enc\": 1, \"Preds\": \"PG\"}, {\"Player\": \"Danny Green\", \"Pos\": \"SG\", \"Age\": 30, \"Team\": \"SAS\", \"GP\": 70, \"MIN\": 1791.0, \"FGM\": 217, \"FGA\": 561, \"3PM\": 116, \"3PA\": 320, \"FTM\": 50, \"FTA\": 65, \"TOV\": 74, \"PF\": 122, \"ORB\": 41, \"DRB\": 208, \"REB\": 249, \"AST\": 110, \"STL\": 63, \"BLK\": 80, \"PTS\": 600, \"birth_year\": 1987.0, \"height_cm\": 198.0, \"weight_kg\": 98.0, \"Pos_enc\": 2, \"Preds\": \"SG\"}, {\"Player\": \"Draymond Green\", \"Pos\": \"PF\", \"Age\": 27, \"Team\": \"GSW\", \"GP\": 70, \"MIN\": 2286.8, \"FGM\": 281, \"FGA\": 619, \"3PM\": 77, \"3PA\": 256, \"FTM\": 134, \"FTA\": 173, \"TOV\": 202, \"PF\": 185, \"ORB\": 75, \"DRB\": 460, \"REB\": 535, \"AST\": 508, \"STL\": 95, \"BLK\": 91, \"PTS\": 773, \"birth_year\": 1990.0, \"height_cm\": 201.0, \"weight_kg\": 104.0, \"Pos_enc\": 4, \"Preds\": \"PF\"}, {\"Player\": \"Gerald Green\", \"Pos\": \"SG\", \"Age\": 32, \"Team\": \"HOU\", \"GP\": 41, \"MIN\": 929.1, \"FGM\": 168, \"FGA\": 413, \"3PM\": 110, \"3PA\": 298, \"FTM\": 51, \"FTA\": 60, \"TOV\": 31, \"PF\": 87, \"ORB\": 14, \"DRB\": 118, \"REB\": 132, \"AST\": 25, \"STL\": 24, \"BLK\": 15, \"PTS\": 497, \"birth_year\": 1986.0, \"height_cm\": 201.0, \"weight_kg\": 93.0, \"Pos_enc\": 2, \"Preds\": \"SG\"}, {\"Player\": \"Jeff Green\", \"Pos\": \"PF\", \"Age\": 31, \"Team\": \"CLE\", \"GP\": 78, \"MIN\": 1827.7, \"FGM\": 295, \"FGA\": 618, \"3PM\": 53, \"3PA\": 170, \"FTM\": 203, \"FTA\": 234, \"TOV\": 75, \"PF\": 149, \"ORB\": 60, \"DRB\": 186, \"REB\": 246, \"AST\": 99, \"STL\": 41, \"BLK\": 34, \"PTS\": 846, \"birth_year\": 1986.0, \"height_cm\": 206.0, \"weight_kg\": 107.0, \"Pos_enc\": 4, \"Preds\": \"PF\"}, {\"Player\": \"James Harden\", \"Pos\": \"SG\", \"Age\": 28, \"Team\": \"HOU\", \"GP\": 72, \"MIN\": 2550.8, \"FGM\": 651, \"FGA\": 1449, \"3PM\": 265, \"3PA\": 722, \"FTM\": 624, \"FTA\": 727, \"TOV\": 315, \"PF\": 169, \"ORB\": 41, \"DRB\": 348, \"REB\": 389, \"AST\": 630, \"STL\": 126, \"BLK\": 50, \"PTS\": 2191, \"birth_year\": 1989.0, \"height_cm\": 196.0, \"weight_kg\": 100.0, \"Pos_enc\": 2, \"Preds\": \"SG\"}, {\"Player\": \"Maurice Harkless\", \"Pos\": \"SF\", \"Age\": 24, \"Team\": \"POR\", \"GP\": 59, \"MIN\": 1263.8, \"FGM\": 147, \"FGA\": 297, \"3PM\": 49, \"3PA\": 118, \"FTM\": 42, \"FTA\": 59, \"TOV\": 40, \"PF\": 103, \"ORB\": 46, \"DRB\": 116, \"REB\": 162, \"AST\": 53, \"STL\": 48, \"BLK\": 43, \"PTS\": 385, \"birth_year\": 1993.0, \"height_cm\": 206.0, \"weight_kg\": 100.0, \"Pos_enc\": 3, \"Preds\": \"PF\"}, {\"Player\": \"Montrezl Harrell\", \"Pos\": \"C\", \"Age\": 24, \"Team\": \"LAC\", \"GP\": 76, \"MIN\": 1293.0, \"FGM\": 348, \"FGA\": 548, \"3PM\": 1, \"3PA\": 7, \"FTM\": 139, \"FTA\": 222, \"TOV\": 68, \"PF\": 143, \"ORB\": 103, \"DRB\": 204, \"REB\": 307, \"AST\": 74, \"STL\": 36, \"BLK\": 52, \"PTS\": 836, \"birth_year\": 1994.0, \"height_cm\": 203.0, \"weight_kg\": 109.0, \"Pos_enc\": 5, \"Preds\": \"PF\"}, {\"Player\": \"Gary Harris\", \"Pos\": \"SG\", \"Age\": 23, \"Team\": \"DEN\", \"GP\": 67, \"MIN\": 2304.6, \"FGM\": 440, \"FGA\": 908, \"3PM\": 156, \"3PA\": 394, \"FTM\": 134, \"FTA\": 162, \"TOV\": 119, \"PF\": 119, \"ORB\": 37, \"DRB\": 139, \"REB\": 176, \"AST\": 194, \"STL\": 122, \"BLK\": 15, \"PTS\": 1170, \"birth_year\": 1994.0, \"height_cm\": 193.0, \"weight_kg\": 95.0, \"Pos_enc\": 2, \"Preds\": \"SG\"}, {\"Player\": \"Joe Harris\", \"Pos\": \"SG\", \"Age\": 26, \"Team\": \"BRK\", \"GP\": 78, \"MIN\": 1974.5, \"FGM\": 305, \"FGA\": 621, \"3PM\": 150, \"3PA\": 358, \"FTM\": 86, \"FTA\": 104, \"TOV\": 91, \"PF\": 153, \"ORB\": 51, \"DRB\": 209, \"REB\": 260, \"AST\": 128, \"STL\": 35, \"BLK\": 20, \"PTS\": 846, \"birth_year\": 1991.0, \"height_cm\": 198.0, \"weight_kg\": 99.0, \"Pos_enc\": 2, \"Preds\": \"SF\"}, {\"Player\": \"Josh Hart\", \"Pos\": \"SG\", \"Age\": 22, \"Team\": \"LAL\", \"GP\": 63, \"MIN\": 1460.5, \"FGM\": 176, \"FGA\": 375, \"3PM\": 78, \"3PA\": 197, \"FTM\": 66, \"FTA\": 94, \"TOV\": 47, \"PF\": 107, \"ORB\": 42, \"DRB\": 221, \"REB\": 263, \"AST\": 80, \"STL\": 47, \"BLK\": 16, \"PTS\": 496, \"birth_year\": 1995.0, \"height_cm\": 196.0, \"weight_kg\": 98.0, \"Pos_enc\": 2, \"Preds\": \"PF\"}, {\"Player\": \"John Henson\", \"Pos\": \"C\", \"Age\": 27, \"Team\": \"MIL\", \"GP\": 76, \"MIN\": 1969.7, \"FGM\": 287, \"FGA\": 502, \"3PM\": 1, \"3PA\": 7, \"FTM\": 90, \"FTA\": 158, \"TOV\": 84, \"PF\": 202, \"ORB\": 150, \"DRB\": 363, \"REB\": 513, \"AST\": 114, \"STL\": 45, \"BLK\": 109, \"PTS\": 665, \"birth_year\": 1990.0, \"height_cm\": 211.0, \"weight_kg\": 99.0, \"Pos_enc\": 5, \"Preds\": \"C\"}, {\"Player\": \"Mario Hezonja\", \"Pos\": \"SF\", \"Age\": 22, \"Team\": \"ORL\", \"GP\": 75, \"MIN\": 1657.0, \"FGM\": 273, \"FGA\": 617, \"3PM\": 90, \"3PA\": 267, \"FTM\": 86, \"FTA\": 105, \"TOV\": 86, \"PF\": 134, \"ORB\": 41, \"DRB\": 240, \"REB\": 281, \"AST\": 106, \"STL\": 81, \"BLK\": 31, \"PTS\": 722, \"birth_year\": 1995.0, \"height_cm\": 203.0, \"weight_kg\": 100.0, \"Pos_enc\": 3, \"Preds\": \"PF\"}, {\"Player\": \"Buddy Hield\", \"Pos\": \"SG\", \"Age\": 24, \"Team\": \"SAC\", \"GP\": 80, \"MIN\": 2024.2, \"FGM\": 416, \"FGA\": 933, \"3PM\": 176, \"3PA\": 408, \"FTM\": 71, \"FTA\": 81, \"TOV\": 124, \"PF\": 148, \"ORB\": 55, \"DRB\": 252, \"REB\": 307, \"AST\": 155, \"STL\": 85, \"BLK\": 22, \"PTS\": 1079, \"birth_year\": 1992.0, \"height_cm\": 193.0, \"weight_kg\": 100.0, \"Pos_enc\": 2, \"Preds\": \"SG\"}, {\"Player\": \"Jrue Holiday\", \"Pos\": \"SG\", \"Age\": 27, \"Team\": \"NOP\", \"GP\": 81, \"MIN\": 2926.8, \"FGM\": 615, \"FGA\": 1244, \"3PM\": 120, \"3PA\": 356, \"FTM\": 187, \"FTA\": 238, \"TOV\": 213, \"PF\": 201, \"ORB\": 62, \"DRB\": 303, \"REB\": 365, \"AST\": 486, \"STL\": 123, \"BLK\": 64, \"PTS\": 1537, \"birth_year\": 1990.0, \"height_cm\": 193.0, \"weight_kg\": 93.0, \"Pos_enc\": 2, \"Preds\": \"SG\"}, {\"Player\": \"Justin Holiday\", \"Pos\": \"SG\", \"Age\": 28, \"Team\": \"CHI\", \"GP\": 72, \"MIN\": 2265.0, \"FGM\": 290, \"FGA\": 782, \"3PM\": 161, \"3PA\": 449, \"FTM\": 135, \"FTA\": 164, \"TOV\": 93, \"PF\": 134, \"ORB\": 31, \"DRB\": 260, \"REB\": 291, \"AST\": 153, \"STL\": 80, \"BLK\": 31, \"PTS\": 876, \"birth_year\": 1989.0, \"height_cm\": 198.0, \"weight_kg\": 82.0, \"Pos_enc\": 2, \"Preds\": \"SG\"}, {\"Player\": \"Rondae Hollis-Jefferson\", \"Pos\": \"SF\", \"Age\": 23, \"Team\": \"BRK\", \"GP\": 68, \"MIN\": 1920.6, \"FGM\": 342, \"FGA\": 724, \"3PM\": 13, \"3PA\": 54, \"FTM\": 249, \"FTA\": 316, \"TOV\": 121, \"PF\": 145, \"ORB\": 101, \"DRB\": 358, \"REB\": 459, \"AST\": 167, \"STL\": 65, \"BLK\": 48, \"PTS\": 946, \"birth_year\": 1995.0, \"height_cm\": 201.0, \"weight_kg\": 98.0, \"Pos_enc\": 3, \"Preds\": \"C\"}, {\"Player\": \"Al Horford\", \"Pos\": \"C\", \"Age\": 31, \"Team\": \"BOS\", \"GP\": 72, \"MIN\": 2277.1, \"FGM\": 368, \"FGA\": 753, \"3PM\": 97, \"3PA\": 226, \"FTM\": 94, \"FTA\": 120, \"TOV\": 132, \"PF\": 138, \"ORB\": 103, \"DRB\": 427, \"REB\": 530, \"AST\": 339, \"STL\": 43, \"BLK\": 78, \"PTS\": 927, \"birth_year\": 1986.0, \"height_cm\": 208.0, \"weight_kg\": 111.0, \"Pos_enc\": 5, \"Preds\": \"PF\"}, {\"Player\": \"Josh Huestis\", \"Pos\": \"PF\", \"Age\": 26, \"Team\": \"OKC\", \"GP\": 69, \"MIN\": 981.5, \"FGM\": 60, \"FGA\": 182, \"3PM\": 33, \"3PA\": 115, \"FTM\": 6, \"FTA\": 20, \"TOV\": 26, \"PF\": 82, \"ORB\": 42, \"DRB\": 119, \"REB\": 161, \"AST\": 20, \"STL\": 15, \"BLK\": 43, \"PTS\": 159, \"birth_year\": 1991.0, \"height_cm\": 201.0, \"weight_kg\": 104.0, \"Pos_enc\": 4, \"Preds\": \"PF\"}, {\"Player\": \"Serge Ibaka\", \"Pos\": \"PF\", \"Age\": 28, \"Team\": \"TOR\", \"GP\": 76, \"MIN\": 2093.2, \"FGM\": 379, \"FGA\": 784, \"3PM\": 107, \"3PA\": 297, \"FTM\": 94, \"FTA\": 118, \"TOV\": 90, \"PF\": 209, \"ORB\": 78, \"DRB\": 400, \"REB\": 478, \"AST\": 62, \"STL\": 29, \"BLK\": 99, \"PTS\": 959, \"birth_year\": 1989.0, \"height_cm\": 208.0, \"weight_kg\": 107.0, \"Pos_enc\": 4, \"Preds\": \"PF\"}, {\"Player\": \"Andre Iguodala\", \"Pos\": \"SF\", \"Age\": 34, \"Team\": \"GSW\", \"GP\": 64, \"MIN\": 1622.5, \"FGM\": 148, \"FGA\": 320, \"3PM\": 33, \"3PA\": 117, \"FTM\": 55, \"FTA\": 87, \"TOV\": 67, \"PF\": 99, \"ORB\": 50, \"DRB\": 196, \"REB\": 246, \"AST\": 210, \"STL\": 54, \"BLK\": 38, \"PTS\": 384, \"birth_year\": 1984.0, \"height_cm\": 198.0, \"weight_kg\": 98.0, \"Pos_enc\": 3, \"Preds\": \"PG\"}, {\"Player\": \"Joe Ingles\", \"Pos\": \"SF\", \"Age\": 30, \"Team\": \"UTA\", \"GP\": 82, \"MIN\": 2578.6, \"FGM\": 335, \"FGA\": 718, \"3PM\": 204, \"3PA\": 464, \"FTM\": 66, \"FTA\": 83, \"TOV\": 159, \"PF\": 178, \"ORB\": 24, \"DRB\": 320, \"REB\": 344, \"AST\": 392, \"STL\": 91, \"BLK\": 20, \"PTS\": 940, \"birth_year\": 1987.0, \"height_cm\": 203.0, \"weight_kg\": 103.0, \"Pos_enc\": 3, \"Preds\": \"SG\"}, {\"Player\": \"Brandon Ingram\", \"Pos\": \"SF\", \"Age\": 20, \"Team\": \"LAL\", \"GP\": 59, \"MIN\": 1974.7, \"FGM\": 358, \"FGA\": 761, \"3PM\": 41, \"3PA\": 105, \"FTM\": 192, \"FTA\": 282, \"TOV\": 149, \"PF\": 163, \"ORB\": 57, \"DRB\": 257, \"REB\": 314, \"AST\": 230, \"STL\": 45, \"BLK\": 43, \"PTS\": 949, \"birth_year\": 1997.0, \"height_cm\": 206.0, \"weight_kg\": 86.0, \"Pos_enc\": 3, \"Preds\": \"SF\"}, {\"Player\": \"Kyrie Irving\", \"Pos\": \"PG\", \"Age\": 25, \"Team\": \"BOS\", \"GP\": 60, \"MIN\": 1931.4, \"FGM\": 534, \"FGA\": 1087, \"3PM\": 166, \"3PA\": 407, \"FTM\": 232, \"FTA\": 261, \"TOV\": 140, \"PF\": 122, \"ORB\": 33, \"DRB\": 194, \"REB\": 227, \"AST\": 306, \"STL\": 65, \"BLK\": 17, \"PTS\": 1466, \"birth_year\": 1992.0, \"height_cm\": 191.0, \"weight_kg\": 88.0, \"Pos_enc\": 1, \"Preds\": \"PG\"}, {\"Player\": \"Wesley Iwundu\", \"Pos\": \"SF\", \"Age\": 23, \"Team\": \"ORL\", \"GP\": 62, \"MIN\": 1020.2, \"FGM\": 93, \"FGA\": 218, \"3PM\": 9, \"3PA\": 46, \"FTM\": 34, \"FTA\": 47, \"TOV\": 30, \"PF\": 81, \"ORB\": 36, \"DRB\": 101, \"REB\": 137, \"AST\": 57, \"STL\": 33, \"BLK\": 12, \"PTS\": 229, \"birth_year\": 1994.0, \"height_cm\": 201.0, \"weight_kg\": 88.0, \"Pos_enc\": 3, \"Preds\": \"SG\"}, {\"Player\": \"Jarrett Jack\", \"Pos\": \"PG\", \"Age\": 34, \"Team\": \"NYK\", \"GP\": 62, \"MIN\": 1547.9, \"FGM\": 189, \"FGA\": 443, \"3PM\": 25, \"3PA\": 86, \"FTM\": 63, \"FTA\": 75, \"TOV\": 115, \"PF\": 98, \"ORB\": 22, \"DRB\": 169, \"REB\": 191, \"AST\": 348, \"STL\": 35, \"BLK\": 4, \"PTS\": 466, \"birth_year\": 1983.0, \"height_cm\": 191.0, \"weight_kg\": 91.0, \"Pos_enc\": 1, \"Preds\": \"PG\"}, {\"Player\": \"Justin Jackson\", \"Pos\": \"SF\", \"Age\": 22, \"Team\": \"SAC\", \"GP\": 68, \"MIN\": 1506.2, \"FGM\": 185, \"FGA\": 419, \"3PM\": 57, \"3PA\": 185, \"FTM\": 26, \"FTA\": 36, \"TOV\": 40, \"PF\": 81, \"ORB\": 27, \"DRB\": 160, \"REB\": 187, \"AST\": 74, \"STL\": 28, \"BLK\": 13, \"PTS\": 453, \"birth_year\": 1995.0, \"height_cm\": 203.0, \"weight_kg\": 95.0, \"Pos_enc\": 3, \"Preds\": \"PF\"}, {\"Player\": \"LeBron James\", \"Pos\": \"PF\", \"Age\": 33, \"Team\": \"CLE\", \"GP\": 82, \"MIN\": 3025.8, \"FGM\": 857, \"FGA\": 1580, \"3PM\": 149, \"3PA\": 406, \"FTM\": 388, \"FTA\": 531, \"TOV\": 347, \"PF\": 136, \"ORB\": 97, \"DRB\": 612, \"REB\": 709, \"AST\": 747, \"STL\": 116, \"BLK\": 71, \"PTS\": 2251, \"birth_year\": 1984.0, \"height_cm\": 203.0, \"weight_kg\": 113.0, \"Pos_enc\": 4, \"Preds\": \"PF\"}, {\"Player\": \"Jonas Jerebko\", \"Pos\": \"PF\", \"Age\": 30, \"Team\": \"UTA\", \"GP\": 74, \"MIN\": 1133.3, \"FGM\": 159, \"FGA\": 341, \"3PM\": 65, \"3PA\": 157, \"FTM\": 46, \"FTA\": 57, \"TOV\": 27, \"PF\": 127, \"ORB\": 53, \"DRB\": 193, \"REB\": 246, \"AST\": 42, \"STL\": 24, \"BLK\": 12, \"PTS\": 429, \"birth_year\": 1987.0, \"height_cm\": 208.0, \"weight_kg\": 105.0, \"Pos_enc\": 4, \"Preds\": \"PF\"}, {\"Player\": \"Amir Johnson\", \"Pos\": \"C\", \"Age\": 30, \"Team\": \"PHI\", \"GP\": 74, \"MIN\": 1170.3, \"FGM\": 140, \"FGA\": 260, \"3PM\": 10, \"3PA\": 32, \"FTM\": 52, \"FTA\": 85, \"TOV\": 55, \"PF\": 192, \"ORB\": 123, \"DRB\": 207, \"REB\": 330, \"AST\": 118, \"STL\": 45, \"BLK\": 44, \"PTS\": 342, \"birth_year\": 1987.0, \"height_cm\": 206.0, \"weight_kg\": 109.0, \"Pos_enc\": 5, \"Preds\": \"C\"}, {\"Player\": \"James Johnson\", \"Pos\": \"PF\", \"Age\": 30, \"Team\": \"MIA\", \"GP\": 73, \"MIN\": 1943.3, \"FGM\": 309, \"FGA\": 614, \"3PM\": 57, \"3PA\": 185, \"FTM\": 113, \"FTA\": 162, \"TOV\": 141, \"PF\": 192, \"ORB\": 61, \"DRB\": 297, \"REB\": 358, \"AST\": 280, \"STL\": 70, \"BLK\": 51, \"PTS\": 788, \"birth_year\": 1987.0, \"height_cm\": 203.0, \"weight_kg\": 109.0, \"Pos_enc\": 4, \"Preds\": \"PF\"}, {\"Player\": \"Stanley Johnson\", \"Pos\": \"SF\", \"Age\": 21, \"Team\": \"DET\", \"GP\": 69, \"MIN\": 1893.5, \"FGM\": 210, \"FGA\": 560, \"3PM\": 67, \"3PA\": 234, \"FTM\": 112, \"FTA\": 145, \"TOV\": 77, \"PF\": 169, \"ORB\": 33, \"DRB\": 219, \"REB\": 252, \"AST\": 112, \"STL\": 95, \"BLK\": 14, \"PTS\": 599, \"birth_year\": 1996.0, \"height_cm\": 201.0, \"weight_kg\": 111.0, \"Pos_enc\": 3, \"Preds\": \"SF\"}, {\"Player\": \"Tyler Johnson\", \"Pos\": \"PG\", \"Age\": 25, \"Team\": \"MIA\", \"GP\": 72, \"MIN\": 2052.2, \"FGM\": 309, \"FGA\": 711, \"3PM\": 119, \"3PA\": 324, \"FTM\": 106, \"FTA\": 129, \"TOV\": 81, \"PF\": 148, \"ORB\": 34, \"DRB\": 214, \"REB\": 248, \"AST\": 165, \"STL\": 60, \"BLK\": 34, \"PTS\": 843, \"birth_year\": 1992.0, \"height_cm\": 193.0, \"weight_kg\": 86.0, \"Pos_enc\": 1, \"Preds\": \"SG\"}, {\"Player\": \"Wesley Johnson\", \"Pos\": \"SF\", \"Age\": 30, \"Team\": \"LAC\", \"GP\": 74, \"MIN\": 1486.2, \"FGM\": 150, \"FGA\": 368, \"3PM\": 60, \"3PA\": 177, \"FTM\": 43, \"FTA\": 58, \"TOV\": 55, \"PF\": 146, \"ORB\": 29, \"DRB\": 187, \"REB\": 216, \"AST\": 61, \"STL\": 76, \"BLK\": 62, \"PTS\": 403, \"birth_year\": 1987.0, \"height_cm\": 201.0, \"weight_kg\": 98.0, \"Pos_enc\": 3, \"Preds\": \"PF\"}, {\"Player\": \"Nikola Jokic\", \"Pos\": \"C\", \"Age\": 22, \"Team\": \"DEN\", \"GP\": 75, \"MIN\": 2440.9, \"FGM\": 504, \"FGA\": 1010, \"3PM\": 111, \"3PA\": 280, \"FTM\": 266, \"FTA\": 313, \"TOV\": 210, \"PF\": 212, \"ORB\": 195, \"DRB\": 608, \"REB\": 803, \"AST\": 458, \"STL\": 90, \"BLK\": 61, \"PTS\": 1385, \"birth_year\": 1995.0, \"height_cm\": 213.0, \"weight_kg\": 113.0, \"Pos_enc\": 5, \"Preds\": \"C\"}, {\"Player\": \"Tyus Jones\", \"Pos\": \"PG\", \"Age\": 21, \"Team\": \"MIN\", \"GP\": 82, \"MIN\": 1466.8, \"FGM\": 150, \"FGA\": 328, \"3PM\": 45, \"3PA\": 129, \"FTM\": 71, \"FTA\": 81, \"TOV\": 59, \"PF\": 110, \"ORB\": 16, \"DRB\": 116, \"REB\": 132, \"AST\": 232, \"STL\": 95, \"BLK\": 6, \"PTS\": 416, \"birth_year\": 1996.0, \"height_cm\": 188.0, \"weight_kg\": 89.0, \"Pos_enc\": 1, \"Preds\": \"PG\"}, {\"Player\": \"DeAndre Jordan\", \"Pos\": \"C\", \"Age\": 29, \"Team\": \"LAC\", \"GP\": 77, \"MIN\": 2423.7, \"FGM\": 373, \"FGA\": 578, \"3PM\": 0, \"3PA\": 0, \"FTM\": 181, \"FTA\": 312, \"TOV\": 137, \"PF\": 203, \"ORB\": 329, \"DRB\": 842, \"REB\": 1171, \"AST\": 117, \"STL\": 39, \"BLK\": 71, \"PTS\": 927, \"birth_year\": 1988.0, \"height_cm\": 211.0, \"weight_kg\": 120.0, \"Pos_enc\": 5, \"Preds\": \"C\"}, {\"Player\": \"Cory Joseph\", \"Pos\": \"PG\", \"Age\": 26, \"Team\": \"IND\", \"GP\": 82, \"MIN\": 2209.8, \"FGM\": 256, \"FGA\": 604, \"3PM\": 67, \"3PA\": 190, \"FTM\": 70, \"FTA\": 94, \"TOV\": 87, \"PF\": 141, \"ORB\": 39, \"DRB\": 224, \"REB\": 263, \"AST\": 260, \"STL\": 80, \"BLK\": 18, \"PTS\": 649, \"birth_year\": 1991.0, \"height_cm\": 191.0, \"weight_kg\": 91.0, \"Pos_enc\": 1, \"Preds\": \"PG\"}, {\"Player\": \"Enes Kanter\", \"Pos\": \"C\", \"Age\": 25, \"Team\": \"NYK\", \"GP\": 71, \"MIN\": 1829.8, \"FGM\": 422, \"FGA\": 713, \"3PM\": 0, \"3PA\": 2, \"FTM\": 156, \"FTA\": 184, \"TOV\": 122, \"PF\": 187, \"ORB\": 273, \"DRB\": 507, \"REB\": 780, \"AST\": 105, \"STL\": 36, \"BLK\": 37, \"PTS\": 1000, \"birth_year\": 1992.0, \"height_cm\": 211.0, \"weight_kg\": 113.0, \"Pos_enc\": 5, \"Preds\": \"C\"}, {\"Player\": \"Luke Kennard\", \"Pos\": \"SG\", \"Age\": 21, \"Team\": \"DET\", \"GP\": 73, \"MIN\": 1462.7, \"FGM\": 206, \"FGA\": 465, \"3PM\": 81, \"3PA\": 195, \"FTM\": 65, \"FTA\": 76, \"TOV\": 69, \"PF\": 86, \"ORB\": 21, \"DRB\": 155, \"REB\": 176, \"AST\": 124, \"STL\": 44, \"BLK\": 13, \"PTS\": 558, \"birth_year\": 1996.0, \"height_cm\": 196.0, \"weight_kg\": 93.0, \"Pos_enc\": 2, \"Preds\": \"SG\"}, {\"Player\": \"Maxi Kleber\", \"Pos\": \"PF\", \"Age\": 26, \"Team\": \"DAL\", \"GP\": 72, \"MIN\": 1206.1, \"FGM\": 151, \"FGA\": 309, \"3PM\": 40, \"3PA\": 128, \"FTM\": 44, \"FTA\": 59, \"TOV\": 30, \"PF\": 114, \"ORB\": 71, \"DRB\": 163, \"REB\": 234, \"AST\": 51, \"STL\": 26, \"BLK\": 47, \"PTS\": 386, \"birth_year\": 1992.0, \"height_cm\": 211.0, \"weight_kg\": 109.0, \"Pos_enc\": 4, \"Preds\": \"SF\"}, {\"Player\": \"Kyle Korver\", \"Pos\": \"SG\", \"Age\": 36, \"Team\": \"CLE\", \"GP\": 73, \"MIN\": 1573.8, \"FGM\": 222, \"FGA\": 484, \"3PM\": 164, \"3PA\": 376, \"FTM\": 64, \"FTA\": 72, \"TOV\": 55, \"PF\": 130, \"ORB\": 9, \"DRB\": 156, \"REB\": 165, \"AST\": 88, \"STL\": 31, \"BLK\": 27, \"PTS\": 672, \"birth_year\": 1981.0, \"height_cm\": 201.0, \"weight_kg\": 96.0, \"Pos_enc\": 2, \"Preds\": \"SF\"}, {\"Player\": \"Kosta Koufos\", \"Pos\": \"C\", \"Age\": 28, \"Team\": \"SAC\", \"GP\": 71, \"MIN\": 1391.2, \"FGM\": 222, \"FGA\": 389, \"3PM\": 0, \"3PA\": 0, \"FTM\": 33, \"FTA\": 74, \"TOV\": 49, \"PF\": 146, \"ORB\": 149, \"DRB\": 323, \"REB\": 472, \"AST\": 87, \"STL\": 48, \"BLK\": 32, \"PTS\": 477, \"birth_year\": 1989.0, \"height_cm\": 213.0, \"weight_kg\": 120.0, \"Pos_enc\": 5, \"Preds\": \"C\"}, {\"Player\": \"Kyle Kuzma\", \"Pos\": \"PF\", \"Age\": 22, \"Team\": \"LAL\", \"GP\": 77, \"MIN\": 2400.8, \"FGM\": 468, \"FGA\": 1039, \"3PM\": 159, \"3PA\": 434, \"FTM\": 147, \"FTA\": 208, \"TOV\": 140, \"PF\": 160, \"ORB\": 88, \"DRB\": 395, \"REB\": 483, \"AST\": 141, \"STL\": 49, \"BLK\": 34, \"PTS\": 1242, \"birth_year\": 1995.0, \"height_cm\": 206.0, \"weight_kg\": 100.0, \"Pos_enc\": 4, \"Preds\": \"PF\"}, {\"Player\": \"Skal Labissiere\", \"Pos\": \"PF\", \"Age\": 21, \"Team\": \"SAC\", \"GP\": 60, \"MIN\": 1240.2, \"FGM\": 205, \"FGA\": 458, \"3PM\": 18, \"3PA\": 51, \"FTM\": 95, \"FTA\": 118, \"TOV\": 73, \"PF\": 132, \"ORB\": 99, \"DRB\": 189, \"REB\": 288, \"AST\": 72, \"STL\": 25, \"BLK\": 49, \"PTS\": 523, \"birth_year\": 1996.0, \"height_cm\": 211.0, \"weight_kg\": 107.0, \"Pos_enc\": 4, \"Preds\": \"C\"}, {\"Player\": \"Shane Larkin\", \"Pos\": \"PG\", \"Age\": 25, \"Team\": \"BOS\", \"GP\": 54, \"MIN\": 774.7, \"FGM\": 84, \"FGA\": 219, \"3PM\": 31, \"3PA\": 86, \"FTM\": 32, \"FTA\": 37, \"TOV\": 33, \"PF\": 58, \"ORB\": 15, \"DRB\": 77, \"REB\": 92, \"AST\": 98, \"STL\": 29, \"BLK\": 2, \"PTS\": 231, \"birth_year\": 1992.0, \"height_cm\": 180.0, \"weight_kg\": 79.0, \"Pos_enc\": 1, \"Preds\": \"SG\"}, {\"Player\": \"Courtney Lee\", \"Pos\": \"SG\", \"Age\": 32, \"Team\": \"NYK\", \"GP\": 76, \"MIN\": 2309.9, \"FGM\": 343, \"FGA\": 755, \"3PM\": 113, \"3PA\": 278, \"FTM\": 114, \"FTA\": 124, \"TOV\": 84, \"PF\": 109, \"ORB\": 30, \"DRB\": 194, \"REB\": 224, \"AST\": 180, \"STL\": 80, \"BLK\": 17, \"PTS\": 913, \"birth_year\": 1985.0, \"height_cm\": 196.0, \"weight_kg\": 98.0, \"Pos_enc\": 2, \"Preds\": \"SF\"}, {\"Player\": \"Caris LeVert\", \"Pos\": \"SF\", \"Age\": 23, \"Team\": \"BRK\", \"GP\": 71, \"MIN\": 1863.8, \"FGM\": 320, \"FGA\": 735, \"3PM\": 85, \"3PA\": 245, \"FTM\": 133, \"FTA\": 187, \"TOV\": 153, \"PF\": 159, \"ORB\": 53, \"DRB\": 207, \"REB\": 260, \"AST\": 299, \"STL\": 82, \"BLK\": 22, \"PTS\": 858, \"birth_year\": 1994.0, \"height_cm\": 201.0, \"weight_kg\": 93.0, \"Pos_enc\": 3, \"Preds\": \"PG\"}, {\"Player\": \"Damian Lillard\", \"Pos\": \"PG\", \"Age\": 27, \"Team\": \"POR\", \"GP\": 73, \"MIN\": 2670.0, \"FGM\": 621, \"FGA\": 1415, \"3PM\": 227, \"3PA\": 629, \"FTM\": 493, \"FTA\": 538, \"TOV\": 206, \"PF\": 117, \"ORB\": 62, \"DRB\": 263, \"REB\": 325, \"AST\": 481, \"STL\": 78, \"BLK\": 27, \"PTS\": 1962, \"birth_year\": 1990.0, \"height_cm\": 191.0, \"weight_kg\": 88.0, \"Pos_enc\": 1, \"Preds\": \"SG\"}, {\"Player\": \"Shaun Livingston\", \"Pos\": \"PG\", \"Age\": 32, \"Team\": \"GSW\", \"GP\": 71, \"MIN\": 1129.2, \"FGM\": 172, \"FGA\": 343, \"3PM\": 0, \"3PA\": 5, \"FTM\": 50, \"FTA\": 61, \"TOV\": 58, \"PF\": 117, \"ORB\": 32, \"DRB\": 99, \"REB\": 131, \"AST\": 140, \"STL\": 35, \"BLK\": 21, \"PTS\": 394, \"birth_year\": 1985.0, \"height_cm\": 201.0, \"weight_kg\": 87.0, \"Pos_enc\": 1, \"Preds\": \"PG\"}, {\"Player\": \"Kevon Looney\", \"Pos\": \"C\", \"Age\": 21, \"Team\": \"GSW\", \"GP\": 66, \"MIN\": 910.0, \"FGM\": 112, \"FGA\": 193, \"3PM\": 1, \"3PA\": 5, \"FTM\": 42, \"FTA\": 77, \"TOV\": 31, \"PF\": 106, \"ORB\": 83, \"DRB\": 132, \"REB\": 215, \"AST\": 42, \"STL\": 34, \"BLK\": 56, \"PTS\": 267, \"birth_year\": 1996.0, \"height_cm\": 206.0, \"weight_kg\": 100.0, \"Pos_enc\": 5, \"Preds\": \"C\"}, {\"Player\": \"Brook Lopez\", \"Pos\": \"C\", \"Age\": 29, \"Team\": \"LAL\", \"GP\": 74, \"MIN\": 1735.0, \"FGM\": 369, \"FGA\": 793, \"3PM\": 112, \"3PA\": 325, \"FTM\": 111, \"FTA\": 158, \"TOV\": 98, \"PF\": 195, \"ORB\": 74, \"DRB\": 220, \"REB\": 294, \"AST\": 126, \"STL\": 30, \"BLK\": 98, \"PTS\": 961, \"birth_year\": 1988.0, \"height_cm\": 213.0, \"weight_kg\": 122.0, \"Pos_enc\": 5, \"Preds\": \"SG\"}, {\"Player\": \"Robin Lopez\", \"Pos\": \"C\", \"Age\": 29, \"Team\": \"CHI\", \"GP\": 64, \"MIN\": 1690.5, \"FGM\": 342, \"FGA\": 645, \"3PM\": 4, \"3PA\": 14, \"FTM\": 68, \"FTA\": 90, \"TOV\": 107, \"PF\": 109, \"ORB\": 134, \"DRB\": 156, \"REB\": 290, \"AST\": 124, \"STL\": 14, \"BLK\": 53, \"PTS\": 756, \"birth_year\": 1988.0, \"height_cm\": 213.0, \"weight_kg\": 125.0, \"Pos_enc\": 5, \"Preds\": \"C\"}, {\"Player\": \"Kevin Love\", \"Pos\": \"C\", \"Age\": 29, \"Team\": \"CLE\", \"GP\": 59, \"MIN\": 1651.2, \"FGM\": 334, \"FGA\": 729, \"3PM\": 137, \"3PA\": 330, \"FTM\": 234, \"FTA\": 266, \"TOV\": 90, \"PF\": 120, \"ORB\": 101, \"DRB\": 445, \"REB\": 546, \"AST\": 103, \"STL\": 43, \"BLK\": 24, \"PTS\": 1039, \"birth_year\": 1988.0, \"height_cm\": 208.0, \"weight_kg\": 114.0, \"Pos_enc\": 5, \"Preds\": \"PF\"}, {\"Player\": \"Kyle Lowry\", \"Pos\": \"PG\", \"Age\": 31, \"Team\": \"TOR\", \"GP\": 78, \"MIN\": 2509.8, \"FGM\": 403, \"FGA\": 944, \"3PM\": 238, \"3PA\": 596, \"FTM\": 223, \"FTA\": 261, \"TOV\": 183, \"PF\": 192, \"ORB\": 66, \"DRB\": 368, \"REB\": 434, \"AST\": 537, \"STL\": 85, \"BLK\": 19, \"PTS\": 1267, \"birth_year\": 1986.0, \"height_cm\": 185.0, \"weight_kg\": 89.0, \"Pos_enc\": 1, \"Preds\": \"PG\"}, {\"Player\": \"Trey Lyles\", \"Pos\": \"PF\", \"Age\": 22, \"Team\": \"DEN\", \"GP\": 73, \"MIN\": 1390.6, \"FGM\": 270, \"FGA\": 550, \"3PM\": 83, \"3PA\": 218, \"FTM\": 101, \"FTA\": 143, \"TOV\": 61, \"PF\": 111, \"ORB\": 55, \"DRB\": 292, \"REB\": 347, \"AST\": 91, \"STL\": 30, \"BLK\": 34, \"PTS\": 724, \"birth_year\": 1995.0, \"height_cm\": 208.0, \"weight_kg\": 107.0, \"Pos_enc\": 4, \"Preds\": \"PF\"}, {\"Player\": \"Shelvin Mack\", \"Pos\": \"PG\", \"Age\": 27, \"Team\": \"ORL\", \"GP\": 69, \"MIN\": 1364.7, \"FGM\": 178, \"FGA\": 414, \"3PM\": 48, \"3PA\": 139, \"FTM\": 69, \"FTA\": 97, \"TOV\": 89, \"PF\": 91, \"ORB\": 23, \"DRB\": 143, \"REB\": 166, \"AST\": 272, \"STL\": 54, \"BLK\": 8, \"PTS\": 473, \"birth_year\": 1990.0, \"height_cm\": 191.0, \"weight_kg\": 92.0, \"Pos_enc\": 1, \"Preds\": \"PG\"}, {\"Player\": \"Ian Mahinmi\", \"Pos\": \"C\", \"Age\": 31, \"Team\": \"WAS\", \"GP\": 77, \"MIN\": 1145.3, \"FGM\": 138, \"FGA\": 248, \"3PM\": 0, \"3PA\": 2, \"FTM\": 90, \"FTA\": 128, \"TOV\": 100, \"PF\": 230, \"ORB\": 135, \"DRB\": 177, \"REB\": 312, \"AST\": 53, \"STL\": 38, \"BLK\": 42, \"PTS\": 366, \"birth_year\": 1986.0, \"height_cm\": 211.0, \"weight_kg\": 119.0, \"Pos_enc\": 5, \"Preds\": \"C\"}, {\"Player\": \"Thon Maker\", \"Pos\": \"C\", \"Age\": 20, \"Team\": \"MIL\", \"GP\": 74, \"MIN\": 1237.8, \"FGM\": 130, \"FGA\": 316, \"3PM\": 31, \"3PA\": 104, \"FTM\": 65, \"FTA\": 93, \"TOV\": 44, \"PF\": 162, \"ORB\": 75, \"DRB\": 150, \"REB\": 225, \"AST\": 46, \"STL\": 38, \"BLK\": 53, \"PTS\": 356, \"birth_year\": 1997.0, \"height_cm\": 216.0, \"weight_kg\": 100.0, \"Pos_enc\": 5, \"Preds\": \"PF\"}, {\"Player\": \"Lauri Markkanen\", \"Pos\": \"PF\", \"Age\": 20, \"Team\": \"CHI\", \"GP\": 68, \"MIN\": 2020.1, \"FGM\": 374, \"FGA\": 862, \"3PM\": 145, \"3PA\": 401, \"FTM\": 140, \"FTA\": 166, \"TOV\": 83, \"PF\": 103, \"ORB\": 79, \"DRB\": 429, \"REB\": 508, \"AST\": 79, \"STL\": 39, \"BLK\": 40, \"PTS\": 1033, \"birth_year\": 1997.0, \"height_cm\": 213.0, \"weight_kg\": 103.0, \"Pos_enc\": 4, \"Preds\": \"PF\"}, {\"Player\": \"Jarell Martin\", \"Pos\": \"PF\", \"Age\": 23, \"Team\": \"MEM\", \"GP\": 73, \"MIN\": 1660.6, \"FGM\": 221, \"FGA\": 496, \"3PM\": 34, \"3PA\": 98, \"FTM\": 89, \"FTA\": 116, \"TOV\": 86, \"PF\": 211, \"ORB\": 97, \"DRB\": 221, \"REB\": 318, \"AST\": 73, \"STL\": 39, \"BLK\": 49, \"PTS\": 565, \"birth_year\": 1994.0, \"height_cm\": 208.0, \"weight_kg\": 108.0, \"Pos_enc\": 4, \"Preds\": \"PF\"}, {\"Player\": \"Wesley Matthews\", \"Pos\": \"SF\", \"Age\": 31, \"Team\": \"DAL\", \"GP\": 63, \"MIN\": 2131.4, \"FGM\": 283, \"FGA\": 697, \"3PM\": 153, \"3PA\": 402, \"FTM\": 83, \"FTA\": 101, \"TOV\": 83, \"PF\": 140, \"ORB\": 28, \"DRB\": 170, \"REB\": 198, \"AST\": 172, \"STL\": 76, \"BLK\": 16, \"PTS\": 802, \"birth_year\": 1986.0, \"height_cm\": 196.0, \"weight_kg\": 100.0, \"Pos_enc\": 3, \"Preds\": \"SF\"}, {\"Player\": \"Luc Mbah a Moute\", \"Pos\": \"PF\", \"Age\": 31, \"Team\": \"HOU\", \"GP\": 61, \"MIN\": 1564.3, \"FGM\": 166, \"FGA\": 345, \"3PM\": 63, \"3PA\": 173, \"FTM\": 65, \"FTA\": 95, \"TOV\": 69, \"PF\": 100, \"ORB\": 22, \"DRB\": 164, \"REB\": 186, \"AST\": 55, \"STL\": 72, \"BLK\": 25, \"PTS\": 460, \"birth_year\": 1986.0, \"height_cm\": 203.0, \"weight_kg\": 104.0, \"Pos_enc\": 4, \"Preds\": \"PF\"}, {\"Player\": \"Patrick McCaw\", \"Pos\": \"SG\", \"Age\": 22, \"Team\": \"GSW\", \"GP\": 57, \"MIN\": 961.1, \"FGM\": 92, \"FGA\": 225, \"3PM\": 19, \"3PA\": 80, \"FTM\": 26, \"FTA\": 34, \"TOV\": 41, \"PF\": 67, \"ORB\": 16, \"DRB\": 66, \"REB\": 82, \"AST\": 81, \"STL\": 43, \"BLK\": 10, \"PTS\": 229, \"birth_year\": 1995.0, \"height_cm\": 201.0, \"weight_kg\": 84.0, \"Pos_enc\": 2, \"Preds\": \"SG\"}, {\"Player\": \"T.J. McConnell\", \"Pos\": \"PG\", \"Age\": 25, \"Team\": \"PHI\", \"GP\": 76, \"MIN\": 1706.2, \"FGM\": 210, \"FGA\": 421, \"3PM\": 27, \"3PA\": 62, \"FTM\": 31, \"FTA\": 39, \"TOV\": 112, \"PF\": 122, \"ORB\": 37, \"DRB\": 189, \"REB\": 226, \"AST\": 303, \"STL\": 92, \"BLK\": 13, \"PTS\": 478, \"birth_year\": 1992.0, \"height_cm\": 188.0, \"weight_kg\": 86.0, \"Pos_enc\": 1, \"Preds\": \"PG\"}, {\"Player\": \"JaVale McGee\", \"Pos\": \"C\", \"Age\": 30, \"Team\": \"GSW\", \"GP\": 65, \"MIN\": 615.2, \"FGM\": 136, \"FGA\": 219, \"3PM\": 0, \"3PA\": 6, \"FTM\": 38, \"FTA\": 52, \"TOV\": 27, \"PF\": 91, \"ORB\": 59, \"DRB\": 110, \"REB\": 169, \"AST\": 33, \"STL\": 21, \"BLK\": 57, \"PTS\": 310, \"birth_year\": 1988.0, \"height_cm\": 213.0, \"weight_kg\": 122.0, \"Pos_enc\": 5, \"Preds\": \"C\"}, {\"Player\": \"Jodie Meeks\", \"Pos\": \"SG\", \"Age\": 30, \"Team\": \"WAS\", \"GP\": 77, \"MIN\": 1118.7, \"FGM\": 157, \"FGA\": 393, \"3PM\": 72, \"3PA\": 210, \"FTM\": 101, \"FTA\": 117, \"TOV\": 37, \"PF\": 55, \"ORB\": 15, \"DRB\": 111, \"REB\": 126, \"AST\": 70, \"STL\": 29, \"BLK\": 4, \"PTS\": 487, \"birth_year\": 1987.0, \"height_cm\": 193.0, \"weight_kg\": 95.0, \"Pos_enc\": 2, \"Preds\": \"SG\"}, {\"Player\": \"Salah Mejri\", \"Pos\": \"C\", \"Age\": 31, \"Team\": \"DAL\", \"GP\": 61, \"MIN\": 728.9, \"FGM\": 88, \"FGA\": 137, \"3PM\": 0, \"3PA\": 3, \"FTM\": 38, \"FTA\": 66, \"TOV\": 39, \"PF\": 121, \"ORB\": 85, \"DRB\": 161, \"REB\": 246, \"AST\": 35, \"STL\": 22, \"BLK\": 67, \"PTS\": 214, \"birth_year\": 1986.0, \"height_cm\": 218.0, \"weight_kg\": 107.0, \"Pos_enc\": 5, \"Preds\": \"C\"}, {\"Player\": \"Khris Middleton\", \"Pos\": \"SF\", \"Age\": 26, \"Team\": \"MIL\", \"GP\": 82, \"MIN\": 2982.2, \"FGM\": 593, \"FGA\": 1272, \"3PM\": 146, \"3PA\": 407, \"FTM\": 320, \"FTA\": 362, \"TOV\": 191, \"PF\": 270, \"ORB\": 45, \"DRB\": 384, \"REB\": 429, \"AST\": 328, \"STL\": 119, \"BLK\": 21, \"PTS\": 1652, \"birth_year\": 1991.0, \"height_cm\": 203.0, \"weight_kg\": 101.0, \"Pos_enc\": 3, \"Preds\": \"SG\"}, {\"Player\": \"C.J. Miles\", \"Pos\": \"SF\", \"Age\": 30, \"Team\": \"TOR\", \"GP\": 70, \"MIN\": 1336.3, \"FGM\": 227, \"FGA\": 599, \"3PM\": 164, \"3PA\": 454, \"FTM\": 81, \"FTA\": 97, \"TOV\": 39, \"PF\": 134, \"ORB\": 18, \"DRB\": 134, \"REB\": 152, \"AST\": 55, \"STL\": 37, \"BLK\": 21, \"PTS\": 699, \"birth_year\": 1987.0, \"height_cm\": 198.0, \"weight_kg\": 100.0, \"Pos_enc\": 3, \"Preds\": \"SF\"}, {\"Player\": \"Darius Miller\", \"Pos\": \"SF\", \"Age\": 27, \"Team\": \"NOP\", \"GP\": 82, \"MIN\": 1943.7, \"FGM\": 216, \"FGA\": 487, \"3PM\": 147, \"3PA\": 358, \"FTM\": 58, \"FTA\": 67, \"TOV\": 58, \"PF\": 160, \"ORB\": 18, \"DRB\": 146, \"REB\": 164, \"AST\": 111, \"STL\": 28, \"BLK\": 17, \"PTS\": 637, \"birth_year\": 1990.0, \"height_cm\": 203.0, \"weight_kg\": 102.0, \"Pos_enc\": 3, \"Preds\": \"SF\"}, {\"Player\": \"Patty Mills\", \"Pos\": \"PG\", \"Age\": 29, \"Team\": \"SAS\", \"GP\": 82, \"MIN\": 2107.3, \"FGM\": 280, \"FGA\": 682, \"3PM\": 154, \"3PA\": 414, \"FTM\": 105, \"FTA\": 118, \"TOV\": 106, \"PF\": 128, \"ORB\": 26, \"DRB\": 128, \"REB\": 154, \"AST\": 229, \"STL\": 55, \"BLK\": 11, \"PTS\": 819, \"birth_year\": 1988.0, \"height_cm\": 183.0, \"weight_kg\": 82.0, \"Pos_enc\": 1, \"Preds\": \"SG\"}, {\"Player\": \"Donovan Mitchell\", \"Pos\": \"SG\", \"Age\": 21, \"Team\": \"UTA\", \"GP\": 79, \"MIN\": 2638.1, \"FGM\": 595, \"FGA\": 1362, \"3PM\": 187, \"3PA\": 550, \"FTM\": 239, \"FTA\": 297, \"TOV\": 215, \"PF\": 213, \"ORB\": 52, \"DRB\": 244, \"REB\": 296, \"AST\": 291, \"STL\": 118, \"BLK\": 27, \"PTS\": 1616, \"birth_year\": 1996.0, \"height_cm\": 191.0, \"weight_kg\": 98.0, \"Pos_enc\": 2, \"Preds\": \"SG\"}, {\"Player\": \"E'Twaun Moore\", \"Pos\": \"SG\", \"Age\": 28, \"Team\": \"NOP\", \"GP\": 82, \"MIN\": 2585.5, \"FGM\": 423, \"FGA\": 832, \"3PM\": 128, \"3PA\": 301, \"FTM\": 48, \"FTA\": 68, \"TOV\": 102, \"PF\": 182, \"ORB\": 57, \"DRB\": 181, \"REB\": 238, \"AST\": 187, \"STL\": 79, \"BLK\": 12, \"PTS\": 1022, \"birth_year\": 1989.0, \"height_cm\": 193.0, \"weight_kg\": 87.0, \"Pos_enc\": 2, \"Preds\": \"SG\"}, {\"Player\": \"Eric Moreland\", \"Pos\": \"PF\", \"Age\": 26, \"Team\": \"DET\", \"GP\": 67, \"MIN\": 805.0, \"FGM\": 66, \"FGA\": 122, \"3PM\": 0, \"3PA\": 0, \"FTM\": 11, \"FTA\": 29, \"TOV\": 42, \"PF\": 116, \"ORB\": 81, \"DRB\": 197, \"REB\": 278, \"AST\": 78, \"STL\": 31, \"BLK\": 51, \"PTS\": 143, \"birth_year\": 1991.0, \"height_cm\": 208.0, \"weight_kg\": 109.0, \"Pos_enc\": 4, \"Preds\": \"C\"}, {\"Player\": \"Marcus Morris\", \"Pos\": \"PF\", \"Age\": 28, \"Team\": \"BOS\", \"GP\": 54, \"MIN\": 1447.1, \"FGM\": 262, \"FGA\": 611, \"3PM\": 86, \"3PA\": 234, \"FTM\": 124, \"FTA\": 154, \"TOV\": 65, \"PF\": 100, \"ORB\": 43, \"DRB\": 246, \"REB\": 289, \"AST\": 72, \"STL\": 35, \"BLK\": 12, \"PTS\": 734, \"birth_year\": 1989.0, \"height_cm\": 206.0, \"weight_kg\": 107.0, \"Pos_enc\": 4, \"Preds\": \"PF\"}, {\"Player\": \"Markieff Morris\", \"Pos\": \"PF\", \"Age\": 28, \"Team\": \"WAS\", \"GP\": 73, \"MIN\": 1967.9, \"FGM\": 330, \"FGA\": 687, \"3PM\": 76, \"3PA\": 207, \"FTM\": 105, \"FTA\": 128, \"TOV\": 127, \"PF\": 216, \"ORB\": 75, \"DRB\": 334, \"REB\": 409, \"AST\": 142, \"STL\": 56, \"BLK\": 38, \"PTS\": 841, \"birth_year\": 1989.0, \"height_cm\": 208.0, \"weight_kg\": 111.0, \"Pos_enc\": 4, \"Preds\": \"PF\"}, {\"Player\": \"Dejounte Murray\", \"Pos\": \"PG\", \"Age\": 21, \"Team\": \"SAS\", \"GP\": 81, \"MIN\": 1743.0, \"FGM\": 270, \"FGA\": 609, \"3PM\": 9, \"3PA\": 34, \"FTM\": 105, \"FTA\": 148, \"TOV\": 134, \"PF\": 151, \"ORB\": 110, \"DRB\": 349, \"REB\": 459, \"AST\": 231, \"STL\": 97, \"BLK\": 31, \"PTS\": 654, \"birth_year\": 1996.0, \"height_cm\": 196.0, \"weight_kg\": 79.0, \"Pos_enc\": 1, \"Preds\": \"C\"}, {\"Player\": \"Jamal Murray\", \"Pos\": \"PG\", \"Age\": 20, \"Team\": \"DEN\", \"GP\": 81, \"MIN\": 2564.9, \"FGM\": 479, \"FGA\": 1062, \"3PM\": 165, \"3PA\": 436, \"FTM\": 229, \"FTA\": 253, \"TOV\": 172, \"PF\": 173, \"ORB\": 82, \"DRB\": 215, \"REB\": 297, \"AST\": 274, \"STL\": 79, \"BLK\": 28, \"PTS\": 1352, \"birth_year\": 1997.0, \"height_cm\": 193.0, \"weight_kg\": 94.0, \"Pos_enc\": 1, \"Preds\": \"PG\"}, {\"Player\": \"Abdel Nader\", \"Pos\": \"SF\", \"Age\": 24, \"Team\": \"BOS\", \"GP\": 48, \"MIN\": 521.5, \"FGM\": 50, \"FGA\": 149, \"3PM\": 23, \"3PA\": 65, \"FTM\": 23, \"FTA\": 39, \"TOV\": 34, \"PF\": 45, \"ORB\": 13, \"DRB\": 58, \"REB\": 71, \"AST\": 26, \"STL\": 15, \"BLK\": 10, \"PTS\": 146, \"birth_year\": 1993.0, \"height_cm\": 198.0, \"weight_kg\": 102.0, \"Pos_enc\": 3, \"Preds\": \"SG\"}, {\"Player\": \"Shabazz Napier\", \"Pos\": \"PG\", \"Age\": 26, \"Team\": \"POR\", \"GP\": 74, \"MIN\": 1535.3, \"FGM\": 223, \"FGA\": 531, \"3PM\": 82, \"3PA\": 218, \"FTM\": 116, \"FTA\": 138, \"TOV\": 90, \"PF\": 84, \"ORB\": 26, \"DRB\": 144, \"REB\": 170, \"AST\": 150, \"STL\": 81, \"BLK\": 14, \"PTS\": 644, \"birth_year\": 1991.0, \"height_cm\": 185.0, \"weight_kg\": 82.0, \"Pos_enc\": 1, \"Preds\": \"PG\"}, {\"Player\": \"Dirk Nowitzki\", \"Pos\": \"C\", \"Age\": 39, \"Team\": \"DAL\", \"GP\": 77, \"MIN\": 1900.4, \"FGM\": 346, \"FGA\": 758, \"3PM\": 138, \"3PA\": 337, \"FTM\": 97, \"FTA\": 108, \"TOV\": 51, \"PF\": 146, \"ORB\": 22, \"DRB\": 416, \"REB\": 438, \"AST\": 120, \"STL\": 43, \"BLK\": 45, \"PTS\": 927, \"birth_year\": 1978.0, \"height_cm\": 213.0, \"weight_kg\": 111.0, \"Pos_enc\": 5, \"Preds\": \"PF\"}, {\"Player\": \"Frank Ntilikina\", \"Pos\": \"PG\", \"Age\": 19, \"Team\": \"NYK\", \"GP\": 78, \"MIN\": 1705.3, \"FGM\": 182, \"FGA\": 500, \"3PM\": 50, \"3PA\": 157, \"FTM\": 49, \"FTA\": 68, \"TOV\": 131, \"PF\": 181, \"ORB\": 37, \"DRB\": 140, \"REB\": 177, \"AST\": 250, \"STL\": 65, \"BLK\": 18, \"PTS\": 463, \"birth_year\": 1998.0, \"height_cm\": 198.0, \"weight_kg\": 91.0, \"Pos_enc\": 1, \"Preds\": \"PG\"}, {\"Player\": \"Jusuf Nurkic\", \"Pos\": \"C\", \"Age\": 23, \"Team\": \"POR\", \"GP\": 79, \"MIN\": 2088.3, \"FGM\": 480, \"FGA\": 951, \"3PM\": 0, \"3PA\": 7, \"FTM\": 172, \"FTA\": 273, \"TOV\": 183, \"PF\": 247, \"ORB\": 189, \"DRB\": 519, \"REB\": 708, \"AST\": 143, \"STL\": 64, \"BLK\": 111, \"PTS\": 1132, \"birth_year\": 1994.0, \"height_cm\": 213.0, \"weight_kg\": 132.0, \"Pos_enc\": 5, \"Preds\": \"C\"}, {\"Player\": \"David Nwaba\", \"Pos\": \"SG\", \"Age\": 25, \"Team\": \"CHI\", \"GP\": 70, \"MIN\": 1645.8, \"FGM\": 202, \"FGA\": 423, \"3PM\": 18, \"3PA\": 52, \"FTM\": 133, \"FTA\": 203, \"TOV\": 77, \"PF\": 158, \"ORB\": 89, \"DRB\": 237, \"REB\": 326, \"AST\": 104, \"STL\": 59, \"BLK\": 29, \"PTS\": 555, \"birth_year\": 1993.0, \"height_cm\": 193.0, \"weight_kg\": 99.0, \"Pos_enc\": 2, \"Preds\": \"C\"}, {\"Player\": \"Royce O'Neale\", \"Pos\": \"SF\", \"Age\": 24, \"Team\": \"UTA\", \"GP\": 69, \"MIN\": 1149.5, \"FGM\": 120, \"FGA\": 284, \"3PM\": 42, \"3PA\": 118, \"FTM\": 61, \"FTA\": 76, \"TOV\": 55, \"PF\": 105, \"ORB\": 25, \"DRB\": 211, \"REB\": 236, \"AST\": 95, \"STL\": 36, \"BLK\": 16, \"PTS\": 343, \"birth_year\": 1993.0, \"height_cm\": 198.0, \"weight_kg\": 103.0, \"Pos_enc\": 3, \"Preds\": \"PF\"}, {\"Player\": \"Kyle O'Quinn\", \"Pos\": \"C\", \"Age\": 27, \"Team\": \"NYK\", \"GP\": 77, \"MIN\": 1386.6, \"FGM\": 224, \"FGA\": 384, \"3PM\": 4, \"3PA\": 17, \"FTM\": 98, \"FTA\": 127, \"TOV\": 100, \"PF\": 192, \"ORB\": 121, \"DRB\": 349, \"REB\": 470, \"AST\": 158, \"STL\": 36, \"BLK\": 98, \"PTS\": 550, \"birth_year\": 1990.0, \"height_cm\": 208.0, \"weight_kg\": 113.0, \"Pos_enc\": 5, \"Preds\": \"C\"}, {\"Player\": \"Semi Ojeleye\", \"Pos\": \"PF\", \"Age\": 23, \"Team\": \"BOS\", \"GP\": 73, \"MIN\": 1150.1, \"FGM\": 65, \"FGA\": 188, \"3PM\": 40, \"3PA\": 125, \"FTM\": 25, \"FTA\": 41, \"TOV\": 25, \"PF\": 91, \"ORB\": 37, \"DRB\": 124, \"REB\": 161, \"AST\": 20, \"STL\": 21, \"BLK\": 4, \"PTS\": 195, \"birth_year\": 1994.0, \"height_cm\": 201.0, \"weight_kg\": 109.0, \"Pos_enc\": 4, \"Preds\": \"PF\"}, {\"Player\": \"Victor Oladipo\", \"Pos\": \"SG\", \"Age\": 25, \"Team\": \"IND\", \"GP\": 75, \"MIN\": 2552.2, \"FGM\": 640, \"FGA\": 1342, \"3PM\": 161, \"3PA\": 434, \"FTM\": 294, \"FTA\": 368, \"TOV\": 219, \"PF\": 175, \"ORB\": 47, \"DRB\": 343, \"REB\": 390, \"AST\": 323, \"STL\": 177, \"BLK\": 57, \"PTS\": 1735, \"birth_year\": 1992.0, \"height_cm\": 193.0, \"weight_kg\": 95.0, \"Pos_enc\": 2, \"Preds\": \"SG\"}, {\"Player\": \"Kelly Olynyk\", \"Pos\": \"PF\", \"Age\": 26, \"Team\": \"MIA\", \"GP\": 76, \"MIN\": 1778.9, \"FGM\": 316, \"FGA\": 636, \"3PM\": 106, \"3PA\": 280, \"FTM\": 134, \"FTA\": 174, \"TOV\": 147, \"PF\": 222, \"ORB\": 89, \"DRB\": 342, \"REB\": 431, \"AST\": 207, \"STL\": 62, \"BLK\": 35, \"PTS\": 872, \"birth_year\": 1991.0, \"height_cm\": 213.0, \"weight_kg\": 109.0, \"Pos_enc\": 4, \"Preds\": \"PF\"}, {\"Player\": \"Cedi Osman\", \"Pos\": \"SF\", \"Age\": 22, \"Team\": \"CLE\", \"GP\": 61, \"MIN\": 672.3, \"FGM\": 90, \"FGA\": 186, \"3PM\": 32, \"3PA\": 87, \"FTM\": 26, \"FTA\": 46, \"TOV\": 32, \"PF\": 78, \"ORB\": 19, \"DRB\": 101, \"REB\": 120, \"AST\": 41, \"STL\": 22, \"BLK\": 3, \"PTS\": 238, \"birth_year\": 1995.0, \"height_cm\": 203.0, \"weight_kg\": 98.0, \"Pos_enc\": 3, \"Preds\": \"SG\"}, {\"Player\": \"Zaza Pachulia\", \"Pos\": \"C\", \"Age\": 33, \"Team\": \"GSW\", \"GP\": 69, \"MIN\": 971.8, \"FGM\": 149, \"FGA\": 264, \"3PM\": 0, \"3PA\": 1, \"FTM\": 75, \"FTA\": 93, \"TOV\": 72, \"PF\": 122, \"ORB\": 89, \"DRB\": 232, \"REB\": 321, \"AST\": 109, \"STL\": 38, \"BLK\": 17, \"PTS\": 373, \"birth_year\": 1984.0, \"height_cm\": 211.0, \"weight_kg\": 122.0, \"Pos_enc\": 5, \"Preds\": \"C\"}, {\"Player\": \"Tony Parker\", \"Pos\": \"PG\", \"Age\": 35, \"Team\": \"SAS\", \"GP\": 55, \"MIN\": 1070.9, \"FGM\": 178, \"FGA\": 388, \"3PM\": 10, \"3PA\": 37, \"FTM\": 55, \"FTA\": 78, \"TOV\": 68, \"PF\": 52, \"ORB\": 7, \"DRB\": 88, \"REB\": 95, \"AST\": 195, \"STL\": 28, \"BLK\": 1, \"PTS\": 421, \"birth_year\": 1982.0, \"height_cm\": 188.0, \"weight_kg\": 84.0, \"Pos_enc\": 1, \"Preds\": \"PG\"}, {\"Player\": \"Patrick Patterson\", \"Pos\": \"PF\", \"Age\": 28, \"Team\": \"OKC\", \"GP\": 82, \"MIN\": 1269.8, \"FGM\": 106, \"FGA\": 266, \"3PM\": 66, \"3PA\": 171, \"FTM\": 40, \"FTA\": 46, \"TOV\": 33, \"PF\": 87, \"ORB\": 32, \"DRB\": 161, \"REB\": 193, \"AST\": 57, \"STL\": 48, \"BLK\": 23, \"PTS\": 318, \"birth_year\": 1989.0, \"height_cm\": 206.0, \"weight_kg\": 104.0, \"Pos_enc\": 4, \"Preds\": \"PF\"}, {\"Player\": \"Brandon Paul\", \"Pos\": \"SG\", \"Age\": 26, \"Team\": \"SAS\", \"GP\": 64, \"MIN\": 576.0, \"FGM\": 55, \"FGA\": 127, \"3PM\": 15, \"3PA\": 54, \"FTM\": 22, \"FTA\": 43, \"TOV\": 29, \"PF\": 58, \"ORB\": 6, \"DRB\": 62, \"REB\": 68, \"AST\": 37, \"STL\": 25, \"BLK\": 7, \"PTS\": 147, \"birth_year\": 1991.0, \"height_cm\": 193.0, \"weight_kg\": 91.0, \"Pos_enc\": 2, \"Preds\": \"SG\"}, {\"Player\": \"Chris Paul\", \"Pos\": \"PG\", \"Age\": 32, \"Team\": \"HOU\", \"GP\": 58, \"MIN\": 1846.6, \"FGM\": 367, \"FGA\": 798, \"3PM\": 144, \"3PA\": 379, \"FTM\": 203, \"FTA\": 221, \"TOV\": 128, \"PF\": 141, \"ORB\": 37, \"DRB\": 276, \"REB\": 313, \"AST\": 457, \"STL\": 96, \"BLK\": 14, \"PTS\": 1081, \"birth_year\": 1985.0, \"height_cm\": 183.0, \"weight_kg\": 79.0, \"Pos_enc\": 1, \"Preds\": \"PG\"}, {\"Player\": \"Mason Plumlee\", \"Pos\": \"C\", \"Age\": 27, \"Team\": \"DEN\", \"GP\": 74, \"MIN\": 1441.3, \"FGM\": 221, \"FGA\": 368, \"3PM\": 0, \"3PA\": 1, \"FTM\": 82, \"FTA\": 179, \"TOV\": 103, \"PF\": 184, \"ORB\": 132, \"DRB\": 268, \"REB\": 400, \"AST\": 142, \"STL\": 49, \"BLK\": 81, \"PTS\": 524, \"birth_year\": 1990.0, \"height_cm\": 211.0, \"weight_kg\": 107.0, \"Pos_enc\": 5, \"Preds\": \"C\"}, {\"Player\": \"Jakob Poeltl\", \"Pos\": \"C\", \"Age\": 22, \"Team\": \"TOR\", \"GP\": 82, \"MIN\": 1523.5, \"FGM\": 253, \"FGA\": 384, \"3PM\": 1, \"3PA\": 2, \"FTM\": 60, \"FTA\": 101, \"TOV\": 85, \"PF\": 212, \"ORB\": 165, \"DRB\": 228, \"REB\": 393, \"AST\": 57, \"STL\": 39, \"BLK\": 100, \"PTS\": 567, \"birth_year\": 1995.0, \"height_cm\": 213.0, \"weight_kg\": 109.0, \"Pos_enc\": 5, \"Preds\": \"C\"}, {\"Player\": \"Otto Porter\", \"Pos\": \"SF\", \"Age\": 24, \"Team\": \"WAS\", \"GP\": 77, \"MIN\": 2431.6, \"FGM\": 445, \"FGA\": 885, \"3PM\": 138, \"3PA\": 313, \"FTM\": 106, \"FTA\": 128, \"TOV\": 75, \"PF\": 151, \"ORB\": 103, \"DRB\": 389, \"REB\": 492, \"AST\": 157, \"STL\": 116, \"BLK\": 41, \"PTS\": 1134, \"birth_year\": 1993.0, \"height_cm\": 203.0, \"weight_kg\": 90.0, \"Pos_enc\": 3, \"Preds\": \"PF\"}, {\"Player\": \"Bobby Portis\", \"Pos\": \"PF\", \"Age\": 22, \"Team\": \"CHI\", \"GP\": 73, \"MIN\": 1642.4, \"FGM\": 382, \"FGA\": 811, \"3PM\": 80, \"3PA\": 223, \"FTM\": 120, \"FTA\": 156, \"TOV\": 103, \"PF\": 130, \"ORB\": 159, \"DRB\": 339, \"REB\": 498, \"AST\": 123, \"STL\": 50, \"BLK\": 23, \"PTS\": 964, \"birth_year\": 1995.0, \"height_cm\": 211.0, \"weight_kg\": 113.0, \"Pos_enc\": 4, \"Preds\": \"PF\"}, {\"Player\": \"Dwight Powell\", \"Pos\": \"C\", \"Age\": 26, \"Team\": \"DAL\", \"GP\": 79, \"MIN\": 1671.6, \"FGM\": 255, \"FGA\": 430, \"3PM\": 28, \"3PA\": 84, \"FTM\": 133, \"FTA\": 185, \"TOV\": 59, \"PF\": 186, \"ORB\": 135, \"DRB\": 309, \"REB\": 444, \"AST\": 91, \"STL\": 67, \"BLK\": 32, \"PTS\": 671, \"birth_year\": 1991.0, \"height_cm\": 211.0, \"weight_kg\": 109.0, \"Pos_enc\": 5, \"Preds\": \"C\"}, {\"Player\": \"Norman Powell\", \"Pos\": \"SG\", \"Age\": 24, \"Team\": \"TOR\", \"GP\": 70, \"MIN\": 1061.5, \"FGM\": 150, \"FGA\": 374, \"3PM\": 53, \"3PA\": 186, \"FTM\": 32, \"FTA\": 39, \"TOV\": 66, \"PF\": 111, \"ORB\": 14, \"DRB\": 105, \"REB\": 119, \"AST\": 89, \"STL\": 37, \"BLK\": 16, \"PTS\": 385, \"birth_year\": 1993.0, \"height_cm\": 193.0, \"weight_kg\": 98.0, \"Pos_enc\": 2, \"Preds\": \"SG\"}, {\"Player\": \"Julius Randle\", \"Pos\": \"C\", \"Age\": 23, \"Team\": \"LAL\", \"GP\": 82, \"MIN\": 2190.5, \"FGM\": 504, \"FGA\": 904, \"3PM\": 10, \"3PA\": 45, \"FTM\": 305, \"FTA\": 425, \"TOV\": 213, \"PF\": 274, \"ORB\": 181, \"DRB\": 473, \"REB\": 654, \"AST\": 210, \"STL\": 43, \"BLK\": 45, \"PTS\": 1323, \"birth_year\": 1994.0, \"height_cm\": 206.0, \"weight_kg\": 113.0, \"Pos_enc\": 5, \"Preds\": \"C\"}, {\"Player\": \"Zach Randolph\", \"Pos\": \"PF\", \"Age\": 36, \"Team\": \"SAC\", \"GP\": 59, \"MIN\": 1507.7, \"FGM\": 361, \"FGA\": 763, \"3PM\": 51, \"3PA\": 147, \"FTM\": 84, \"FTA\": 107, \"TOV\": 116, \"PF\": 119, \"ORB\": 97, \"DRB\": 300, \"REB\": 397, \"AST\": 127, \"STL\": 42, \"BLK\": 10, \"PTS\": 857, \"birth_year\": 1981.0, \"height_cm\": 206.0, \"weight_kg\": 118.0, \"Pos_enc\": 4, \"Preds\": \"PF\"}, {\"Player\": \"J.J. Redick\", \"Pos\": \"SG\", \"Age\": 33, \"Team\": \"PHI\", \"GP\": 70, \"MIN\": 2115.8, \"FGM\": 404, \"FGA\": 879, \"3PM\": 193, \"3PA\": 460, \"FTM\": 197, \"FTA\": 218, \"TOV\": 103, \"PF\": 123, \"ORB\": 9, \"DRB\": 169, \"REB\": 178, \"AST\": 210, \"STL\": 35, \"BLK\": 6, \"PTS\": 1198, \"birth_year\": 1984.0, \"height_cm\": 193.0, \"weight_kg\": 91.0, \"Pos_enc\": 2, \"Preds\": \"PG\"}, {\"Player\": \"Josh Richardson\", \"Pos\": \"SF\", \"Age\": 24, \"Team\": \"MIA\", \"GP\": 81, \"MIN\": 2689.4, \"FGM\": 399, \"FGA\": 885, \"3PM\": 127, \"3PA\": 336, \"FTM\": 120, \"FTA\": 142, \"TOV\": 140, \"PF\": 199, \"ORB\": 69, \"DRB\": 216, \"REB\": 285, \"AST\": 231, \"STL\": 121, \"BLK\": 75, \"PTS\": 1045, \"birth_year\": 1993.0, \"height_cm\": 198.0, \"weight_kg\": 91.0, \"Pos_enc\": 3, \"Preds\": \"SG\"}, {\"Player\": \"Austin Rivers\", \"Pos\": \"SG\", \"Age\": 25, \"Team\": \"LAC\", \"GP\": 61, \"MIN\": 2056.7, \"FGM\": 341, \"FGA\": 805, \"3PM\": 136, \"3PA\": 360, \"FTM\": 102, \"FTA\": 159, \"TOV\": 109, \"PF\": 152, \"ORB\": 27, \"DRB\": 118, \"REB\": 145, \"AST\": 242, \"STL\": 74, \"BLK\": 16, \"PTS\": 920, \"birth_year\": 1992.0, \"height_cm\": 193.0, \"weight_kg\": 91.0, \"Pos_enc\": 2, \"Preds\": \"SG\"}, {\"Player\": \"Rajon Rondo\", \"Pos\": \"PG\", \"Age\": 31, \"Team\": \"NOP\", \"GP\": 65, \"MIN\": 1705.0, \"FGM\": 231, \"FGA\": 494, \"3PM\": 50, \"3PA\": 150, \"FTM\": 25, \"FTA\": 46, \"TOV\": 151, \"PF\": 119, \"ORB\": 31, \"DRB\": 232, \"REB\": 263, \"AST\": 533, \"STL\": 70, \"BLK\": 10, \"PTS\": 537, \"birth_year\": 1986.0, \"height_cm\": 185.0, \"weight_kg\": 84.0, \"Pos_enc\": 1, \"Preds\": \"PG\"}, {\"Player\": \"Terry Rozier\", \"Pos\": \"PG\", \"Age\": 23, \"Team\": \"BOS\", \"GP\": 80, \"MIN\": 2068.1, \"FGM\": 316, \"FGA\": 800, \"3PM\": 153, \"3PA\": 402, \"FTM\": 115, \"FTA\": 149, \"TOV\": 80, \"PF\": 123, \"ORB\": 63, \"DRB\": 313, \"REB\": 376, \"AST\": 232, \"STL\": 80, \"BLK\": 19, \"PTS\": 900, \"birth_year\": 1994.0, \"height_cm\": 185.0, \"weight_kg\": 86.0, \"Pos_enc\": 1, \"Preds\": \"SG\"}, {\"Player\": \"Ricky Rubio\", \"Pos\": \"PG\", \"Age\": 27, \"Team\": \"UTA\", \"GP\": 77, \"MIN\": 2254.5, \"FGM\": 346, \"FGA\": 827, \"3PM\": 96, \"3PA\": 273, \"FTM\": 220, \"FTA\": 254, \"TOV\": 207, \"PF\": 206, \"ORB\": 44, \"DRB\": 307, \"REB\": 351, \"AST\": 410, \"STL\": 121, \"BLK\": 11, \"PTS\": 1008, \"birth_year\": 1990.0, \"height_cm\": 193.0, \"weight_kg\": 86.0, \"Pos_enc\": 1, \"Preds\": \"PG\"}, {\"Player\": \"Domantas Sabonis\", \"Pos\": \"C\", \"Age\": 21, \"Team\": \"IND\", \"GP\": 74, \"MIN\": 1811.8, \"FGM\": 340, \"FGA\": 661, \"3PM\": 13, \"3PA\": 37, \"FTM\": 168, \"FTA\": 224, \"TOV\": 137, \"PF\": 220, \"ORB\": 165, \"DRB\": 407, \"REB\": 572, \"AST\": 151, \"STL\": 40, \"BLK\": 32, \"PTS\": 861, \"birth_year\": 1996.0, \"height_cm\": 211.0, \"weight_kg\": 109.0, \"Pos_enc\": 5, \"Preds\": \"C\"}, {\"Player\": \"Dario Saric\", \"Pos\": \"PF\", \"Age\": 23, \"Team\": \"PHI\", \"GP\": 78, \"MIN\": 2310.0, \"FGM\": 403, \"FGA\": 890, \"3PM\": 157, \"3PA\": 399, \"FTM\": 178, \"FTA\": 207, \"TOV\": 148, \"PF\": 160, \"ORB\": 154, \"DRB\": 366, \"REB\": 520, \"AST\": 202, \"STL\": 51, \"BLK\": 20, \"PTS\": 1141, \"birth_year\": 1994.0, \"height_cm\": 208.0, \"weight_kg\": 113.0, \"Pos_enc\": 4, \"Preds\": \"PF\"}, {\"Player\": \"Tomas Satoransky\", \"Pos\": \"SG\", \"Age\": 26, \"Team\": \"WAS\", \"GP\": 73, \"MIN\": 1642.6, \"FGM\": 201, \"FGA\": 384, \"3PM\": 47, \"3PA\": 101, \"FTM\": 75, \"FTA\": 96, \"TOV\": 83, \"PF\": 131, \"ORB\": 72, \"DRB\": 161, \"REB\": 233, \"AST\": 286, \"STL\": 52, \"BLK\": 15, \"PTS\": 524, \"birth_year\": 1991.0, \"height_cm\": 201.0, \"weight_kg\": 95.0, \"Pos_enc\": 2, \"Preds\": \"PG\"}, {\"Player\": \"Dennis Schroder\", \"Pos\": \"PG\", \"Age\": 24, \"Team\": \"ATL\", \"GP\": 67, \"MIN\": 2078.0, \"FGM\": 500, \"FGA\": 1146, \"3PM\": 76, \"3PA\": 262, \"FTM\": 225, \"FTA\": 265, \"TOV\": 183, \"PF\": 147, \"ORB\": 44, \"DRB\": 164, \"REB\": 208, \"AST\": 417, \"STL\": 72, \"BLK\": 6, \"PTS\": 1301, \"birth_year\": 1993.0, \"height_cm\": 185.0, \"weight_kg\": 78.0, \"Pos_enc\": 1, \"Preds\": \"PG\"}, {\"Player\": \"Mike Scott\", \"Pos\": \"PF\", \"Age\": 29, \"Team\": \"WAS\", \"GP\": 76, \"MIN\": 1406.2, \"FGM\": 276, \"FGA\": 524, \"3PM\": 66, \"3PA\": 163, \"FTM\": 50, \"FTA\": 76, \"TOV\": 79, \"PF\": 148, \"ORB\": 50, \"DRB\": 197, \"REB\": 247, \"AST\": 80, \"STL\": 23, \"BLK\": 10, \"PTS\": 668, \"birth_year\": 1988.0, \"height_cm\": 203.0, \"weight_kg\": 108.0, \"Pos_enc\": 4, \"Preds\": \"PF\"}, {\"Player\": \"Pascal Siakam\", \"Pos\": \"PF\", \"Age\": 23, \"Team\": \"TOR\", \"GP\": 81, \"MIN\": 1679.2, \"FGM\": 253, \"FGA\": 498, \"3PM\": 29, \"3PA\": 132, \"FTM\": 54, \"FTA\": 87, \"TOV\": 67, \"PF\": 166, \"ORB\": 79, \"DRB\": 285, \"REB\": 364, \"AST\": 159, \"STL\": 62, \"BLK\": 42, \"PTS\": 589, \"birth_year\": 1994.0, \"height_cm\": 206.0, \"weight_kg\": 104.0, \"Pos_enc\": 4, \"Preds\": \"PF\"}, {\"Player\": \"Ben Simmons\", \"Pos\": \"PG\", \"Age\": 21, \"Team\": \"PHI\", \"GP\": 81, \"MIN\": 2731.8, \"FGM\": 544, \"FGA\": 998, \"3PM\": 0, \"3PA\": 11, \"FTM\": 191, \"FTA\": 341, \"TOV\": 278, \"PF\": 211, \"ORB\": 145, \"DRB\": 514, \"REB\": 659, \"AST\": 661, \"STL\": 140, \"BLK\": 70, \"PTS\": 1279, \"birth_year\": 1996.0, \"height_cm\": 208.0, \"weight_kg\": 104.0, \"Pos_enc\": 1, \"Preds\": \"C\"}, {\"Player\": \"Jonathon Simmons\", \"Pos\": \"SG\", \"Age\": 28, \"Team\": \"ORL\", \"GP\": 69, \"MIN\": 2029.4, \"FGM\": 354, \"FGA\": 761, \"3PM\": 69, \"3PA\": 204, \"FTM\": 185, \"FTA\": 241, \"TOV\": 146, \"PF\": 175, \"ORB\": 61, \"DRB\": 178, \"REB\": 239, \"AST\": 171, \"STL\": 58, \"BLK\": 16, \"PTS\": 962, \"birth_year\": 1989.0, \"height_cm\": 198.0, \"weight_kg\": 88.0, \"Pos_enc\": 2, \"Preds\": \"SF\"}, {\"Player\": \"Marcus Smart\", \"Pos\": \"SG\", \"Age\": 23, \"Team\": \"BOS\", \"GP\": 54, \"MIN\": 1613.6, \"FGM\": 189, \"FGA\": 515, \"3PM\": 75, \"3PA\": 249, \"FTM\": 97, \"FTA\": 133, \"TOV\": 129, \"PF\": 133, \"ORB\": 43, \"DRB\": 146, \"REB\": 189, \"AST\": 259, \"STL\": 71, \"BLK\": 23, \"PTS\": 550, \"birth_year\": 1994.0, \"height_cm\": 193.0, \"weight_kg\": 100.0, \"Pos_enc\": 2, \"Preds\": \"PG\"}, {\"Player\": \"Dennis Smith\", \"Pos\": \"PG\", \"Age\": 20, \"Team\": \"DAL\", \"GP\": 69, \"MIN\": 2049.1, \"FGM\": 404, \"FGA\": 1024, \"3PM\": 106, \"3PA\": 339, \"FTM\": 134, \"FTA\": 193, \"TOV\": 194, \"PF\": 152, \"ORB\": 50, \"DRB\": 210, \"REB\": 260, \"AST\": 358, \"STL\": 71, \"BLK\": 18, \"PTS\": 1048, \"birth_year\": 1997.0, \"height_cm\": 191.0, \"weight_kg\": 89.0, \"Pos_enc\": 1, \"Preds\": \"PG\"}, {\"Player\": \"Ish Smith\", \"Pos\": \"PG\", \"Age\": 29, \"Team\": \"DET\", \"GP\": 82, \"MIN\": 2042.7, \"FGM\": 389, \"FGA\": 801, \"3PM\": 35, \"3PA\": 101, \"FTM\": 81, \"FTA\": 116, \"TOV\": 108, \"PF\": 140, \"ORB\": 27, \"DRB\": 197, \"REB\": 224, \"AST\": 360, \"STL\": 64, \"BLK\": 20, \"PTS\": 894, \"birth_year\": 1988.0, \"height_cm\": 183.0, \"weight_kg\": 79.0, \"Pos_enc\": 1, \"Preds\": \"PG\"}, {\"Player\": \"J.R. Smith\", \"Pos\": \"SG\", \"Age\": 32, \"Team\": \"CLE\", \"GP\": 80, \"MIN\": 2244.1, \"FGM\": 240, \"FGA\": 595, \"3PM\": 143, \"3PA\": 381, \"FTM\": 39, \"FTA\": 56, \"TOV\": 81, \"PF\": 161, \"ORB\": 29, \"DRB\": 206, \"REB\": 235, \"AST\": 141, \"STL\": 68, \"BLK\": 11, \"PTS\": 662, \"birth_year\": 1985.0, \"height_cm\": 198.0, \"weight_kg\": 102.0, \"Pos_enc\": 2, \"Preds\": \"SG\"}, {\"Player\": \"Tony Snell\", \"Pos\": \"SG\", \"Age\": 26, \"Team\": \"MIL\", \"GP\": 75, \"MIN\": 2053.3, \"FGM\": 185, \"FGA\": 425, \"3PM\": 108, \"3PA\": 268, \"FTM\": 38, \"FTA\": 48, \"TOV\": 36, \"PF\": 115, \"ORB\": 9, \"DRB\": 132, \"REB\": 141, \"AST\": 98, \"STL\": 47, \"BLK\": 28, \"PTS\": 516, \"birth_year\": 1991.0, \"height_cm\": 201.0, \"weight_kg\": 97.0, \"Pos_enc\": 2, \"Preds\": \"SG\"}, {\"Player\": \"Lance Stephenson\", \"Pos\": \"SG\", \"Age\": 27, \"Team\": \"IND\", \"GP\": 82, \"MIN\": 1849.9, \"FGM\": 303, \"FGA\": 709, \"3PM\": 67, \"3PA\": 232, \"FTM\": 84, \"FTA\": 127, \"TOV\": 131, \"PF\": 177, \"ORB\": 62, \"DRB\": 362, \"REB\": 424, \"AST\": 235, \"STL\": 46, \"BLK\": 17, \"PTS\": 757, \"birth_year\": 1990.0, \"height_cm\": 198.0, \"weight_kg\": 104.0, \"Pos_enc\": 2, \"Preds\": \"PF\"}, {\"Player\": \"Jayson Tatum\", \"Pos\": \"SF\", \"Age\": 19, \"Team\": \"BOS\", \"GP\": 80, \"MIN\": 2437.8, \"FGM\": 397, \"FGA\": 835, \"3PM\": 105, \"3PA\": 242, \"FTM\": 213, \"FTA\": 258, \"TOV\": 114, \"PF\": 170, \"ORB\": 50, \"DRB\": 352, \"REB\": 402, \"AST\": 128, \"STL\": 83, \"BLK\": 58, \"PTS\": 1112, \"birth_year\": 1998.0, \"height_cm\": 203.0, \"weight_kg\": 94.0, \"Pos_enc\": 3, \"Preds\": \"SF\"}, {\"Player\": \"Isaiah Taylor\", \"Pos\": \"PG\", \"Age\": 23, \"Team\": \"ATL\", \"GP\": 67, \"MIN\": 1167.0, \"FGM\": 163, \"FGA\": 390, \"3PM\": 20, \"3PA\": 80, \"FTM\": 99, \"FTA\": 141, \"TOV\": 84, \"PF\": 116, \"ORB\": 22, \"DRB\": 72, \"REB\": 94, \"AST\": 206, \"STL\": 34, \"BLK\": 10, \"PTS\": 445, \"birth_year\": 1994.0, \"height_cm\": 191.0, \"weight_kg\": 77.0, \"Pos_enc\": 1, \"Preds\": \"PG\"}, {\"Player\": \"Jeff Teague\", \"Pos\": \"PG\", \"Age\": 29, \"Team\": \"MIN\", \"GP\": 70, \"MIN\": 2311.3, \"FGM\": 354, \"FGA\": 794, \"3PM\": 84, \"3PA\": 228, \"FTM\": 202, \"FTA\": 239, \"TOV\": 177, \"PF\": 171, \"ORB\": 24, \"DRB\": 185, \"REB\": 209, \"AST\": 492, \"STL\": 102, \"BLK\": 23, \"PTS\": 994, \"birth_year\": 1988.0, \"height_cm\": 188.0, \"weight_kg\": 88.0, \"Pos_enc\": 1, \"Preds\": \"PG\"}, {\"Player\": \"Garrett Temple\", \"Pos\": \"SG\", \"Age\": 31, \"Team\": \"SAC\", \"GP\": 65, \"MIN\": 1614.9, \"FGM\": 199, \"FGA\": 476, \"3PM\": 89, \"3PA\": 227, \"FTM\": 60, \"FTA\": 78, \"TOV\": 79, \"PF\": 135, \"ORB\": 22, \"DRB\": 130, \"REB\": 152, \"AST\": 124, \"STL\": 57, \"BLK\": 27, \"PTS\": 547, \"birth_year\": 1986.0, \"height_cm\": 198.0, \"weight_kg\": 88.0, \"Pos_enc\": 2, \"Preds\": \"SG\"}, {\"Player\": \"Daniel Theis\", \"Pos\": \"C\", \"Age\": 25, \"Team\": \"BOS\", \"GP\": 63, \"MIN\": 935.7, \"FGM\": 126, \"FGA\": 233, \"3PM\": 18, \"3PA\": 58, \"FTM\": 61, \"FTA\": 81, \"TOV\": 56, \"PF\": 157, \"ORB\": 90, \"DRB\": 184, \"REB\": 274, \"AST\": 56, \"STL\": 30, \"BLK\": 48, \"PTS\": 331, \"birth_year\": 1992.0, \"height_cm\": 203.0, \"weight_kg\": 110.0, \"Pos_enc\": 5, \"Preds\": \"C\"}, {\"Player\": \"Lance Thomas\", \"Pos\": \"PF\", \"Age\": 29, \"Team\": \"NYK\", \"GP\": 73, \"MIN\": 1353.2, \"FGM\": 102, \"FGA\": 267, \"3PM\": 50, \"3PA\": 124, \"FTM\": 44, \"FTA\": 53, \"TOV\": 41, \"PF\": 134, \"ORB\": 44, \"DRB\": 131, \"REB\": 175, \"AST\": 44, \"STL\": 30, \"BLK\": 14, \"PTS\": 298, \"birth_year\": 1988.0, \"height_cm\": 203.0, \"weight_kg\": 109.0, \"Pos_enc\": 4, \"Preds\": \"PF\"}, {\"Player\": \"Klay Thompson\", \"Pos\": \"SG\", \"Age\": 27, \"Team\": \"GSW\", \"GP\": 73, \"MIN\": 2505.6, \"FGM\": 575, \"FGA\": 1178, \"3PM\": 229, \"3PA\": 520, \"FTM\": 82, \"FTA\": 98, \"TOV\": 128, \"PF\": 117, \"ORB\": 31, \"DRB\": 246, \"REB\": 277, \"AST\": 185, \"STL\": 55, \"BLK\": 34, \"PTS\": 1461, \"birth_year\": 1990.0, \"height_cm\": 201.0, \"weight_kg\": 98.0, \"Pos_enc\": 2, \"Preds\": \"PF\"}, {\"Player\": \"Tristan Thompson\", \"Pos\": \"C\", \"Age\": 26, \"Team\": \"CLE\", \"GP\": 53, \"MIN\": 1072.2, \"FGM\": 132, \"FGA\": 235, \"3PM\": 0, \"3PA\": 0, \"FTM\": 43, \"FTA\": 79, \"TOV\": 36, \"PF\": 102, \"ORB\": 126, \"DRB\": 226, \"REB\": 352, \"AST\": 33, \"STL\": 16, \"BLK\": 17, \"PTS\": 307, \"birth_year\": 1991.0, \"height_cm\": 208.0, \"weight_kg\": 108.0, \"Pos_enc\": 5, \"Preds\": \"C\"}, {\"Player\": \"Sindarius Thornwell\", \"Pos\": \"SG\", \"Age\": 23, \"Team\": \"LAC\", \"GP\": 73, \"MIN\": 1155.7, \"FGM\": 100, \"FGA\": 233, \"3PM\": 23, \"3PA\": 61, \"FTM\": 59, \"FTA\": 88, \"TOV\": 53, \"PF\": 125, \"ORB\": 33, \"DRB\": 107, \"REB\": 140, \"AST\": 67, \"STL\": 48, \"BLK\": 25, \"PTS\": 282, \"birth_year\": 1994.0, \"height_cm\": 196.0, \"weight_kg\": 98.0, \"Pos_enc\": 2, \"Preds\": \"PF\"}, {\"Player\": \"Anthony Tolliver\", \"Pos\": \"PF\", \"Age\": 32, \"Team\": \"DET\", \"GP\": 79, \"MIN\": 1756.9, \"FGM\": 219, \"FGA\": 472, \"3PM\": 159, \"3PA\": 365, \"FTM\": 106, \"FTA\": 133, \"TOV\": 58, \"PF\": 144, \"ORB\": 50, \"DRB\": 191, \"REB\": 241, \"AST\": 90, \"STL\": 32, \"BLK\": 21, \"PTS\": 703, \"birth_year\": 1985.0, \"height_cm\": 203.0, \"weight_kg\": 111.0, \"Pos_enc\": 4, \"Preds\": \"SG\"}, {\"Player\": \"Karl-Anthony Towns\", \"Pos\": \"C\", \"Age\": 22, \"Team\": \"MIN\", \"GP\": 82, \"MIN\": 2918.1, \"FGM\": 639, \"FGA\": 1172, \"3PM\": 120, \"3PA\": 285, \"FTM\": 345, \"FTA\": 402, \"TOV\": 159, \"PF\": 285, \"ORB\": 238, \"DRB\": 774, \"REB\": 1012, \"AST\": 199, \"STL\": 64, \"BLK\": 115, \"PTS\": 1743, \"birth_year\": 1995.0, \"height_cm\": 213.0, \"weight_kg\": 112.0, \"Pos_enc\": 5, \"Preds\": \"PF\"}, {\"Player\": \"P.J. Tucker\", \"Pos\": \"PF\", \"Age\": 32, \"Team\": \"HOU\", \"GP\": 82, \"MIN\": 2281.2, \"FGM\": 172, \"FGA\": 441, \"3PM\": 115, \"3PA\": 310, \"FTM\": 43, \"FTA\": 60, \"TOV\": 74, \"PF\": 205, \"ORB\": 93, \"DRB\": 364, \"REB\": 457, \"AST\": 77, \"STL\": 78, \"BLK\": 26, \"PTS\": 502, \"birth_year\": 1985.0, \"height_cm\": 198.0, \"weight_kg\": 111.0, \"Pos_enc\": 4, \"Preds\": \"PF\"}, {\"Player\": \"Evan Turner\", \"Pos\": \"SF\", \"Age\": 29, \"Team\": \"POR\", \"GP\": 79, \"MIN\": 2033.9, \"FGM\": 258, \"FGA\": 577, \"3PM\": 42, \"3PA\": 132, \"FTM\": 91, \"FTA\": 107, \"TOV\": 99, \"PF\": 163, \"ORB\": 30, \"DRB\": 214, \"REB\": 244, \"AST\": 173, \"STL\": 47, \"BLK\": 29, \"PTS\": 649, \"birth_year\": 1988.0, \"height_cm\": 201.0, \"weight_kg\": 100.0, \"Pos_enc\": 3, \"Preds\": \"PF\"}, {\"Player\": \"Myles Turner\", \"Pos\": \"C\", \"Age\": 21, \"Team\": \"IND\", \"GP\": 65, \"MIN\": 1836.3, \"FGM\": 306, \"FGA\": 639, \"3PM\": 56, \"3PA\": 157, \"FTM\": 160, \"FTA\": 206, \"TOV\": 96, \"PF\": 186, \"ORB\": 93, \"DRB\": 324, \"REB\": 417, \"AST\": 87, \"STL\": 38, \"BLK\": 118, \"PTS\": 828, \"birth_year\": 1996.0, \"height_cm\": 211.0, \"weight_kg\": 113.0, \"Pos_enc\": 5, \"Preds\": \"PF\"}, {\"Player\": \"Ekpe Udoh\", \"Pos\": \"C\", \"Age\": 30, \"Team\": \"UTA\", \"GP\": 63, \"MIN\": 809.5, \"FGM\": 60, \"FGA\": 120, \"3PM\": 0, \"3PA\": 1, \"FTM\": 42, \"FTA\": 56, \"TOV\": 20, \"PF\": 105, \"ORB\": 68, \"DRB\": 82, \"REB\": 150, \"AST\": 53, \"STL\": 43, \"BLK\": 74, \"PTS\": 162, \"birth_year\": 1987.0, \"height_cm\": 208.0, \"weight_kg\": 111.0, \"Pos_enc\": 5, \"Preds\": \"C\"}, {\"Player\": \"Jonas Valanciunas\", \"Pos\": \"C\", \"Age\": 25, \"Team\": \"TOR\", \"GP\": 77, \"MIN\": 1727.3, \"FGM\": 390, \"FGA\": 687, \"3PM\": 30, \"3PA\": 74, \"FTM\": 170, \"FTA\": 211, \"TOV\": 115, \"PF\": 192, \"ORB\": 183, \"DRB\": 477, \"REB\": 660, \"AST\": 81, \"STL\": 29, \"BLK\": 69, \"PTS\": 980, \"birth_year\": 1992.0, \"height_cm\": 213.0, \"weight_kg\": 120.0, \"Pos_enc\": 5, \"Preds\": \"C\"}, {\"Player\": \"Denzel Valentine\", \"Pos\": \"SG\", \"Age\": 24, \"Team\": \"CHI\", \"GP\": 77, \"MIN\": 2095.2, \"FGM\": 301, \"FGA\": 721, \"3PM\": 143, \"3PA\": 370, \"FTM\": 38, \"FTA\": 51, \"TOV\": 99, \"PF\": 185, \"ORB\": 48, \"DRB\": 345, \"REB\": 393, \"AST\": 244, \"STL\": 65, \"BLK\": 11, \"PTS\": 783, \"birth_year\": 1993.0, \"height_cm\": 198.0, \"weight_kg\": 95.0, \"Pos_enc\": 2, \"Preds\": \"SG\"}, {\"Player\": \"Fred VanVleet\", \"Pos\": \"PG\", \"Age\": 23, \"Team\": \"TOR\", \"GP\": 76, \"MIN\": 1519.9, \"FGM\": 232, \"FGA\": 545, \"3PM\": 108, \"3PA\": 261, \"FTM\": 84, \"FTA\": 101, \"TOV\": 74, \"PF\": 130, \"ORB\": 25, \"DRB\": 159, \"REB\": 184, \"AST\": 243, \"STL\": 68, \"BLK\": 19, \"PTS\": 656, \"birth_year\": 1994.0, \"height_cm\": 183.0, \"weight_kg\": 88.0, \"Pos_enc\": 1, \"Preds\": \"PG\"}, {\"Player\": \"David West\", \"Pos\": \"C\", \"Age\": 37, \"Team\": \"GSW\", \"GP\": 73, \"MIN\": 998.7, \"FGM\": 216, \"FGA\": 378, \"3PM\": 3, \"3PA\": 8, \"FTM\": 60, \"FTA\": 79, \"TOV\": 80, \"PF\": 120, \"ORB\": 64, \"DRB\": 174, \"REB\": 238, \"AST\": 138, \"STL\": 47, \"BLK\": 75, \"PTS\": 495, \"birth_year\": 1980.0, \"height_cm\": 206.0, \"weight_kg\": 113.0, \"Pos_enc\": 5, \"Preds\": \"C\"}, {\"Player\": \"Russell Westbrook\", \"Pos\": \"PG\", \"Age\": 29, \"Team\": \"OKC\", \"GP\": 80, \"MIN\": 2913.8, \"FGM\": 757, \"FGA\": 1687, \"3PM\": 97, \"3PA\": 326, \"FTM\": 417, \"FTA\": 566, \"TOV\": 381, \"PF\": 200, \"ORB\": 152, \"DRB\": 652, \"REB\": 804, \"AST\": 820, \"STL\": 147, \"BLK\": 20, \"PTS\": 2028, \"birth_year\": 1988.0, \"height_cm\": 191.0, \"weight_kg\": 91.0, \"Pos_enc\": 1, \"Preds\": \"PF\"}, {\"Player\": \"Hassan Whiteside\", \"Pos\": \"C\", \"Age\": 28, \"Team\": \"MIA\", \"GP\": 54, \"MIN\": 1364.2, \"FGM\": 312, \"FGA\": 578, \"3PM\": 2, \"3PA\": 2, \"FTM\": 128, \"FTA\": 182, \"TOV\": 92, \"PF\": 131, \"ORB\": 174, \"DRB\": 444, \"REB\": 618, \"AST\": 54, \"STL\": 38, \"BLK\": 94, \"PTS\": 754, \"birth_year\": 1989.0, \"height_cm\": 216.0, \"weight_kg\": 120.0, \"Pos_enc\": 5, \"Preds\": \"C\"}, {\"Player\": \"Andrew Wiggins\", \"Pos\": \"SF\", \"Age\": 22, \"Team\": \"MIN\", \"GP\": 82, \"MIN\": 2978.8, \"FGM\": 569, \"FGA\": 1300, \"3PM\": 112, \"3PA\": 338, \"FTM\": 202, \"FTA\": 314, \"TOV\": 138, \"PF\": 163, \"ORB\": 82, \"DRB\": 276, \"REB\": 358, \"AST\": 160, \"STL\": 91, \"BLK\": 51, \"PTS\": 1452, \"birth_year\": 1995.0, \"height_cm\": 203.0, \"weight_kg\": 88.0, \"Pos_enc\": 3, \"Preds\": \"PF\"}, {\"Player\": \"Lou Williams\", \"Pos\": \"SG\", \"Age\": 31, \"Team\": \"LAC\", \"GP\": 79, \"MIN\": 2589.2, \"FGM\": 582, \"FGA\": 1337, \"3PM\": 186, \"3PA\": 518, \"FTM\": 432, \"FTA\": 491, \"TOV\": 234, \"PF\": 106, \"ORB\": 40, \"DRB\": 158, \"REB\": 198, \"AST\": 417, \"STL\": 85, \"BLK\": 19, \"PTS\": 1782, \"birth_year\": 1986.0, \"height_cm\": 185.0, \"weight_kg\": 79.0, \"Pos_enc\": 2, \"Preds\": \"SG\"}, {\"Player\": \"Justise Winslow\", \"Pos\": \"PF\", \"Age\": 21, \"Team\": \"MIA\", \"GP\": 68, \"MIN\": 1680.2, \"FGM\": 207, \"FGA\": 488, \"3PM\": 49, \"3PA\": 129, \"FTM\": 66, \"FTA\": 104, \"TOV\": 77, \"PF\": 140, \"ORB\": 64, \"DRB\": 306, \"REB\": 370, \"AST\": 148, \"STL\": 54, \"BLK\": 33, \"PTS\": 529, \"birth_year\": 1996.0, \"height_cm\": 201.0, \"weight_kg\": 102.0, \"Pos_enc\": 4, \"Preds\": \"PF\"}, {\"Player\": \"Delon Wright\", \"Pos\": \"PG\", \"Age\": 25, \"Team\": \"TOR\", \"GP\": 69, \"MIN\": 1432.7, \"FGM\": 201, \"FGA\": 432, \"3PM\": 56, \"3PA\": 153, \"FTM\": 97, \"FTA\": 117, \"TOV\": 78, \"PF\": 81, \"ORB\": 45, \"DRB\": 153, \"REB\": 198, \"AST\": 200, \"STL\": 72, \"BLK\": 33, \"PTS\": 555, \"birth_year\": 1992.0, \"height_cm\": 196.0, \"weight_kg\": 83.0, \"Pos_enc\": 1, \"Preds\": \"PG\"}, {\"Player\": \"Nick Young\", \"Pos\": \"SG\", \"Age\": 32, \"Team\": \"GSW\", \"GP\": 80, \"MIN\": 1393.1, \"FGM\": 201, \"FGA\": 488, \"3PM\": 123, \"3PA\": 326, \"FTM\": 56, \"FTA\": 65, \"TOV\": 39, \"PF\": 100, \"ORB\": 20, \"DRB\": 105, \"REB\": 125, \"AST\": 36, \"STL\": 38, \"BLK\": 7, \"PTS\": 581, \"birth_year\": 1985.0, \"height_cm\": 201.0, \"weight_kg\": 95.0, \"Pos_enc\": 2, \"Preds\": \"SG\"}, {\"Player\": \"Thaddeus Young\", \"Pos\": \"PF\", \"Age\": 29, \"Team\": \"IND\", \"GP\": 81, \"MIN\": 2607.2, \"FGM\": 421, \"FGA\": 864, \"3PM\": 58, \"3PA\": 181, \"FTM\": 55, \"FTA\": 92, \"TOV\": 105, \"PF\": 175, \"ORB\": 184, \"DRB\": 328, \"REB\": 512, \"AST\": 152, \"STL\": 135, \"BLK\": 36, \"PTS\": 955, \"birth_year\": 1988.0, \"height_cm\": 203.0, \"weight_kg\": 100.0, \"Pos_enc\": 4, \"Preds\": \"PF\"}]}}, {\"mode\": \"vega-lite\"});\n</script>",
      "text/plain": "alt.Chart(...)"
     },
     "metadata": {}
    }
   ],
   "execution_count": null
  },
  {
   "cell_type": "markdown",
   "source": "## Summary\nTaking player seasonal stats, height, and weight we attempted to predict NBA positions by classification. Some NBA positions are easier to predict than others. ",
   "metadata": {
    "cell_id": "00035-6de7b0d2-79ca-4d05-8285-523fac3ded1c",
    "tags": [],
    "deepnote_cell_type": "markdown",
    "deepnote_cell_height": 130.796875
   }
  },
  {
   "cell_type": "markdown",
   "source": "## References\n\nInclude references that you found helpful.  Also say where you found the dataset you used.",
   "metadata": {
    "cell_id": "00036-75b3f495-0c34-4303-8ee0-ae740b0c901a",
    "tags": [],
    "deepnote_cell_type": "markdown",
    "deepnote_cell_height": 108.390625
   }
  },
  {
   "cell_type": "markdown",
   "source": "**Dataframes used from Kaggle**\n\n\nBasketball Players Stats per Season - 49 Leagues [found here](https://www.kaggle.com/jacobbaruch/basketball-players-stats-per-season-49-leagues).\n\nNBA Player Stats 2017-2018 [found here](https://www.kaggle.com/mcamli/nba17-18?select=nba.csv). \n",
   "metadata": {
    "cell_id": "00037-2b4a3263-cc0f-4892-a873-a138461b1997",
    "tags": [],
    "deepnote_cell_type": "markdown",
    "deepnote_cell_height": 125.1875
   }
  },
  {
   "cell_type": "markdown",
   "source": "<a style='text-decoration:none;line-height:16px;display:flex;color:#5B5B62;padding:10px;justify-content:end;' href='https://deepnote.com?utm_source=created-in-deepnote-cell&projectId=5ea705d8-ef20-4907-b1ee-133b5616033e' target=\"_blank\">\n<img alt='Created in deepnote.com' style='display:inline;max-height:16px;margin:0px;margin-right:7.5px;' src='data:image/svg+xml;base64,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' > </img>\nCreated in <span style='font-weight:600;margin-left:4px;'>Deepnote</span></a>",
   "metadata": {
    "tags": [],
    "created_in_deepnote_cell": true,
    "deepnote_cell_type": "markdown"
   }
  }
 ],
 "nbformat": 4,
 "nbformat_minor": 4,
 "metadata": {
  "deepnote": {
   "is_reactive": false
  },
  "deepnote_execution_queue": [],
  "deepnote_notebook_id": "10c769e8-f99b-4dcb-951b-210696ba0b51",
  "kernelspec": {
   "display_name": "Python 3 (ipykernel)",
   "language": "python",
   "name": "python3"
  },
  "language_info": {
   "codemirror_mode": {
    "name": "ipython",
    "version": 3
   },
   "file_extension": ".py",
   "mimetype": "text/x-python",
   "name": "python",
   "nbconvert_exporter": "python",
   "pygments_lexer": "ipython3",
   "version": "3.8.12"
  }
 }
}